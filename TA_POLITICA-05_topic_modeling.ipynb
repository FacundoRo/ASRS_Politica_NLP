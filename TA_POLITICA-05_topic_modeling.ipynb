{
 "cells": [
  {
   "cell_type": "markdown",
   "metadata": {},
   "source": [
    "---\n",
    "### **NOTA:** Toda la información producida durante el proyecto esta disponible en **https://drive.google.com/drive/folders/1v6ttK1kLlbDPv3gwIl_qY6QtO9HhZjMk?usp=sharing** el drive de Google: las bases de datos con los tweets descargados y procesados se encuentran como **archivos CSV** zipeados, asi como tambien los modelos de NLP (serializados con pickle).\n",
    "---\n",
    "# **TA_POLITICA-05_topic_modeling.ipynb**\n",
    ">## ENTRADA:\n",
    ">## **\"all_tweets_db.csv\"**  (drive: **all_tweets_db.zip** ) Todos los tweets en un solo dataframe\n",
    "---\n",
    ">## SALIDA:\n",
    ">## **modelos serializados**"
   ]
  },
  {
   "cell_type": "code",
   "execution_count": 1,
   "metadata": {},
   "outputs": [
    {
     "name": "stdout",
     "output_type": "stream",
     "text": [
      "3.7.7\n"
     ]
    }
   ],
   "source": [
    "from platform import python_version\n",
    "print(python_version())"
   ]
  },
  {
   "cell_type": "code",
   "execution_count": 2,
   "metadata": {},
   "outputs": [
    {
     "data": {
      "text/plain": [
       "'3.7.7 (default, Apr 15 2020, 05:09:04) [MSC v.1916 64 bit (AMD64)]'"
      ]
     },
     "execution_count": 2,
     "metadata": {},
     "output_type": "execute_result"
    }
   ],
   "source": [
    "import pandas as pd\n",
    "import json\n",
    "import re\n",
    "import sys\n",
    "import time\n",
    "import random\n",
    "import pickle\n",
    "from datetime import datetime,timedelta, date\n",
    "sys.version"
   ]
  },
  {
   "cell_type": "code",
   "execution_count": 3,
   "metadata": {},
   "outputs": [
    {
     "name": "stderr",
     "output_type": "stream",
     "text": [
      "[nltk_data] Downloading package stopwords to\n",
      "[nltk_data]     C:\\Users\\Facundo\\AppData\\Roaming\\nltk_data...\n",
      "[nltk_data]   Package stopwords is already up-to-date!\n",
      "[nltk_data] Downloading package wordnet to\n",
      "[nltk_data]     C:\\Users\\Facundo\\AppData\\Roaming\\nltk_data...\n",
      "[nltk_data]   Package wordnet is already up-to-date!\n"
     ]
    }
   ],
   "source": [
    "import numpy as np\n",
    "import matplotlib.pyplot as plt\n",
    "import seaborn as sns\n",
    "import warnings\n",
    "from collections import Counter\n",
    "\n",
    "# Gensim\n",
    "import gensim\n",
    "from gensim.models.ldamodel import LdaModel\n",
    "import gensim.corpora as corpora\n",
    "from gensim.models import CoherenceModel\n",
    "# NLTK\n",
    "import nltk\n",
    "from nltk.corpus import stopwords\n",
    "from nltk.stem import SnowballStemmer\n",
    "from nltk import word_tokenize\n",
    "nltk.download( 'stopwords' )\n",
    "nltk.download( 'wordnet' )\n",
    "\n",
    "\n",
    "\n",
    "# spacy\n",
    "import spacy\n",
    "from spacy_spanish_lemmatizer import SpacyCustomLemmatizer\n",
    "# Ploteo\n",
    "import pyLDAvis\n",
    "\n",
    "from wordcloud import WordCloud, STOPWORDS, ImageColorGenerator"
   ]
  },
  {
   "cell_type": "markdown",
   "metadata": {},
   "source": [
    "### Cargamos el indice de politicos **\"politicosdb.csv\"**"
   ]
  },
  {
   "cell_type": "code",
   "execution_count": 4,
   "metadata": {},
   "outputs": [
    {
     "name": "stdout",
     "output_type": "stream",
     "text": [
      "Wall time: 8.96 ms\n"
     ]
    },
    {
     "data": {
      "text/html": [
       "<div>\n",
       "<style scoped>\n",
       "    .dataframe tbody tr th:only-of-type {\n",
       "        vertical-align: middle;\n",
       "    }\n",
       "\n",
       "    .dataframe tbody tr th {\n",
       "        vertical-align: top;\n",
       "    }\n",
       "\n",
       "    .dataframe thead th {\n",
       "        text-align: right;\n",
       "    }\n",
       "</style>\n",
       "<table border=\"1\" class=\"dataframe\">\n",
       "  <thead>\n",
       "    <tr style=\"text-align: right;\">\n",
       "      <th></th>\n",
       "      <th>id</th>\n",
       "      <th>screen_name</th>\n",
       "      <th>nombre</th>\n",
       "      <th>partido</th>\n",
       "      <th>nombre_partido</th>\n",
       "      <th>orientacion</th>\n",
       "      <th>total_tweets</th>\n",
       "      <th>tweets</th>\n",
       "      <th>fecha_creado</th>\n",
       "      <th>fecha_min</th>\n",
       "      <th>descripcion</th>\n",
       "      <th>num_seguidores</th>\n",
       "    </tr>\n",
       "  </thead>\n",
       "  <tbody>\n",
       "    <tr>\n",
       "      <th>20</th>\n",
       "      <td>63195697</td>\n",
       "      <td>@RichardArcePeru</td>\n",
       "      <td>Richard Arce</td>\n",
       "      <td>np</td>\n",
       "      <td>nuevo peru</td>\n",
       "      <td>izq</td>\n",
       "      <td>10169</td>\n",
       "      <td>5535</td>\n",
       "      <td>2009-08-05</td>\n",
       "      <td>2009-07-29</td>\n",
       "      <td>Ex congresista de la República por el departam...</td>\n",
       "      <td>22803</td>\n",
       "    </tr>\n",
       "    <tr>\n",
       "      <th>66</th>\n",
       "      <td>4878461206</td>\n",
       "      <td>@Pedro_Olaechea</td>\n",
       "      <td>Pedro Olaechea</td>\n",
       "      <td>fp</td>\n",
       "      <td>fuerza popular</td>\n",
       "      <td>der</td>\n",
       "      <td>2885</td>\n",
       "      <td>2834</td>\n",
       "      <td>2016-02-05</td>\n",
       "      <td>2016-01-06</td>\n",
       "      <td>Mi experiencia está al servicio del Perú. Expr...</td>\n",
       "      <td>56216</td>\n",
       "    </tr>\n",
       "    <tr>\n",
       "      <th>11</th>\n",
       "      <td>318065421</td>\n",
       "      <td>@MirtyVas</td>\n",
       "      <td>Mirtha Vásquez</td>\n",
       "      <td>fa</td>\n",
       "      <td>frente amplio</td>\n",
       "      <td>izq</td>\n",
       "      <td>773</td>\n",
       "      <td>772</td>\n",
       "      <td>2011-06-15</td>\n",
       "      <td>2011-12-16</td>\n",
       "      <td>Congresista del Frente Amplio por Cajamarca y ...</td>\n",
       "      <td>2493</td>\n",
       "    </tr>\n",
       "    <tr>\n",
       "      <th>71</th>\n",
       "      <td>67978697</td>\n",
       "      <td>@rosamariabartra</td>\n",
       "      <td>Rosa María Bartra</td>\n",
       "      <td>fp</td>\n",
       "      <td>fuerza popular</td>\n",
       "      <td>der</td>\n",
       "      <td>8306</td>\n",
       "      <td>5171</td>\n",
       "      <td>2009-08-22</td>\n",
       "      <td>2009-06-09</td>\n",
       "      <td>Abog, Quim. Farmacéutica, Docente.\\nHija d Gri...</td>\n",
       "      <td>45047</td>\n",
       "    </tr>\n",
       "    <tr>\n",
       "      <th>30</th>\n",
       "      <td>1192891723</td>\n",
       "      <td>@geluseg</td>\n",
       "      <td>German Luna Segura</td>\n",
       "      <td>apra</td>\n",
       "      <td>apra</td>\n",
       "      <td>der</td>\n",
       "      <td>2022</td>\n",
       "      <td>2022</td>\n",
       "      <td>2013-02-18</td>\n",
       "      <td>2013-02-18</td>\n",
       "      <td>Analista y escritor.</td>\n",
       "      <td>446</td>\n",
       "    </tr>\n",
       "  </tbody>\n",
       "</table>\n",
       "</div>"
      ],
      "text/plain": [
       "            id       screen_name              nombre partido  nombre_partido  \\\n",
       "20    63195697  @RichardArcePeru        Richard Arce      np      nuevo peru   \n",
       "66  4878461206   @Pedro_Olaechea      Pedro Olaechea      fp  fuerza popular   \n",
       "11   318065421         @MirtyVas      Mirtha Vásquez      fa   frente amplio   \n",
       "71    67978697  @rosamariabartra   Rosa María Bartra      fp  fuerza popular   \n",
       "30  1192891723          @geluseg  German Luna Segura    apra            apra   \n",
       "\n",
       "   orientacion  total_tweets  tweets fecha_creado   fecha_min  \\\n",
       "20         izq         10169    5535   2009-08-05  2009-07-29   \n",
       "66         der          2885    2834   2016-02-05  2016-01-06   \n",
       "11         izq           773     772   2011-06-15  2011-12-16   \n",
       "71         der          8306    5171   2009-08-22  2009-06-09   \n",
       "30         der          2022    2022   2013-02-18  2013-02-18   \n",
       "\n",
       "                                          descripcion  num_seguidores  \n",
       "20  Ex congresista de la República por el departam...           22803  \n",
       "66  Mi experiencia está al servicio del Perú. Expr...           56216  \n",
       "11  Congresista del Frente Amplio por Cajamarca y ...            2493  \n",
       "71  Abog, Quim. Farmacéutica, Docente.\\nHija d Gri...           45047  \n",
       "30                               Analista y escritor.             446  "
      ]
     },
     "execution_count": 4,
     "metadata": {},
     "output_type": "execute_result"
    }
   ],
   "source": [
    "%%time\n",
    "db_politicos_csv = \"politicosdb.csv\"\n",
    "politicosdb_df = pd.read_csv(db_politicos_csv )\n",
    "politicosdb_df.sample(5)"
   ]
  },
  {
   "cell_type": "markdown",
   "metadata": {},
   "source": [
    "### Cargamos **\"all_tweets_db.csv\"** ( tweets anotados con el target : **\"orientacion\"** y **\"partido\"**)"
   ]
  },
  {
   "cell_type": "code",
   "execution_count": 5,
   "metadata": {},
   "outputs": [
    {
     "name": "stdout",
     "output_type": "stream",
     "text": [
      "Wall time: 2.37 s\n"
     ]
    },
    {
     "data": {
      "text/html": [
       "<div>\n",
       "<style scoped>\n",
       "    .dataframe tbody tr th:only-of-type {\n",
       "        vertical-align: middle;\n",
       "    }\n",
       "\n",
       "    .dataframe tbody tr th {\n",
       "        vertical-align: top;\n",
       "    }\n",
       "\n",
       "    .dataframe thead th {\n",
       "        text-align: right;\n",
       "    }\n",
       "</style>\n",
       "<table border=\"1\" class=\"dataframe\">\n",
       "  <thead>\n",
       "    <tr style=\"text-align: right;\">\n",
       "      <th></th>\n",
       "      <th>Date</th>\n",
       "      <th>text_prep</th>\n",
       "      <th>orientacion</th>\n",
       "      <th>partido</th>\n",
       "      <th>text_tok</th>\n",
       "    </tr>\n",
       "  </thead>\n",
       "  <tbody>\n",
       "    <tr>\n",
       "      <th>551077</th>\n",
       "      <td>2011-07-16</td>\n",
       "      <td>avada kedavra</td>\n",
       "      <td>izq</td>\n",
       "      <td>nul</td>\n",
       "      <td>[avada, kedavra]</td>\n",
       "    </tr>\n",
       "    <tr>\n",
       "      <th>7401</th>\n",
       "      <td>2015-06-04</td>\n",
       "      <td>posible buscamos espacio acomode agendas</td>\n",
       "      <td>cen</td>\n",
       "      <td>ap</td>\n",
       "      <td>[posible, buscamos, espacio, acomode, agendas]</td>\n",
       "    </tr>\n",
       "    <tr>\n",
       "      <th>486567</th>\n",
       "      <td>2015-09-10</td>\n",
       "      <td>fenomeno niño viene sigue aguantando fondos go...</td>\n",
       "      <td>izq</td>\n",
       "      <td>fa</td>\n",
       "      <td>[fenomeno, niño, viene, sigue, aguantando, fon...</td>\n",
       "    </tr>\n",
       "    <tr>\n",
       "      <th>394655</th>\n",
       "      <td>2015-12-30</td>\n",
       "      <td>petroleo diesel</td>\n",
       "      <td>cder</td>\n",
       "      <td>app</td>\n",
       "      <td>[petroleo, diesel]</td>\n",
       "    </tr>\n",
       "    <tr>\n",
       "      <th>533249</th>\n",
       "      <td>2013-08-07</td>\n",
       "      <td>acabo desayunar tajada pizza media coca cola s...</td>\n",
       "      <td>izq</td>\n",
       "      <td>nul</td>\n",
       "      <td>[acabo, desayunar, tajada, pizza, media, coca,...</td>\n",
       "    </tr>\n",
       "    <tr>\n",
       "      <th>292528</th>\n",
       "      <td>2014-07-02</td>\n",
       "      <td>patologias obstetricas incluidas protocolo abo...</td>\n",
       "      <td>der</td>\n",
       "      <td>fp</td>\n",
       "      <td>[patologias, obstetricas, incluidas, protocolo...</td>\n",
       "    </tr>\n",
       "    <tr>\n",
       "      <th>430636</th>\n",
       "      <td>2019-06-24</td>\n",
       "      <td>sobrino milagros salazar solo estudios secunda...</td>\n",
       "      <td>izq</td>\n",
       "      <td>nul</td>\n",
       "      <td>[sobrino, milagros, salazar, solo, estudios, s...</td>\n",
       "    </tr>\n",
       "    <tr>\n",
       "      <th>556058</th>\n",
       "      <td>2020-2-1</td>\n",
       "      <td>arlette contreras lucha violencia mujer partidos</td>\n",
       "      <td>izq</td>\n",
       "      <td>nul</td>\n",
       "      <td>[arlette, contreras, lucha, violencia, mujer, ...</td>\n",
       "    </tr>\n",
       "    <tr>\n",
       "      <th>92168</th>\n",
       "      <td>2015-01-20</td>\n",
       "      <td>caviarada trabajo bajo ordenes montesinos haci...</td>\n",
       "      <td>der</td>\n",
       "      <td>fp</td>\n",
       "      <td>[caviarada, trabajo, bajo, ordenes, montesinos...</td>\n",
       "    </tr>\n",
       "    <tr>\n",
       "      <th>339201</th>\n",
       "      <td>2018-8-5</td>\n",
       "      <td>contratistas corruptos odebrecht roban ademas ...</td>\n",
       "      <td>der</td>\n",
       "      <td>fp</td>\n",
       "      <td>[contratistas, corruptos, odebrecht, roban, ad...</td>\n",
       "    </tr>\n",
       "  </tbody>\n",
       "</table>\n",
       "</div>"
      ],
      "text/plain": [
       "              Date                                          text_prep  \\\n",
       "551077  2011-07-16                                      avada kedavra   \n",
       "7401    2015-06-04           posible buscamos espacio acomode agendas   \n",
       "486567  2015-09-10  fenomeno niño viene sigue aguantando fondos go...   \n",
       "394655  2015-12-30                                    petroleo diesel   \n",
       "533249  2013-08-07  acabo desayunar tajada pizza media coca cola s...   \n",
       "292528  2014-07-02  patologias obstetricas incluidas protocolo abo...   \n",
       "430636  2019-06-24  sobrino milagros salazar solo estudios secunda...   \n",
       "556058    2020-2-1   arlette contreras lucha violencia mujer partidos   \n",
       "92168   2015-01-20  caviarada trabajo bajo ordenes montesinos haci...   \n",
       "339201    2018-8-5  contratistas corruptos odebrecht roban ademas ...   \n",
       "\n",
       "       orientacion partido                                           text_tok  \n",
       "551077         izq     nul                                   [avada, kedavra]  \n",
       "7401           cen      ap     [posible, buscamos, espacio, acomode, agendas]  \n",
       "486567         izq      fa  [fenomeno, niño, viene, sigue, aguantando, fon...  \n",
       "394655        cder     app                                 [petroleo, diesel]  \n",
       "533249         izq     nul  [acabo, desayunar, tajada, pizza, media, coca,...  \n",
       "292528         der      fp  [patologias, obstetricas, incluidas, protocolo...  \n",
       "430636         izq     nul  [sobrino, milagros, salazar, solo, estudios, s...  \n",
       "556058         izq     nul  [arlette, contreras, lucha, violencia, mujer, ...  \n",
       "92168          der      fp  [caviarada, trabajo, bajo, ordenes, montesinos...  \n",
       "339201         der      fp  [contratistas, corruptos, odebrecht, roban, ad...  "
      ]
     },
     "execution_count": 5,
     "metadata": {},
     "output_type": "execute_result"
    }
   ],
   "source": [
    "%%time\n",
    "all_tweets_df = pd.read_csv(\"all_tweets_db.csv\",keep_default_na=False )\n",
    "#agregamos una text_tokens\n",
    "all_tweets_df['text_tok']=all_tweets_df.text_prep.apply(lambda txt:txt.split())\n",
    "all_tweets_df.sample(10)"
   ]
  },
  {
   "cell_type": "markdown",
   "metadata": {},
   "source": [
    "## Distribución de todos los tweets por fechas"
   ]
  },
  {
   "cell_type": "code",
   "execution_count": 6,
   "metadata": {},
   "outputs": [
    {
     "data": {
      "text/plain": [
       "<matplotlib.axes._subplots.AxesSubplot at 0x230af1aca08>"
      ]
     },
     "execution_count": 6,
     "metadata": {},
     "output_type": "execute_result"
    },
    {
     "data": {
      "image/png": "[encoded data removed]",
      "text/plain": [
       "<Figure size 792x432 with 1 Axes>"
      ]
     },
     "metadata": {
      "needs_background": "light"
     },
     "output_type": "display_data"
    }
   ],
   "source": [
    "plt.figure(figsize=(11,6))\n",
    "sns.countplot(all_tweets_df.Date.str[0:4] , color=(.42,.42,.52))"
   ]
  },
  {
   "cell_type": "code",
   "execution_count": null,
   "metadata": {},
   "outputs": [],
   "source": []
  },
  {
   "cell_type": "markdown",
   "metadata": {},
   "source": [
    "## TOPIC MODELING WITH LDA"
   ]
  },
  {
   "cell_type": "code",
   "execution_count": 7,
   "metadata": {},
   "outputs": [
    {
     "data": {
      "text/plain": [
       "0         [harry, potter, cumple, años, hace, años, escr...\n",
       "1         [2020, cambiar, logo, empresa, colores, arco, ...\n",
       "2         [saboteado, votacion, dejando, debate, elimina...\n",
       "3         [congresista, agradecio, organizaciones, viene...\n",
       "4         [intervencion, debate, paridad, alternancia, i...\n",
       "                                ...                        \n",
       "639254         [mete, autogoles, cualquier, equipo, futbol]\n",
       "639255                                       [correcaminos]\n",
       "639256    [cuenta, fujitroll, busca, copiarse, francamen...\n",
       "639257                                       [ayer, verdad]\n",
       "639258    [tendencia, carla, garcia, consiguio, trabajo,...\n",
       "Name: text_tok, Length: 639259, dtype: object"
      ]
     },
     "execution_count": 7,
     "metadata": {},
     "output_type": "execute_result"
    }
   ],
   "source": [
    "all_tweets_df.text_tok"
   ]
  },
  {
   "cell_type": "markdown",
   "metadata": {},
   "source": [
    "## Creamos bigramas y trigramas y los guardamos con *pickle*"
   ]
  },
  {
   "cell_type": "code",
   "execution_count": 12,
   "metadata": {},
   "outputs": [
    {
     "name": "stdout",
     "output_type": "stream",
     "text": [
      "Wall time: 2min 19s\n"
     ]
    }
   ],
   "source": [
    "%%time\n",
    "serie_tmp=all_tweets_df.text_tok\n",
    "bigram = gensim.models.Phrases(serie_tmp) #, min_count=5, threshold=100)\n",
    "trigram = gensim.models.Phrases(bigram[serie_tmp]) #, threshold=100)  \n",
    "\n",
    "# Una forma más rápida de conseguir trigrama/bigrama \n",
    "bigram_mod = gensim.models.phrases.Phraser(bigram)\n",
    "trigram_mod = gensim.models.phrases.Phraser(trigram)"
   ]
  },
  {
   "cell_type": "code",
   "execution_count": 13,
   "metadata": {},
   "outputs": [],
   "source": [
    "with open(\"gensim_bigram_model_Phraser.zip\",\"wb\") as f:\n",
    "    pickle.dump(bigram_mod,f)\n",
    "with open(\"gensim_trigram_model_Phraser.zip\",\"wb\") as f: \n",
    "    pickle.dump(trigram_mod,f)    "
   ]
  },
  {
   "cell_type": "markdown",
   "metadata": {},
   "source": [
    "## PODEMOS CONTINUAR DESDE ACA CARGANDO CIERTOS MODELOS YA PRODUCIDOS"
   ]
  },
  {
   "cell_type": "code",
   "execution_count": 11,
   "metadata": {},
   "outputs": [],
   "source": [
    "#bigram_mod = gensim.models.phrases.Phraser(bigram)\n",
    "with open(\"gensim_bigram_model_Phraser.zip\",\"rb\") as f: \n",
    "    bigram_mod = pickle.load(f)\n",
    "with open(\"gensim_trigram_model_Phraser.zip\",\"rb\") as f: \n",
    "    trigram_mod = pickle.load(f)  "
   ]
  },
  {
   "cell_type": "code",
   "execution_count": 228,
   "metadata": {},
   "outputs": [
    {
     "name": "stdout",
     "output_type": "stream",
     "text": [
      "['alocucion', 'almirante_jorge', 'montoya', 'pocos', 'lideres', 'nacionales', 'habla', 'fuerte_claro', 'felicitaciones']\n",
      "['cobarde', 'vizcarra', 'quejandose', 'exigen', 'resolver_problemas', 'vienen', 'gobiernos_pasados', 'diferencia']\n",
      "['pueblo', 'decia', 'mismo', 'habia', 'escucharlo', 'cerraba', 'congreso']\n",
      "['podria', 'quejarse', 'gobierno', 'totalitarios', 'destruyan', 'imagenes', 'colon', 'latinoamerica']\n",
      "['especie', 'sexto', 'estilo', 'ágatha', 'dice', 'paridad_alternancia', 'desast']\n",
      "['victor_zamora', 'deje', 'momento', 'pensar', 'sueldo', 'cobra', 'camarilla', 'asesores', 'izquierda']\n",
      "['martin_vizcarra', 'camas', 'pasar', 'fines_junio', 'camas', 'segun', 'sala_situacional']\n",
      "['marc', 'anthony', 'david', 'beckham', 'donaron', 'construccion', 'albergue', 'niños_cancer', 'peru']\n",
      "['ayer', 'pdte', 'dijo', 'casi', 'gritando', 'perú', 'fracasado', 'cierto', 'sobrevive', 'gracias', 'propio', 'cuidado', 'caer']\n",
      "['luego', 'meses', 'profugo', 'comunista', 'gregorio_santos', 'capturado', 'socio', 'veronika_mendoza', 'tendra', 'cumplir_condena']\n",
      "['vizcarra', 'necesitaba', 'crearse', 'nuevo', 'enemigo', 'tapar', 'desastre_gestion', 'señalo', 'periodista']\n",
      "['ahora', 'vizcarra', 'saca', 'lado', 'chavista', 'amenaza', 'estatizar_clinicas', 'comercio', 'dice', 'unica', 'curva']\n",
      "['mentirilla', 'peru', 'gestiona', 'china', 'compra', 'famoso', 'hospital', 'prefabricado', 'camas', 'construyo']\n",
      "['delito', 'seras', 'juzgado', 'apenas', 'dejes', 'gobierno', 'julio', 'seras', 'sometido']\n",
      "['tres', 'raya']\n",
      "['metan_preso', 'incapaz', 'miles_muertos', 'gestion', 'ahora', 'contar', 'camas', 'ajenas', 'preocupa']\n",
      "['cuadra', 'aqui', 'vizcarra', 'dice', 'bien', 'camas_disponibles', 'desbordados']\n",
      "['continua', 'fuerza', 'persecucion', 'odebrecht', 'unico', 'fiscal', 'pide_investigar', 'empresa_corrupta']\n",
      "['arreglo', 'impase', 'ejecutivo', 'clinicas', 'historia', 'concluida', 'sicosocial', 'desinflado', 'documento', 'hace']\n",
      "['intentar', 'mantener', 'buenas_relaciones', 'comunista', 'cortejar', 'cocodrilo', 'abre_boca', 'puedes']\n",
      "['negocio', 'socio_odebrecht', 'recibio', 'millonario', 'empujoncito']\n",
      "['excelente_explicacion', 'natale_amprimo', 'articulo_constitucion', 'demuestra', 'vizcarra', 'enca']\n",
      "['periodistas', 'activistas', 'antifujis', 'culpando', 'malo', 'fujimori', 'pasado', 'varios', 'gobie']\n",
      "['gobierno', 'marcha_atras', 'solucionado', 'clinicas', 'daño_hecho', 'hace_rato', 'comunid']\n",
      "['enemigo', 'mineras', 'enemigo', 'congreso', 'enemigo_enemigo', 'farmaceuticas', 'enemigo']\n",
      "['minutos', 'habria', 'darle', 'apoderado', 'grañaymontero', 'moquegua', 'deje', 'palacio', 'nadie_eligio', 'inutil', 'vinculado']\n",
      "['ministro', 'perversos', 'pudieron', 'haber_salvado', 'miles_vidas', 'mayo', 'southern', 'peru', 'comprometio']\n",
      "['padre_raymundo', 'vicariato_iquitos', 'organizaron', 'colecta', 'resultado', 'ello', 'compraron', 'plantas_oxigeno']\n",
      "['indigna', 'muertos', 'ineficiencia', 'tratar', 'ideologizar', 'salud', 'vida', 'cargara', 'espaldas']\n",
      "['realidad', 'grave', 'tratar', 'ocultarla', 'creado', 'cortinas_humo', 'seguidas', 'primero', 'negri']\n",
      "['lobo_feroz', 'acreedor', 'indecopi']\n",
      "['izquierda', 'narcochavista', 'frente_amplio', 'fracasado', 'sabe', 'culpar', 'unico']\n",
      "['resulta', 'remedo', 'presidente_martin', 'vizcarra', 'ponerle', 'cortinaza', 'humo', 'fracasada', 'lucha']\n",
      "['ministro', 'muerte', 'zamora', 'pretende', 'recomendar', 'clinicas_privadas', 'actuar']\n",
      "['solo', 'imbeciles', 'saben', 'derecho_constitucional', 'pueden_haber', 'aconsejado', 'vizcarra', 'amenace', 'clinicas', 'privad']\n",
      "['creo', 'ebrio', 'pasmarote', 'hablo', 'incoherencias', 'solucionamos', 'capt']\n",
      "['vizcarra', 'quiere', 'expropiar_clinicas', 'acto_ilegal', 'nunca_quiso', 'embargar', 'propiedades', 'odebrecht', 'acto']\n",
      "['demagogia', 'cuento', 'bien', 'armado', 'acuerdo_clinicas', 'vizcarra', 'usando', 'politicamente', 'prensa_basura', 'seguira', 'cuento', 'tontos', 'ayayeros', 'celebraran']\n",
      "['buena']\n",
      "['peru', 'pais', 'desgraciado', 'izquierda', 'irresponsable', 'parasitaria', 'derecha', 'patria', 'veni']\n",
      "['impresentable', 'debe_tener', 'muchas_razones', 'odiar', 'mujeres', 'envidiarlas']\n",
      "['falta', 'vizcarra', 'culpe', 'clinicas_privadas', 'fracaso_estrategia', 'salud', 'pandemia', 'justificar', 'idea', 'expropiatoria', 'propiedad', 'empezo', 'chavismo', 'rojerio', 'aplaude', 'luego', 'seran', 'colegios', 'bancos', 'esyamos', 'avisados']\n",
      "['sabe', 'hinostroza', 'opuso', 'lcompra', 'pruebas_rapidas', 'moda', 'espa']\n",
      "['decenas', 'medicos', 'fallecidos_contagiados', 'dedicacion', 'pacientes', 'idea', 'caricaturista']\n",
      "['queda', 'cobarde', 'atorrante', 'solo', 'huir', 'prensa', 'cuestiona']\n",
      "['deberia', 'portada', 'diarios', 'premier_vicente', 'zeballos', 'escapa', 'rata', 'luego', 'increpado']\n",
      "['millones_mascarillas', 'millones', 'ventiladores', 'sirven', 'millones', 'policia', 'protegieron']\n",
      "['plena_pandemia', 'peru', 'mueren', 'recien_nacidos', 'falta_oxigeno', 'gobierno']\n",
      "['zamora', 'afirma', 'gobierno', 'prepara', 'eventual', 'rebrote', 'rebrote', 'incapaz', 'desaparecieron', 'disminuy']\n",
      "['palacio', 'estan_registrados', 'reporteros', 'distintos_medios', 'señor', 'solo', 'permi']\n",
      "['discurso', 'zurdos', 'agota', 'aceptan', 'funcionarios', 'gobiernos', 'derecha_neoliberal', 'garcia_sayan']\n",
      "['unidos', 'ventil', 'confiep', 'ventil', 'buenaventura', 'planta', 'credicorp', '140000', 'mascarillas', 'labor', 'farm']\n",
      "['presuntos', 'casos_corrupcion', 'incrementaron', 'cuarentena', 'segun', 'fiscalia']\n",
      "['lider_campesino', 'socialista', 'hijo_puta', 'mato', 'policia', 'placer']\n",
      "['cambiarle_nombre', 'productos', 'negrita', 'enseñemosle', 'niños', 'sentirse', 'orgullosos']\n",
      "['paises', 'dictatoriales', 'norma', 'mentira', 'desinformacion', 'tratar', 'respectivos', 'pueblos']\n",
      "['solo', 'fracaso', 'gestion', 'vizcarra']\n",
      "['trump', 'hizo', 'peru', 'vizcarra']\n",
      "['dias', 'terror', 'presidio', 'muerte_destruccion', 'economia_peruana', 'abuso', 'propiedad_privada', 'destruccion']\n",
      "['gracias', 'presidente', 'peru', 'recibe', 'donacion', 'ventiladores_mecanicos', 'dicen', 'comunis']\n",
      "['habra', 'conferencia', 'vizcarra', 'hara', 'balance', 'prepararnos', 'horas', 'mentiras', 'dira', 'ejemplo']\n",
      "['cuba', 'manipula', 'peru']\n",
      "['afortunados', 'millon', 'productora', 'cine', 'primer_mundo', 'soles', 'react']\n",
      "['apologia_terrorismo', 'mire', 'financia', 'cosas']\n",
      "['exministro_salud', 'abel_salinas', 'desmintio', 'victor_zamora', 'pues', 'informacion_oficial', 'sala_situacional', 'indica']\n",
      "['buenos_dias', 'peru', 'cuarentena', 'segunda_edicion', 'menu21', 'recuento', '101dias', 'despilfarro']\n",
      "['reaparecio', 'delincuente', 'maltratador_mujeres', 'meon', 'espero', 'usando', 'pañales']\n",
      "['vulgar', 'agresor', 'davelouis', 'nuevamente', 'salio', 'escribir', 'mejor_manera', 'marketearse', 'hablando', 'alberto_fujimori']\n",
      "['martin_vizcarra', 'vendra', 'marear', 'cifras', 'engañar', 'tribuna', 'adormecida', 'prensa', 'falta']\n",
      "['doble', 'imitacion', 'ultimamente', 'iluminacion', 'permanente', 'voto', 'dure']\n",
      "['pregunto', 'recontrapregunto', 'tipejo', 'ingreso', 'escuela', 'oficiales', 'llegando', 'gral']\n",
      "['felicitaciones']\n",
      "['segunda_parte']\n",
      "['respuesta', 'ministerio_cultura']\n",
      "['medio_crisis', 'clamorosa', 'errores', 'descomunales', 'corrupcion', 'mentiras', 'escalofriantes', 'marchas_contramarchas', 'llegamo']\n",
      "['tremenda_patinada', 'parece', 'persecucion', 'cualquier', 'cante', 'sonsonete', 'gobierno', 'mision']\n",
      "['vizcarra', 'historia', 'juzgar', 'decisiones', 'tomamos', 'enterese', 'presidente', 'historia', 'juzgo']\n",
      "['eeuu_donan', 'ventiladores', 'peru', 'noticia', 'pasa_desapercibida', 'comunistas_cubanos', 'vienen', 'hacer_finta']\n",
      "['partido', 'parece', 'negocio', 'piramidal', 'multinivel', 'jactaba', 'tener', 'cuadros']\n",
      "['merecen', 'peruanos', 'fallecidos', 'gobierno', 'declare', 'acaso', 'todas']\n",
      "['trump', 'hecho', 'peru', 'tira', 'ineptos', 'vizcarra_zamora', 'trump', 'mandado', 'respiradores']\n",
      "['great', 'arizona']\n",
      "[]\n",
      "['irregularidades', 'detectados', 'prestamos', 'otorgados', 'bancos', 'programa_reactiva', 'peru', 'supervisi']\n",
      "['martin_vizcarra', 'historia', 'juzgar', 'decisiones', 'tomamos', 'creo', 'seran', 'historiadores']\n",
      "['contraloria', 'hogares', 'situacion_pobreza', 'pobreza_extrema', 'incluidos', 'padron', 'hogares', 'bene']\n",
      "['familia', 'mujer', 'represento', 'marca', 'aunt', 'jemima', 'opone', 'cambio', 'imagen', 'considerada', 'heroina']\n",
      "['cosa', 'ministerio_cultura', 'aprueba', 'financia', 'terroristas', 'impuestos', 'vizcarrata']\n",
      "['debe', 'confundir', 'verdad', 'opinion', 'mayoria', 'jean', 'cocteau']\n",
      "['deberia', 'sacar', 'comunicado', 'solo', 'pasaron', 'ningun_comentario', 'agradecimiento', 'donacion']\n",
      "['premier_zeballos', 'cuadras', 'hospital', 'mellizos', 'murieron', 'falta_oxigeno']\n",
      "['alcaldes', 'mancomunidad', 'centro_lima', 'practicamente', 'dicen', 'deje', 'mandarles', 'diviac', 'fiscalia']\n",
      "['cifras', 'exceso', 'mortalidad', 'mundo', 'peru', 'dolorosas', 'cifras', 'alta']\n",
      "['crónicas', 'administración', 'municipal_corrupta', 'gobierno', 'edil_susana', 'villarán_puente', 'abeja']\n",
      "[]\n",
      "['ejecutivo', 'tomo', 'casi_meses', 'intervenir', 'mercados', 'fuentes', 'contagio', 'hizo', 'cifras', 'demostra']\n",
      "['camas_hospitalarias', 'camas', 'fines_junio', 'promesa_incumplida', 'martin_vizcarra', 'segun']\n",
      "['peruanos', 'trabajadores', 'peru', 'volvera', 'levantar', 'vizcarra', 'resto', 'culpables', 'tanta', 'muerte']\n",
      "['dimos', 'dias', 'ganen', 'tiempo', 'ganaron', 'coimas', 'compra']\n",
      "['pueblo', 'hace_sentir', 'calles', 'aguantan', 'gobienro', 'corrupto', 'martin', 'vuzcarra']\n",
      "['despues_haber', 'cumplido', 'cien_dias', 'trabajar', 'producir', 'haber', 'gastado', 'ahorros', 'sacado', 'parte']\n",
      "['dias_confinamiento', 'muertos_contagiados', 'millones_desempleados', 'miles', 'empresas', 'quebradas']\n",
      "['dictadura_vizcarrista', 'aprovecha', 'pandemia', 'desarrollar', 'ideologia', 'neocomunista', 'cayendo', 'desidia', 'frente']\n",
      "['cumplimos', 'dias_cuarentena', 'diseñada', 'vizcarra', 'comunistas', 'fracaso', 'rotundo']\n",
      "['dicen', 'cuarentena', 'salvo', 'vidas', 'creo', 'pienso', 'bueno', 'pudo', 'traer', 'cuarentena', 'borro']\n",
      "['firmo', 'ningun', 'acuerdo', 'ninguna', 'clinica', 'particular', 'horas', 'inepto', 'tenia']\n",
      "['mientras', 'grupusculo', 'delincuentes', 'alza', 'pais', 'peso', 'mediante', 'millonarias_consultorias']\n",
      "['cuentan', 'rojito', 'curwen', 'alucinaba', 'periodista', 'asesor_bancada', 'morada', 'terminan']\n",
      "['acabo_escuchar', 'entrevista', 'idea']\n",
      "['jefe', 'banco_central', 'reserva', 'pais', 'dice', 'peru', 'sufrira', 'peor_caida', 'economica', 'años']\n",
      "['jovenes', 'luchaban', 'cambiar_mundo', 'vivir', 'libertad', 'justicia', 'iban', 'guerra', 'daban']\n",
      "['madre', 'progresisismo', 'ahora', 'ofende', 'malditos', 'llorones']\n",
      "['veamos', 'oportunidad', 'cuantas_mujeres', 'negras', 'reconocidas', 'aporte', 'culinario', 'cuantos', 'platos', 'tipicos']\n",
      "['year', 'toddler', 'killed', 'gangbangers', 'there', 'reaction', 'black_lives', 'matter', 'antifa', 'where']\n",
      "['nurva', 'marca', 'acorde', 'tiempos']\n",
      "['nunca', 'percate', 'cuestiones', 'raza', 'tenia', 'frente', 'mazamorra', 'negrita', 'igual', 'tampoco', 'veia']\n",
      "['alicorp', 'espero', 'cambiar_nombre', 'negrita', 'chiste', 'marca', 'trasmite', 'caracteristicas', 'historia']\n",
      "['pasado_dias', 'encierro', 'populismo', 'sido_fracaso', 'corrupcion', 'demagogia', 'mediocridad', 'apropiado', 'peru']\n",
      "['humo', 'satanás', 'traves', 'abeja']\n",
      "['vizcarra', 'gobierno', 'pagar', 'caro', 'maldad', 'estan_haciendo', '1000', 'bebes', 'murieron', 'falta', 'incu']\n",
      "['gustaria', 'cualquier', 'evolucionista', 'ateo', 'explicara', 'origen', 'vida', 'momento', 'mater']\n",
      "['menos', 'gabinete', 'debe', 'caer', 'forma', 'entenderia', 'popular', 'desborde', 'vilentamente']\n",
      "['forma', 'biden', 'acerca', 'toca', 'niñas', 'parece', 'totalmente', 'asquerosa', 'repugnante']\n",
      "['cafe', 'negro', 'todavia', 'puede_decir', 'negro', 'ahora', 'solo', 'decir', 'cafe', 'leche']\n",
      "['roque_benavides', 'fracaso', 'gobierno', 'manejo_pandemia', 'cualquier_parte', 'mundo', 'congreso', 'interpelari']\n",
      "['paso', 'entrevista', 'milei', 'miren', 'deja', 'apabullado', 'marxiston', 'camuflado']\n",
      "['brutas', 'lado', 'guachafita', 'ademas', 'desinformada', 'compra', 'ropa', 'medicina', 'necesita']\n",
      "['federico_salazar', 'medidas', 'gobierno', 'llevaron_peor', 'crisis_economica', 'ultimo_siglo']\n",
      "['gobierno_mediocre', 'inepto', 'completo']\n",
      "['padre', 'foto', 'papá', 'abeja']\n",
      "['feliz_padre', 'aquellos', 'hombres', 'mucha', 'entrega', 'amor', 'asumido', 'enorme', 'tarea', 'cuidar']\n",
      "['gino_costa', 'alberto_belaunde', 'cobrado', 'emolumento', 'instalacion_nuevo', 'congreso', 'decir', 'segunda']\n",
      "['sujeto', 'dejo', 'drogas']\n",
      "['crímenes', 'colón', 'abeja']\n",
      "['democratas', 'ganan', 'poder', 'turba', 'saqueadores', 'estaran', 'cargo', 'nadie', 'estara', 'salvo', 'biden']\n",
      "['lima', 'hermosa', 'falta_planificacion', 'urbana', 'destruyo']\n",
      "['while', 'other', 'corporations', 'push', 'abortion', 'wendy', 'saves', 'kids', 'through', 'adoption', 'opinion', 'lifesite']\n",
      "['republicans', 'party', 'liberty', 'equality', 'justice', 'party', 'abraham_lincoln', 'party']\n",
      "['unico', 'bueno', 'dejado', 'epidemia', 'sabemos', 'gobierno', 'izquierda', 'neta', 'muerte']\n",
      "['realidad', 'hugo_blanco', 'asesino', 'arrepiente', 'crimenes', 'sonrie', 'celebra', 'imbecil', 'proterruco', 'zapata', 'camarada', 'mendoza', 'realidad']\n",
      "['george_washington', 'slave', 'owner', 'pres', 'trump', 'says', 'going', 'take', 'down', 'statues', 'george_washington']\n",
      "['pelicula', 'glorias', 'pacífico', 'muestra', 'accion', 'valerosos', 'verdaderos', 'héroes', 'defendieron']\n",
      "['pandemia', 'fiesta', 'crisis_economica', 'excita', 'habra', 'pobreza', 'clientes']\n",
      "['entonces', 'mayor_razon', 'escandalicese', 'regimen', 'vizcarrista']\n",
      "['senadores', 'impulsan', 'sanciones', 'receptores', 'medicos_cubanos']\n",
      "['fujimori_sentenciado', 'lesa_humanidad']\n",
      "['llegado_nivel', 'inversion', 'valores', 'acepta', 'pelicula', 'terrorista', 'puede', 'patrocinada']\n",
      "['brigadistas', 'cubanos', 'rindieron', 'tributo', 'maceo', 'peru', 'vienen', 'perú_médicos', 'cubanos']\n",
      "['hallaron', 'muerto', 'casa', 'custodios', 'cristina_kirchner']\n",
      "['watsamara', 'inda', 'nius', 'disponible', 'gracias']\n",
      "['favor', 'solo', 'firmar_difundir', 'aportar', 'dinero', 'muchas_gracias', 'poder_judicial', 'peru', 'atencion_medica', 'especializada']\n",
      "['vizcarra', 'estrategia', 'funcionando', 'estrategia', 'infectados']\n",
      "['rojos_infiltrado', 'circulos', 'culturales', 'proposito', 'difundir', 'basura_ideologica']\n",
      "['seudo', 'periodista', 'sigrid_bazan', 'deberia', 'despedida', 'respeto', 'periodistas', 'familiares', 'trabajaron', 'frec']\n",
      "['cuestion', 'derecha', 'srta', 'sigrid_bazan', 'quisiera_saber', 'pensaria', 'comodidad', 'lujos', 'acostu']\n",
      "['nuevo', 'presente', 'aguas_residuales', 'ciudades', 'italianas', 'milan', 'turin', 'diciembre']\n",
      "['premio', 'haber', 'traicionado', 'pais', 'lado_oscuro', 'organiza']\n",
      "['vicedecano_colegio', 'medico', 'peru', 'reprocho', 'huerta', 'haber', 'cuestionado', 'ivermectina', 'hidr']\n",
      "['pope', 'emeritus', 'benedict', 'will', 'celebrate', 'mass', 'with', 'ailing', 'brother', 'today', 'feast', 'during', 'first']\n",
      "['mientras', 'gente_muere', 'puertas', 'hospitales', 'trujillo', 'gobierno_regional', 'organiza', 'desfile', 'modas']\n",
      "['fuerzas', 'oscuras', 'globalista', 'alineandose']\n",
      "['will_never', 'have', 'another', 'president', 'quite', 'like', 'donald_trump']\n",
      "['sale', 'dinero', 'pintas', 'partido', 'militantes', 'hagan_trabajo']\n",
      "['comparacion']\n",
      "['congresista', 'pide_citar', 'ministro', 'alejandro_neyra', 'documental_hugo', 'blanco']\n",
      "['sigrid_bazan', 'indigna', 'george_floyd', 'defiende', 'hugo_blanco', 'minimiza', 'asesinato', 'policia', 'cualquier']\n",
      "['curwen', 'dejo', 'cuenta_twitter', 'dedicarse', 'enteramente', 'administrar', 'cuenta', 'general_aire', 'risa']\n",
      "['rancio', 'izquierda_peruana', 'salido_defender', 'mamarracho', 'propagandistico', 'comunista', 'hugo_blanco']\n",
      "['pinta', 'espontanea', 'propaganda_politica', 'bien', 'diseñada', 'pregunta', 'paga']\n",
      "['terrorista_mata', 'policia_heroe', 'revolucionario', 'militar_policia', 'mata', 'terrorista', 'violador']\n",
      "['punto', 'dice', 'dieron', 'difundiera', 'cosas', 'colegios']\n",
      "['comunicados', 'organizaciones', 'pronunciamientos', 'miles_personas', 'traves_redes', 'sociales', 'manifestando', 'indignacion']\n",
      "['manteniendo', 'neutralidad', 'jurado', 'designado', 'mincul', 'financiamos', 'dimos', 'incentivo', 'economico']\n",
      "['pasado']\n",
      "['forrest', 'gump', 'indiana', 'jones', 'posibles', 'peliculas', 'censurar', 'neoinquisicion']\n",
      "['esperemos', 'procurador', 'terrorismo', 'depende', 'presenta']\n",
      "['quieren', 'defender', 'lideres', 'condenados', 'asesinar', 'policias', 'haganlo', 'plata', 'dinero']\n",
      "['policias', 'capturaron', 'peligrosos', 'terroristas', 'indignados', 'documental_ensalza', 'asesino_policias']\n",
      "['mejor', 'quedado_callados', 'mincul', 'cueva', 'comunistas']\n",
      "['grupo', 'senadores', 'republicanos', 'unidos', 'presentaron', 'miercoles', 'proyecto', 'castigar']\n",
      "['corrupción', 'detallada', 'investigacion', 'portal', 'lima_gris', 'acerca', 'luis_rivera', 'talledo_swing', 'ministerio']\n",
      "['ministros', 'pasado', 'gobierno_lujo', 'inauguro', 'continuo', 'suplente', 'vizcarra', 'improvisacion', 'ineficie']\n",
      "['sector', 'politico', 'justifica', 'cultura', 'gaste', 'difundir', 'documental', 'propagandistico', 'personaje']\n",
      "['vivan', 'mermeencuestas']\n",
      "['futbolista', 'demagogo', 'populista', 'sospechoso', 'homicidio', 'violacion', 'caviar', 'dispuesto', 'destruir_pais', 'peru', 'parece', 'vocacion_suicida']\n",
      "['reina', 'comodonas', 'defendiendo', 'asesino_hugo', 'blanco', 'terroristas', 'homicidas', 'careta', 'revolucionarios', 'despreciado', 'aburguesada']\n",
      "['quiere_impedir', 'pueblo', 'memoria', 'sino', 'engañen', 'asesino_terrorista', 'puede_convertir', 'ejemplo', 'heroe', 'sera', 'homicida', 'enemigo', 'pueblo_peruano']\n",
      "['solo', 'conocen_bien', 'cosas', 'domestican']\n",
      "['funerales', 'sargento', 'guardia_civil', 'asesinado', 'hugo_blanco', 'banda', 'comunista']\n",
      "['olvides', 'bono', 'suegro', 'millones']\n",
      "['indigno', 'gasto', 'pelicula_asesino', 'policias']\n",
      "['seguirán', 'ciegos_sordos', 'mudos']\n",
      "['quitando', 'derechos_fundamentales', 'pretexto_pandemia', 'objetivos', 'entorpecer', 'proximo', 'proceso', 'elector']\n",
      "['documental', 'profundo', 'hugo_blanco', 'costo', 'arcas', 'soles', 'documental']\n",
      "['imbecilidad', 'sometimiento', 'progreprejuicios', 'limites', 'quaker', 'retirara', 'mercado', 'marca', 'años', 'considerarla', 'racista']\n",
      "['puede_esperar', 'cura', 'apostata', 'sino_tambien', 'traicione', 'pais', 'defienda', 'asesinos_terroristas']\n",
      "['puede_esperar', 'cura', 'apostata', 'sino_tambien', 'traicione', 'pais', 'defienda', 'asesinos']\n",
      "['ninguna', 'feminista', 'pais', 'capaz', 'publicar', 'barbaridad', 'video', 'españa']\n",
      "['pasa', 'viva', 'antifa']\n",
      "['acerca', 'gritos', 'traves', 'abeja']\n"
     ]
    }
   ],
   "source": [
    "orientacion='der'\n",
    "serie_tmp=orientacion_tweets_df_dict[orientacion].text_prep.apply(lambda txt:txt.split())\n",
    "for a in range(200):\n",
    "    print(trigram_mod[serie_tmp[a]])"
   ]
  },
  {
   "cell_type": "code",
   "execution_count": 229,
   "metadata": {},
   "outputs": [
    {
     "name": "stdout",
     "output_type": "stream",
     "text": [
      "['votare', 'usted']\n",
      "['pais', 'todas_sangres']\n",
      "['realmente', 'gusta', 'claridad', 'simpleza', 'habla', 'muchas', 'izquierda', 'podrian']\n",
      "['hecho', 'politica', 'negocio']\n",
      "['ahora', 'mejor', 'debate', 'agenda_parlamentaria', '2020']\n",
      "['gusto', 'escuchar', 'ojala', 'electo', 'lima']\n",
      "['cochero', 'ingresar', 'congreso', 'necesitamos']\n",
      "[]\n",
      "['enrique_fernandez', 'debate', 'representante', 'nefasta', 'fujimontesinismo']\n",
      "['enrique_fernandez', 'financiacion', 'partidos_politicos']\n",
      "['retorno_bicameralidad', 'favor', 'respetar', 'dice', 'gente', 'prin']\n",
      "['intervencion', 'rechaza', 'completamente', 'financiamiento', 'privados']\n",
      "['bicameralidad', 'dice', 'personalmente', 'favor', 'respetar', 'voluntad_pueblo', 'expre']\n",
      "['objetivo', 'empresa_privada', 'tendria', 'interes', 'colocar', 'dinero', 'partidos_politicos', 'congresistas', 'influ']\n",
      "['enrique_fernandez', 'chacon', 'favor', 'bicameralidad']\n",
      "['financiamiento_publico', 'solo', 'claro', 'sino', 'autentico']\n",
      "['vivo', 'enrique_fernandez', 'frente_amplio', 'justicia', 'vida', 'libertad', 'parece', 'debe_haber', 'financiam']\n",
      "['financiamiento_partidos', 'visto', 'dueños', 'casinos', 'financiando', 'partidos', 'luego', 'aprueban']\n",
      "['vivo', 'carlos_fernandez', 'frente_amplio', 'cien', 'cien', 'asuma', 'financiamiento']\n",
      "['enrique_fernandez', 'chacon', 'acuerdo', 'asuma', 'financiamiento']\n",
      "['enrique_fernandez', 'chacon', 'debe_haber', 'financiamiento', 'privados', 'partidos_politicos']\n",
      "['ahora', 'viene', 'pregunta', 'transparencia', 'economica', 'propone_eliminar', 'financiamiento']\n",
      "['candidato', 'enrique_fernandez', 'chacon', 'postula', 'numero', 'partido', 'primero', 'llegar']\n",
      "['exposicion', 'agenda_parlamentaria', 'enero', 'emite']\n",
      "['punto_iniciar', 'debate', 'junto', 'frente_amplio', 'apost']\n",
      "['reportaje', 'vivo', 'puertas', 'candidato', 'frente_amplio']\n",
      "['agradezco', 'todas_muestras', 'cariño_afecto', 'apoyo', 'fuerzas', 'debate', 'frente_amplio']\n",
      "['listos', 'debatir']\n",
      "['llegando', 'debate', 'simpatizantes', 'frente_amplio', 'junto', 'compañero', 'plantear', 'fuerte']\n",
      "['jueves_enero', '18hs', 'acompañame', 'ingresar', 'debate_candidatos', 'junto', 'ramb']\n",
      "['peru', 'sabe', 'estara', 'alli', 'vamos_vamos', 'vamos_vamos']\n",
      "['voto']\n",
      "['dignidad', 'robar', 'emotivas', 'palabras', 'debate', 'jubilados', 'pensio']\n",
      "['vamos_vamos', 'vamos']\n",
      "['candidato', 'partido', 'frente_amplio', 'comprometio', 'ratificar']\n",
      "['video', 'palabras', 'frente_amplio', 'jubilados_pensionistas', 'peru']\n",
      "['seguimos_debatiendo', 'propuestas', 'frente_amplio', 'jubilados_pensionistas', 'peru']\n",
      "['ahora', 'debatiendo', 'propuestas', 'frente_amplio', 'jubilados_pensionistas', 'peru']\n",
      "['ahora', 'iniciar', 'conversatorio', 'propuestas', 'frente_amplio', 'jubilados_pensionistas', 'peru']\n",
      "[]\n",
      "['entrevista', 'interesante']\n",
      "['entrevistado_programa', 'radial', 'vitarte', 'invito_entrevista', 'completa']\n",
      "['volanteando', 'compañeros', 'frente_amplio', 'mesa_redonda', 'gracias', 'visita', 'pude', 'conversar']\n",
      "['participamos', 'conversatorio', 'elecciones_2020', 'voto_informado', 'dialogamos', 'posicion', 'inmunidad_parlamentaria', 'eleccion', 'proximo_congreso', 'genero', 'feminismo']\n",
      "['horas']\n",
      "['mañana_estare', 'debate', 'acompañame', 'ingresar', 'junto', 'punto_encuentro', 'rambla', 'borja', 'arqueologia', 'aviacion', 'estacion_cultura', 'vamos', 'frente_amplio']\n",
      "['jueves_enero', '18hs', 'acompañame', 'ingresar', 'debate_candidatos', 'junto', 'rambla', 'borja', 'arqueologia', 'aviacion', 'estacion_cultura', 'vamos', 'frente_amplio']\n",
      "['finalizamos', 'entrevusta']\n",
      "['ahora', 'siendo', 'entrevistado']\n",
      "['excelente', 'video', 'realizado', 'manera', 'independiente', 'resumen', 'intervenciones', 'marca_flor']\n",
      "['frente_amplio', 'peruano', 'escucha', 'gran', 'cancion', 'campaña', 'junto', 'candi']\n",
      "['voto', 'tambien', 'lucha', 'hizo', 'cancion', 'comparto', 'tema', 'identifica', 'escuchenlo', 'principio', 'enorme', 'agradecimiento', 'salsa', 'plus', 'paulo', 'andree', 'picon', 'trigoso', 'letra', 'brian', 'ibañez', 'musica']\n",
      "['carlos_fernandez', 'chacon', 'numero', 'frente_amplio', 'converso']\n",
      "['enrique_fernandez', 'rechaza', 'invitacion', 'embajada', 'enrique_fernandez', 'chacon', 'rechazo', 'invitacion']\n",
      "['enrique_fernandez', 'chacon', 'enfatico', 'propuesta', 'cambiar_modelo', 'economico', 'necesita']\n",
      "['enrique_fernandez', 'chacon', 'condiciones', 'trabajo', 'pais', 'peor']\n",
      "['enrique_fernandez', 'chacon', 'iniciaremos', 'debate', 'cambiar', 'politica_economica']\n",
      "['enrique_fernandez', 'chacon', 'frente_amplio', 'sector_minero', 'trabajadores']\n",
      "['enrique_fernandez', 'chacon', 'frente_amplio', 'propone', 'enfrentar_corrupcion', 'afectar', 'economicam']\n",
      "['dice', 'penas', 'corruptos', 'deben', 'ejemplarizadoras']\n",
      "['rosa_maria', 'busca', 'odien', 'repudien', 'actitud', 'destronado', 'martha_chavez', 'vilcatoma', 'jugando', 'negacion', 'afirmacion', 'frustracion', 'futura', 'elegidos', 'convertira', 'afirmacion', 'ventarrones', 'bolsonaro']\n",
      "['enero', 'solo_pido', 'voto', 'tambien', 'pido', 'luches', 'juntos', 'cambiemos']\n",
      "['enero', 'dale', 'voto', 'partido', 'manchado', 'corrupcion', 'dale', 'confianza', 'aquel', 'candidato', 'dispuesto', 'luchar', 'contigo', 'desigualdad', 'conquistar', 'defender_derechos', 'hagamos', 'voto_responsable']\n",
      "['compañera', 'isabel', 'simbolo', 'contemporaneo', 'mujer_luchadora', 'merece_respeto', 'consideracion', 'puedo', 'votar_lista', 'pido', 'apoyen']\n",
      "['vamos', 'voto']\n",
      "['hace_instantes', 'rumbo', 'congreso', 'recta_final', 'inmunidad_parlamentaria', 'lucha_corrupcion', 'seguridad_ciudadana', 'propuestas', 'vealo', 'domingo']\n",
      "['vivo', 'candidato', 'contara', 'propuestas']\n",
      "['familia', 'votara', 'enero', 'voto', 'estara', 'buenas_manos', 'peru', 'corru']\n",
      "['mañana_estare', 'paramonga', 'reunire', 'viejos', 'amigos', 'jubilados', 'pension', 'miserable', 'conversar', 'acerca', 'medidas_tomar', 'defensa_derechos', 'sienten_pasos', 'generacion', 'luchadores', 'años', 'lucha']\n",
      "['participamos', 'conversatorio', 'elecciones_congresales', 'extraordinarias_2020', 'organizado', 'seguimos', 'defendiendo_derechos', 'laborales_trabajadores', 'dignificando', 'jubilados']\n",
      "['pertenezco', 'partido_politico', 'mismos', 'autofinanciamos', 'convencidos', 'lograr_bienestar', 'pueblo', 'debemos_cambiar', 'cambiar', 'sumate', 'cambio', 'dale', 'voto', 'pide']\n",
      "['andres', 'adonde', 'sacas', 'tanta', 'imaginacion', 'hablar', 'tantas', 'tonterias', 'preocupes', 'detesto']\n",
      "['nunca', 'atreveria', 'hacer', 'bajeza', 'insinua', 'amigo', 'sido', 'twitter', 'enviado', 'hugo', 'email', 'puedo_enviar', 'unico', 'contenido', 'preocupe', 'hugo', 'enviara', 'dias', 'video', 'hago', 'trampa', 'pueblo']\n",
      "['jamas', 'traicionare', 'primero', 'muerto', 'vendido']\n",
      "['farid', 'gracias_apoyo']\n",
      "['mañana', 'participando', 'pasacalles', 'gamarra', 'únete', 'participa', 'punto_encuentro', 'parque', 'indoamerica', 'jiron', 'antonio', 'bazo', 'victoria']\n",
      "['hugo_blanco', 'mexico', 'dice', 'amigos', 'peruanos', 'pido', 'proximas_elecciones', 'apoyen', 'compañeros', 'mios', 'luchadores', 'enrique_fernandez', 'chacon', 'editamos', 'periodico', 'combate', 'lucha', 'indigena', 'farid_matuk', 'abrazo', 'mexico', 'hugo_blanco']\n",
      "['continuando', 'actividades', 'mañana', 'visitando_mercados', 'juan_lurigancho', 'compañia', 'candidatos_congreso', 'militantes_simpatizantes', 'calles', 'tambien', 'lucha', 'únete']\n",
      "['mañana', 'recorriendo_mercado', 'valle_sagrado', 'juan_lurigancho', 'junto_candidato', 'victor', 'alfaro', 'acompañamos', 'incansable', 'cruzada', 'informartiva', 'conoceras', 'principales_propuestas']\n",
      "['hace_años', 'defiendo', 'derechos_trabajadores']\n",
      "['cumplan', 'deseos', 'carlitos', 'hombres', 'manejan', 'bien', 'pelota', 'mejor', 'vida', 'dignos', 'imitacion']\n",
      "['cambiaremos', 'cambiar_modelo', 'economico', 'siga', 'recortando_derechos', 'posible', 'alguien', 'trabajo', 'menos', 'años', 'pueda', 'jubilarse', 'roben', 'toda', 'aportacion', 'hare', 'gran_cruzada', 'pensiones_justas']\n",
      "['pacto', 'acuerdo', 'producto', 'coaccion', 'logrado', 'medios', 'ilegales', 'coimas', 'sujetos', 'nulidad']\n",
      "['jueves_viernes', 'estara', 'volanteando', 'estaciones', 'grau', 'gamarra', 'arriola', 'cultura', 'calles', 'congreso', 'debemos_cambiar', 'cambiar', 'basta', 'modelo', 'desigualdad']\n",
      "['comenzamos', 'bien', 'suspende_pago', 'peaje', 'separadora_industrial', 'aceptado', 'habeas_corpus']\n",
      "['amigo', 'andres', 'ingenioso', 'siempre', 'escribe', 'mismo', 'contestar', 'mismo', 'libre', 'votar', 'quiera', 'respeto', 'derecho']\n",
      "['comenzamos', 'bien', 'suspende_pago', 'peaje', 'separadora_industrial', 'aceptado', 'habeas_corpus', 'presento', 'alcalde_molina', 'accion_popular', 'jorge_muñoz', 'atreve', 'declarar', 'nulos', 'contratos', 'corrupcion', 'castañeda', 'susana']\n",
      "['domingo_enero', 'marca_flor', 'escribe', 'numeros', 'propuestas_legislativas']\n",
      "['2020', 'dignidad', 'haga', 'costumbre']\n",
      "['1980', '1985', 'solo', 'diputado', 'defenestrado', 'accion_popular', 'expulso', 'narcotraficante', 'todavia', 'funciona', 'memoria', 'hablar', 'perlas', 'caso', 'guvarte', 'caso', 'sanitas', 'contratos_petroleros', 'robo', 'banco', 'minero']\n",
      "['vitocho', 'decano', 'congresistas', 'resucito', 'despues', 'querer', 'tomar_asalto', 'tribunal_constitucional', 'conchudes', 'personificada']\n",
      "['nº15', 'ayer', 'visitando', 'antonio', 'junto', 'yony', 'prado', 'candidado', 'congreso', 'lima', 'provincia', 'carmen']\n",
      "['conversamos', 'cambios', 'consideramos', 'prioritarios', 'realizar', 'constitucion', 'importante', 'modelo_economico']\n",
      "['estare_participando', 'velada', 'cultural', 'junto_vecinos', 'huaycan', 'habra', 'musica', 'poesias', 'danza', 'agradezco_invitacion', 'compañeros', 'frente_amplio', 'vitarte', 'esperamos']\n",
      "['mañana', 'recorriendo', 'principales', 'mercados', 'juan_miraflores', 'hacer', 'llegar', 'propuestas', 'conversar_vecinos', 'trabajadores', 'estan_invitados', 'unirse']\n",
      "[]\n",
      "[]\n",
      "[]\n",
      "[]\n",
      "[]\n",
      "[]\n",
      "[]\n",
      "[]\n",
      "[]\n",
      "[]\n",
      "['idiota', 'lentes', 'celebra', 'jubilo', 'estupidez', 'gonzalo', 'cada', 'idiota', 'micro']\n",
      "['hombre', 'trabaja', 'doce_horas', 'esclavo', 'siglo', 'causa', 'sistema_economico', 'gente', 'haga', 'gusta', 'sienta', 'feliz', 'maravilloso', 'vivir', 'vivir', 'estan', 'destrozando', 'vida', 'gente']\n",
      "['juan_miraflores', 'disculpe', 'milagros']\n",
      "['tambien', 'falta']\n",
      "['parte', 'interior', 'hable', 'claro', 'razon', 'dare']\n",
      "['equivocas', 'figuramos']\n",
      "['derecho', 'respeto']\n",
      "['estimado', 'señor', 'alcaldes', 'menciona', 'frente_amplio', 'mienta']\n",
      "['perfecto', 'querido_amigo', 'unica_forma', 'quede_impune', 'bajar_guardia', 'coordinar', 'todas_acciones', 'necesarias', 'comenzar', 'posible', 'iniciar', 'cruzada', 'consuma', 'productos', 'respetan_derechos', 'trabajadores']\n",
      "['dicen', 'accion_popular', 'ganaria', 'elecciones', 'lima', 'revisen', 'labor', 'alcaldes_lima', 'isidro_magdalena', 'santiago_surco', 'borja', 'jesus_maria', 'juan_miraflores', 'breña', 'molina', 'rimac', 'luis', 'martin_porres', 'pueblo_libre', 'lince']\n",
      "['plata_llega', 'sola', 'arrasamos', 'venta', 'truchas', 'gracias', 'todas', 'asistieron', 'actividad', 'fondos', 'colaboracion', 'motiva_seguir', 'avanzando', 'defraudaremos']\n",
      "['llego', 'gran', 'truchada', 'fondos', 'esperamos', 'áncash', 'vengan', 'amigos_familiares', 'apoyo', 'campaña', 'ganamos']\n",
      "['pose', 'calculo_electoral', 'marketing', 'motivado', 'negativa', 'asistir', 'desayuno', 'embajador', 'pais', 'chacra', 'potencias', 'extranjeras', 'peruanos', 'peones', 'corren', 'llamado', 'dignidad', 'carajo', 'solo', 'dignidad']\n",
      "['usted', 'puedo', 'conversar', 'problemas', 'quiera', 'seria', 'conversar', 'intromision']\n",
      "['decadas', 'crecimiento_economico', 'servicios', 'colapsados', 'informalidad', 'caos_transporte', 'inseguridad', 'corrupcion', 'feminicidio', 'contaminacion', 'millones', 'agua', 'sueldos', 'pensiones_miserables', 'pobres', 'impuestos_ricos', 'exoneraciones', 'cambiar']\n",
      "['dieron', 'keiko', 'empresas', 'hacer', 'teleton', 'hospital', 'indigna']\n",
      "['envivo', 'colectivo', 'exoneraciones_tributarias', 'afps', 'jubilaciones', 'pauperrimas', 'cambiarlo', 'click_aqui']\n",
      "['instantes', 'conversando', 'envivo', 'colectivo', 'coyuntura_politica', 'propuestas', 'atentos']\n",
      "['plata_llega', 'sola', 'loncheras', 'tamalitos', 'sabado', 'estan_cordialmente', 'invitados', 'gran', 'truchada', 'fondos', 'esperamos']\n",
      "['envivo', 'entrevista_programa', 'dialogar', 'coyuntura_politica', 'propuestas']\n",
      "['candidato', 'puede', 'contener', 'risa', 'burlona', 'estupideces', 'dice', 'excongresista']\n",
      "['creeme', 'voto', 'proximas_elecciones', 'gente', 'consecuente_principios', 'morales']\n",
      "['excelente', 'respuesta', 'explicaciones', 'podemos', 'trump', 'acerca', 'queremos']\n",
      "['simplemente', 'hablar', 'tema', 'importante', 'mostrar', 'intromision']\n",
      "['respuesta', 'embajador', 'norteamericano', 'invitacion']\n",
      "['visitando_mercado', 'caqueta', 'mercado_frutas', 'grato', 'recorrido', 'pudimos', 'conversar', 'trabajadores', 'recoger_demandas']\n",
      "['mañana_lunes', 'dialogar', 'coyuntura_politica', 'propuestas']\n",
      "['ampliacion_noticias', 'debatimos', 'blindadores', 'alan', 'chavarry', 'keiko', 'prohibido_olvidar']\n",
      "['foro', 'feminicidos', 'peru', 'arlette_contreras', 'candidata_congreso', 'compañeras', 'isadoras', 'peru', 'estan', 'todas', 'invitados']\n",
      "['envivo', 'traves', 'primera_edicion', 'recta_final', 'dialogando', 'corrupcion', 'principales_propuestas']\n",
      "['cada', 'venimos', 'sumando', 'constante', 'lucha', 'peajes_corruptos']\n",
      "['elecciones_2020', 'enrique_fernandez', 'rennan_espinoza', 'debaten']\n",
      "['modelo', 'sido', 'desastre', 'siete', 'cada_diez', 'trabajadores', 'empleo_informal', 'salud', 'escuela_publica', 'pesimas', 'cambiaremos', 'cambiar', 'pueblo_trabajador', 'viva', 'dignamente']\n",
      "['junto_candidata', 'arlett', 'contreras', 'volanteando', 'mercado', 'unicachi', 'agradezco']\n",
      "['presentación', 'candidatos', 'lima_norte', 'distintos', 'candidatos', 'participando_evento']\n",
      "[]\n",
      "['publicacion', '2015']\n",
      "[]\n",
      "[]\n",
      "['clase_obrera', 'candidato', 'carlos', 'portillas', 'guerrero', 'postulo', 'frente_amplio', 'obrero']\n",
      "['trabajador', 'sindicalista', 'lucha_constante', 'trabajadores', 'ceses_colectivos', 'viene']\n",
      "['marcha', 'privatizacion_sedapal', 'pais', 'hare', 'parte', 'explicando', 'justo', 'lucha', 'acto', 'invitado']\n",
      "['señor', 'esperanza', 'congreso', 'aunque', 'corto', 'sera', 'clave', 'elegiran', 'nuev']\n",
      "['crei', 'atreviera', 'liberar_keiko', 'pesar', 'existen_pruebas', 'mafioso', 'accionar', 'elegido', 'congreso', 'corruptos', 'lobbistas', 'definitivamente', 'sirve']\n",
      "['fernandez_chacon', 'mulder', 'postula', 'oportunidad', 'gente', 'repudiarte']\n",
      "['hace_tiempo', 'mulder', 'merece', 'patadon', 'electorado', 'cola', 'haga', 'meterse', 'debajo']\n",
      "['debates', 'televisados', 'clara', 'inspira_confianza', 'auguro', 'exitos']\n",
      "['semanas', 'huelga', 'trabajadores', 'general', 'motors', 'obreros', 'todas_partes', 'mundo', 'levantan', 'puño', 'luchar', 'lucha', 'gana']\n",
      "['domingo', 'inaugurando_local', 'campaña', 'rimac', 'ademas', 'vendiendo', 'ricos', 'tamales', 'recaudado', 'servira', 'financiar_gastos', 'campaña', 'esperamos']\n",
      "['años', 'disminuyendo', 'agudizan', 'experiencia', 'vivida', 'desarrolla', 'comun', 'veces', 'basta', 'cruzar', 'palabras', 'mirar', 'ojos', 'persona', 'comprender', 'sinceridad', 'feliz', 'estes', 'arlette']\n",
      "['sumamos_marcha', 'junto_organizaciones', 'feministas', 'colectivos', 'activistas', 'marchamos', 'pais', 'mujeres_niñas', 'adolescentes', 'puedan_vivir', 'violencia']\n",
      "['postule', 'candidato', 'vice_presidencia', 'frente', 'trabajadores', 'poder', 'generales', 'patrones']\n",
      "['amigo', 'carlos', 'votos', 'sobran', 'campaña_austera', 'diga', 'pienso', 'perder', 'votos', 'disculpe', 'filosofia', 'vida', 'sinceridad', 'cuesta', 'veces', 'perder', 'amigos', 'ahora', 'votos', 'siento', 'gracias', 'atencion']\n",
      "['parece', 'bien', 'propuesta']\n",
      "['diran', 'activo', 'plan', 'cerco', 'abatio', 'hampon', 'hirio', 'atrapo', 'asaltaron', 'joven', 'robarle_celular', 'sera', 'señal', 'empresarios', 'siendo', 'tomados_cuenta']\n",
      "['mañana', 'aperturamos', 'local', 'rimac', 'rimense', 'ubicado', 'domingo', 'sarmiento', 'ciudad', 'campo', 'esperamos', 'local', 'cedido', 'simpatizante', 'sabe', 'recursos', 'aportan', 'pueden', 'recibimos', 'gusto']\n",
      "['razon', 'señalan', 'operadores', 'corrupcion', 'politicos', 'pueden', 'presidentes_ministros', 'congresistas', 'funcionarios', 'distintos_niveles', 'militares', 'militares', 'asesores', 'estan', 'postulando', 'rechazalos']\n",
      "['amigo', 'richard', 'gracias', 'deseos', 'bajar_guardia', 'lucha_corrupcion', 'lugar', 'encontremos', 'llegue', 'congreso', 'depende', 'votos', 'informados', 'dinero', 'apoyo', 'gente', 'conoce']\n",
      "['querido', 'jorge', 'tropece', 'contigo', 'pude', 'evitar', 'mandarte', 'saludo', 'aunque', 'siempre', 'escribes', 'fisicamente', 'cuantas', 'toneladas', 'años', 'abrazo_distancia', 'cochero', 'ahora', 'chaparron']\n",
      "['bien', 'valiente', 'claras', 'respuestas']\n",
      "['acompañando']\n",
      "[]\n",
      "['mulder', 'vamos', 'pedir_vacancia', 'vizcarra', 'fernandez', 'gente', 'permitir', 'mira', 'debate', 'protagon']\n",
      "['brutal', 'enrique_fernandez', 'destruye', 'trollea', 'mauricio_mulder', 'imperdible']\n",
      "['noche', 'encontramos', 'programa', 'tiena', 'razon', 'interesante', 'panel', 'debate', 'enrique_fernandez', 'chacon', 'mauricio_mulder', 'acompañanos']\n",
      "['domingo', 'inaugurando_local', 'campaña', 'rimac', 'ademas', 'venta', 'tamales', 'servira', 'apoyarnos', 'gastos_campaña', 'esperamos']\n",
      "['flor', 'sera', 'segundo', 'simbolo', 'aparecer', 'cedula_votacion', 'mejor', 'lugar', 'tendras', 'buscar', 'marcar']\n",
      "[]\n",
      "['mira', 'fotos', 'chavistas']\n",
      "['candidatos', 'reunimos', 'participamos', 'inscripciones', 'listas', 'camine']\n",
      "[]\n",
      "['puedo', 'genio', 'odio', 'roban', 'felicidad', 'pueblo']\n",
      "['logica', 'rateros', 'corresponde', 'esten', 'martha_chavez', 'voto']\n",
      "['luchita', 'hace', 'buen_corazon', 'debe', 'reclamar', 'salga', 'keiko', 'reclamar', 'apresen']\n",
      "['vamos', 'amigo', 'vale', 'comience', 'creer', 'valorese', 'comience', 'despues', 'sera_facil']\n",
      "['generaciones', 'sabemos', 'manejar', 'bodega', 'sabemos', 'capital', 'invertir']\n",
      "['cambiar', 'cambiar', 'instrumentar', 'politica', 'dignifique', 'trabajo', 'trabajador', 'humille', 'contratos', 'violan_derechos', 'derecho', 'disfrute', 'vivir', 'buen_vivir', 'merecmos']\n",
      "['bien', 'cuanta', 'sinceridad', 'agradesco']\n",
      "['gracias', 'elaborando']\n",
      "['propuesta', 'anule', 'contratos', 'marquen', 'diferencias', 'trabajadores', 'solo', 'regimen', 'trabajadores', 'igualdad_derechos']\n",
      "['saldra', 'keiko', 'libertad', 'blume', 'fortini', 'quiera', 'tontos', 'provocar', 'pueblo', 'cada', 'irritado', 'tantas', 'violacion_derechos', 'quiza', 'chile', 'pasado', 'pasando', 'habrian', 'intentado', 'keiko', 'seguira', 'cana', 'firmo']\n",
      "[]\n",
      "['aparte', 'gustaria', 'congresistas', 'usen', 'educacion', 'aprueban', 'servicios_salud', 'pueblo', 'sensibilizan', 'tragedia', 'viven', 'desatencion', 'necesidades']\n",
      "['listas_candidatas', 'candidatos', 'inscrito', 'casi', 'peru', 'momento']\n",
      "['generaciones', 'sindicalistas', 'luchadores', 'ponemos', 'servicio_pueblo', 'trabajadores', 'cambiaremos', 'cambiar']\n",
      "['repudiamos', 'corrupcion', 'cualquier', 'angulo', 'tambien', 'rechazamos', 'reeleccion', 'ningun', 'congresista', 'frente_amplio', 'buscara', 'reelegirse']\n",
      "['vamos_trabajar', 'pais', 'justo', 'sostenible', 'corrupcion', 'justicia_social', 'https']\n",
      "['edad', 'ideas', 'izquierda', 'patente', 'corzo', 'hagas', 'gana', 'obligado', 'tener', 'comportamiento', 'determinado', 'ideas', 'cambio', 'transformacion', 'social', 'taparrabo', 'izquierdista', 'roban', 'pueblo']\n",
      "['niego', 'derecho', 'solo', 'señalado', 'incoherente', 'divorcio', 'notorio', 'dicen', 'hacen', 'sienten', 'bien', 'vamos', 'hacerle']\n",
      "['harias', 'dice', 'lucha_corrupcion', 'alia', 'partido', 'dirigido', 'corrupto', 'pregunta', 'izquierda_derecha', 'sencillamente', 'señalo', 'incoherente', 'ahora', 'hagas', 'problemas', 'crees', 'bien', 'hace']\n",
      "['miras', 'reves', 'muere_hambre', 'pueblo', 'moneda', 'sido', 'devaluada', 'ceros', 'pulverizando', 'sueldos', 'ahorros', 'pensiones', 'bloqueo', 'cierto', 'tambien', 'hacian', 'buenos', 'negocios', 'yanquis']\n",
      "['presidente', 'años', 'pudo', 'generar', 'dirigentes', 'alternativos', 'trampeo', 'hacer', 'tercer', 'periodo', 'burlo', 'resultados_referendum', 'cuarto', 'gobierno', 'pacto', 'derecha', 'camacho', 'pisoteo', 'derechos', 'indigenas', 'apoyaron']\n",
      "['voto', 'provincias', 'solo', 'candidatos', 'region', 'suman', 'global', 'frente_amplio']\n",
      "['elena', 'creo', 'enemigos', 'sencillamente', 'opino', 'hacen']\n",
      "['solo', 'proyectos_leyes', 'especificas', 'propia_constitucion', 'prohibe', 'monopolios', 'letra_muerta', 'gobernantes', 'complices', 'usuarios', 'siendo', 'aplastante', 'mayoria', 'desorganizados']\n"
     ]
    }
   ],
   "source": [
    "orientacion='izq'\n",
    "serie_tmp=orientacion_tweets_df_dict[orientacion].text_prep.apply(lambda txt:txt.split())\n",
    "for a in range(1200,1400):\n",
    "    print(trigram_mod[serie_tmp[a]])"
   ]
  },
  {
   "cell_type": "markdown",
   "metadata": {},
   "source": [
    "## WordCloud **por orientacion** removiendo las palabras mas comunes"
   ]
  },
  {
   "cell_type": "markdown",
   "metadata": {},
   "source": [
    "# ----------------------------------------------------------------------------"
   ]
  },
  {
   "cell_type": "code",
   "execution_count": 70,
   "metadata": {},
   "outputs": [],
   "source": [
    "#palabras comunes en politica y comunes en general\n",
    "common_words = ['peru','gracias','solo','congreso', 'años','puede','gobierno','politica','estan','siempre','foto','nueva','hola','pais','debe',\n",
    "                'hace','facebook','publique','ahora','estare','bien','tambien','cuenta', 'usted','creo','aqui','dice','gran','estan','vizcarra'\n",
    "                'congresista','congresistas','peruano','mejor','toda','todo','buen','bueno','sera','cada','presidente','nadie','hacer','hilo','sino','mismo',\n",
    "                'partido','caso','accion popular','keiko','apra','aprista','video lista','patria','roja','fuerza','popular','menos',\n",
    "                 'solo','gracia','gracias' ]\n",
    "\n",
    "def remove_common(text,common_words):\n",
    "    #removemos stopwords\n",
    "    text = text.split()\n",
    "    important_words=[]\n",
    "    for word in text:\n",
    "        if word not in common_words:\n",
    "            important_words.append(word)\n",
    "            \n",
    "    return  ' '.join(important_words)"
   ]
  },
  {
   "cell_type": "markdown",
   "metadata": {},
   "source": [
    "## TOPIC MODELING WITH LDA\n",
    ">### Cargamos los tweets particionados por orientacion política"
   ]
  },
  {
   "cell_type": "code",
   "execution_count": 8,
   "metadata": {},
   "outputs": [
    {
     "name": "stdout",
     "output_type": "stream",
     "text": [
      "Cargando Orientaciones:\n",
      " nul cder cen cizq izq der\n",
      "Completada la carga.\n"
     ]
    }
   ],
   "source": [
    "orientacion_tweets_df_dict = {}  #diccionario con dataframes de tweets por orientacion\n",
    "orientaciondf_dict = {}\n",
    "conjunto_orientacion=set(politicosdb_df['orientacion'])\n",
    "print(\"Cargando Orientaciones:\")\n",
    "for orientacion in conjunto_orientacion:    \n",
    "    tweets_df = pd.read_csv(f\"tweets-orientacion-db_{orientacion}.csv\", keep_default_na=False )\n",
    "    tweets_df['orientacion']=orientacion\n",
    "    orientacion_tweets_df_dict[orientacion]=tweets_df.copy() \n",
    "    orientacion_tweets_df_dict[f\"{orientacion}_len\"]=len(tweets_df)\n",
    "    orientaciondf_dict[orientacion]=politicosdb_df.loc[politicosdb_df['orientacion'] == orientacion] \n",
    "    print(f\" {orientacion}\" ,end=\"\")\n",
    "print(\"\\nCompletada la carga.\")"
   ]
  },
  {
   "cell_type": "code",
   "execution_count": 9,
   "metadata": {
    "colab": {},
    "colab_type": "code",
    "id": "rUBrFFkpywNW"
   },
   "outputs": [],
   "source": []
  },
  {
   "cell_type": "markdown",
   "metadata": {},
   "source": [
    "## TOPIC MODELING TWEETS DE IZQUIERDA"
   ]
  },
  {
   "cell_type": "code",
   "execution_count": 10,
   "metadata": {
    "colab": {},
    "colab_type": "code",
    "id": "f4jbjm97zUE-"
   },
   "outputs": [
    {
     "name": "stdout",
     "output_type": "stream",
     "text": [
      "(0, '0.022*\"pais\" + 0.019*\"politica\" + 0.018*\"educacion\" + 0.013*\"bancada\" + 0.012*\"debe\" + 0.010*\"peru\" + 0.010*\"justicia\" + 0.009*\"corrupcion\" + 0.009*\"reforma\"')\n",
      "(1, '0.021*\"violencia\" + 0.018*\"denuncia\" + 0.014*\"mujer\" + 0.013*\"mujeres\" + 0.012*\"region\" + 0.011*\"pedido\" + 0.011*\"foto\" + 0.010*\"constitucional\" + 0.010*\"decision\"')\n",
      "(2, '0.021*\"facebook\" + 0.018*\"lucha\" + 0.017*\"mañana\" + 0.013*\"agua\" + 0.013*\"nacional\" + 0.010*\"lima\" + 0.010*\"proceso\" + 0.010*\"reunion\" + 0.009*\"distrito\"')\n",
      "(3, '0.055*\"frente\" + 0.036*\"comision\" + 0.035*\"amplio\" + 0.031*\"congresista\" + 0.026*\"congreso\" + 0.024*\"proyecto\" + 0.018*\"nuevo\" + 0.014*\"debate\" + 0.013*\"publica\"')\n",
      "(4, '0.027*\"vamos\" + 0.024*\"fujimorismo\" + 0.021*\"izquierda\" + 0.016*\"patria\" + 0.014*\"nunca\" + 0.014*\"derecha\" + 0.011*\"ayer\" + 0.011*\"acuerdo\" + 0.011*\"siempre\"')\n",
      "(5, '0.016*\"fujimori\" + 0.013*\"keiko\" + 0.013*\"fuerza\" + 0.013*\"poder\" + 0.012*\"mismo\" + 0.011*\"congreso\" + 0.010*\"caso\" + 0.010*\"claro\" + 0.010*\"popular\"')\n",
      "(6, '0.016*\"marco\" + 0.015*\"congreso\" + 0.014*\"fiscal\" + 0.014*\"comision\" + 0.013*\"informe\" + 0.011*\"corrupcion\" + 0.011*\"congresistas\" + 0.010*\"arana\" + 0.010*\"favor\"')\n",
      "(7, '0.023*\"ayacucho\" + 0.022*\"video\" + 0.020*\"garcia\" + 0.018*\"alan\" + 0.017*\"chavarry\" + 0.015*\"posted\" + 0.015*\"vivo\" + 0.014*\"entrevista\" + 0.014*\"dias\"')\n",
      "(8, '0.029*\"lima\" + 0.022*\"nueva\" + 0.011*\"derechos\" + 0.011*\"autoridades\" + 0.008*\"tema\" + 0.008*\"constitucion\" + 0.008*\"humberto\" + 0.007*\"plastico\" + 0.007*\"confianza\"')\n",
      "(9, '0.016*\"gobierno\" + 0.016*\"salud\" + 0.014*\"trabajadores\" + 0.013*\"millones\" + 0.013*\"ministro\" + 0.013*\"años\" + 0.011*\"hace\" + 0.011*\"peru\" + 0.010*\"empresas\"')\n",
      "(10, '0.033*\"gracias\" + 0.013*\"bien\" + 0.013*\"feliz\" + 0.011*\"estan\" + 0.010*\"tambien\" + 0.010*\"aqui\" + 0.009*\"democracia\" + 0.009*\"casa\" + 0.008*\"dictamen\"')\n"
     ]
    }
   ],
   "source": [
    "orientacion='izq'\n",
    "NUM_TOPICS = 11\n",
    "\n",
    "serie_tmp=orientacion_tweets_df_dict[orientacion].text_prep.apply(lambda txt:word_tokenize(txt))\n",
    "\n",
    "dictionary = corpora.Dictionary(serie_tmp)\n",
    "corpus = [dictionary.doc2bow(text) for text in  serie_tmp]\n",
    "\n",
    "ldamodel_izq = gensim.models.ldamodel.LdaModel(corpus, num_topics = NUM_TOPICS, id2word=dictionary, passes=15)\n",
    "topics = ldamodel_izq.print_topics(num_words=7)\n",
    "\n",
    "for topic in topics:\n",
    "    print(topic)"
   ]
  },
  {
   "cell_type": "markdown",
   "metadata": {},
   "source": [
    ">### guardamos el modelo"
   ]
  },
  {
   "cell_type": "code",
   "execution_count": 11,
   "metadata": {},
   "outputs": [],
   "source": [
    "with open(\"gensim_lda_model_izq.zip\",\"wb\") as f:\n",
    "    pickle.dump(ldamodel_izq,f)"
   ]
  },
  {
   "cell_type": "markdown",
   "metadata": {},
   "source": [
    "## TOPIC MODELING TWEETS DE DERECHA"
   ]
  },
  {
   "cell_type": "code",
   "execution_count": 12,
   "metadata": {
    "colab": {},
    "colab_type": "code",
    "id": "f4jbjm97zUE-"
   },
   "outputs": [
    {
     "name": "stdout",
     "output_type": "stream",
     "text": [
      "(0, '0.022*\"pais\" + 0.019*\"politica\" + 0.018*\"educacion\" + 0.013*\"bancada\" + 0.012*\"debe\" + 0.010*\"peru\" + 0.010*\"justicia\" + 0.009*\"corrupcion\" + 0.009*\"reforma\"')\n",
      "(1, '0.021*\"violencia\" + 0.018*\"denuncia\" + 0.014*\"mujer\" + 0.013*\"mujeres\" + 0.012*\"region\" + 0.011*\"pedido\" + 0.011*\"foto\" + 0.010*\"constitucional\" + 0.010*\"decision\"')\n",
      "(2, '0.021*\"facebook\" + 0.018*\"lucha\" + 0.017*\"mañana\" + 0.013*\"agua\" + 0.013*\"nacional\" + 0.010*\"lima\" + 0.010*\"proceso\" + 0.010*\"reunion\" + 0.009*\"distrito\"')\n",
      "(3, '0.055*\"frente\" + 0.036*\"comision\" + 0.035*\"amplio\" + 0.031*\"congresista\" + 0.026*\"congreso\" + 0.024*\"proyecto\" + 0.018*\"nuevo\" + 0.014*\"debate\" + 0.013*\"publica\"')\n",
      "(4, '0.027*\"vamos\" + 0.024*\"fujimorismo\" + 0.021*\"izquierda\" + 0.016*\"patria\" + 0.014*\"nunca\" + 0.014*\"derecha\" + 0.011*\"ayer\" + 0.011*\"acuerdo\" + 0.011*\"siempre\"')\n",
      "(5, '0.016*\"fujimori\" + 0.013*\"keiko\" + 0.013*\"fuerza\" + 0.013*\"poder\" + 0.012*\"mismo\" + 0.011*\"congreso\" + 0.010*\"caso\" + 0.010*\"claro\" + 0.010*\"popular\"')\n",
      "(6, '0.016*\"marco\" + 0.015*\"congreso\" + 0.014*\"fiscal\" + 0.014*\"comision\" + 0.013*\"informe\" + 0.011*\"corrupcion\" + 0.011*\"congresistas\" + 0.010*\"arana\" + 0.010*\"favor\"')\n",
      "(7, '0.023*\"ayacucho\" + 0.022*\"video\" + 0.020*\"garcia\" + 0.018*\"alan\" + 0.017*\"chavarry\" + 0.015*\"posted\" + 0.015*\"vivo\" + 0.014*\"entrevista\" + 0.014*\"dias\"')\n",
      "(8, '0.029*\"lima\" + 0.022*\"nueva\" + 0.011*\"derechos\" + 0.011*\"autoridades\" + 0.008*\"tema\" + 0.008*\"constitucion\" + 0.008*\"humberto\" + 0.007*\"plastico\" + 0.007*\"confianza\"')\n",
      "(9, '0.016*\"gobierno\" + 0.016*\"salud\" + 0.014*\"trabajadores\" + 0.013*\"millones\" + 0.013*\"ministro\" + 0.013*\"años\" + 0.011*\"hace\" + 0.011*\"peru\" + 0.010*\"empresas\"')\n",
      "(10, '0.033*\"gracias\" + 0.013*\"bien\" + 0.013*\"feliz\" + 0.011*\"estan\" + 0.010*\"tambien\" + 0.010*\"aqui\" + 0.009*\"democracia\" + 0.009*\"casa\" + 0.008*\"dictamen\"')\n"
     ]
    }
   ],
   "source": [
    "\n",
    "orientacion='der'\n",
    "NUM_TOPICS = 10\n",
    "\n",
    "serie_tmp=orientacion_tweets_df_dict[orientacion].text_prep.apply(lambda txt:word_tokenize(txt))\n",
    "\n",
    "dictionary = corpora.Dictionary(serie_tmp)\n",
    "corpus = [dictionary.doc2bow(text) for text in  serie_tmp]\n",
    "\n",
    "ldamodel_der = gensim.models.ldamodel.LdaModel(corpus, num_topics = NUM_TOPICS, id2word=dictionary, passes=15)\n",
    "topics = ldamodel_der.print_topics(num_words=7)\n",
    "\n",
    "for topic in topics:\n",
    "    print(topic)\n"
   ]
  },
  {
   "cell_type": "code",
   "execution_count": 20,
   "metadata": {},
   "outputs": [
    {
     "name": "stdout",
     "output_type": "stream",
     "text": [
      "(0, '0.021*\"comision\" + 0.019*\"politica\" + 0.018*\"justicia\" + 0.015*\"poder\" + 0.013*\"constitucion\" + 0.012*\"diario\" + 0.012*\"saludo\"')\n",
      "(1, '0.015*\"sesion\" + 0.014*\"distrito\" + 0.014*\"democracia\" + 0.013*\"entrevista\" + 0.013*\"aniversario\" + 0.011*\"debate\" + 0.011*\"reforma\"')\n",
      "(2, '0.019*\"salud\" + 0.015*\"gobierno\" + 0.012*\"ministro\" + 0.009*\"lucha\" + 0.009*\"pais\" + 0.009*\"peru\" + 0.009*\"gestion\"')\n",
      "(3, '0.032*\"fujimori\" + 0.018*\"peru\" + 0.014*\"keiko\" + 0.012*\"columna\" + 0.010*\"indulto\" + 0.010*\"presidente\" + 0.010*\"ollanta\"')\n",
      "(4, '0.023*\"humala\" + 0.023*\"congreso\" + 0.021*\"presidente\" + 0.019*\"vizcarra\" + 0.015*\"congresista\" + 0.011*\"comision\" + 0.009*\"martin\"')\n",
      "(5, '0.029*\"gracias\" + 0.019*\"feliz\" + 0.010*\"pruebas\" + 0.008*\"muchas\" + 0.007*\"abrazo\" + 0.007*\"violencia\" + 0.007*\"juez\"')\n",
      "(6, '0.015*\"bien\" + 0.011*\"peru\" + 0.010*\"mejor\" + 0.009*\"izquierda\" + 0.009*\"mañana\" + 0.007*\"pueblo\" + 0.007*\"politica\"')\n",
      "(7, '0.016*\"toledo\" + 0.015*\"millones\" + 0.014*\"villaran\" + 0.012*\"susana\" + 0.011*\"fuerza\" + 0.011*\"peru\" + 0.011*\"odebrecht\"')\n",
      "(8, '0.010*\"estan\" + 0.009*\"solo\" + 0.008*\"peru\" + 0.008*\"terroristas\" + 0.008*\"humala\" + 0.007*\"siempre\" + 0.007*\"vamos\"')\n",
      "(9, '0.013*\"debe\" + 0.010*\"solo\" + 0.010*\"ahora\" + 0.009*\"puede\" + 0.009*\"hace\" + 0.008*\"gobierno\" + 0.008*\"medios\"')\n",
      "(0, '0.022*\"pais\" + 0.019*\"politica\" + 0.018*\"educacion\" + 0.013*\"bancada\" + 0.012*\"debe\" + 0.010*\"peru\" + 0.010*\"justicia\"')\n",
      "(1, '0.021*\"violencia\" + 0.018*\"denuncia\" + 0.014*\"mujer\" + 0.013*\"mujeres\" + 0.012*\"region\" + 0.011*\"pedido\" + 0.011*\"foto\"')\n",
      "(2, '0.021*\"facebook\" + 0.018*\"lucha\" + 0.017*\"mañana\" + 0.013*\"agua\" + 0.013*\"nacional\" + 0.010*\"lima\" + 0.010*\"proceso\"')\n",
      "(3, '0.055*\"frente\" + 0.036*\"comision\" + 0.035*\"amplio\" + 0.031*\"congresista\" + 0.026*\"congreso\" + 0.024*\"proyecto\" + 0.018*\"nuevo\"')\n",
      "(4, '0.027*\"vamos\" + 0.024*\"fujimorismo\" + 0.021*\"izquierda\" + 0.016*\"patria\" + 0.014*\"nunca\" + 0.014*\"derecha\" + 0.011*\"ayer\"')\n",
      "(5, '0.016*\"fujimori\" + 0.013*\"keiko\" + 0.013*\"fuerza\" + 0.013*\"poder\" + 0.012*\"mismo\" + 0.011*\"congreso\" + 0.010*\"caso\"')\n",
      "(6, '0.016*\"marco\" + 0.015*\"congreso\" + 0.014*\"fiscal\" + 0.014*\"comision\" + 0.013*\"informe\" + 0.011*\"corrupcion\" + 0.011*\"congresistas\"')\n",
      "(7, '0.023*\"ayacucho\" + 0.022*\"video\" + 0.020*\"garcia\" + 0.018*\"alan\" + 0.017*\"chavarry\" + 0.015*\"posted\" + 0.015*\"vivo\"')\n",
      "(8, '0.029*\"lima\" + 0.022*\"nueva\" + 0.011*\"derechos\" + 0.011*\"autoridades\" + 0.008*\"tema\" + 0.008*\"constitucion\" + 0.008*\"humberto\"')\n",
      "(9, '0.016*\"gobierno\" + 0.016*\"salud\" + 0.014*\"trabajadores\" + 0.013*\"millones\" + 0.013*\"ministro\" + 0.013*\"años\" + 0.011*\"hace\"')\n",
      "(10, '0.033*\"gracias\" + 0.013*\"bien\" + 0.013*\"feliz\" + 0.011*\"estan\" + 0.010*\"tambien\" + 0.010*\"aqui\" + 0.009*\"democracia\"')\n",
      "(0, '0.037*\"peru\" + 0.013*\"comercio\" + 0.013*\"mundo\" + 0.011*\"mujeres\" + 0.010*\"nadie\" + 0.009*\"genero\" + 0.008*\"momento\"')\n",
      "(1, '0.018*\"gran\" + 0.015*\"corrupcion\" + 0.013*\"mejor\" + 0.012*\"peru\" + 0.011*\"lima\" + 0.011*\"publico\" + 0.010*\"años\"')\n",
      "(2, '0.025*\"ministro\" + 0.013*\"fiscal\" + 0.012*\"peruana\" + 0.011*\"barnechea\" + 0.011*\"casa\" + 0.010*\"prensa\" + 0.009*\"luis\"')\n",
      "(3, '0.025*\"solo\" + 0.021*\"puede\" + 0.015*\"debe\" + 0.015*\"hace\" + 0.013*\"pais\" + 0.012*\"personas\" + 0.012*\"bien\"')\n",
      "(4, '0.018*\"peru\" + 0.013*\"odebrecht\" + 0.013*\"brasil\" + 0.012*\"saludos\" + 0.009*\"colombia\" + 0.009*\"renuncia\" + 0.008*\"intereses\"')\n",
      "(5, '0.026*\"congreso\" + 0.023*\"presidente\" + 0.014*\"vizcarra\" + 0.012*\"democracia\" + 0.008*\"nunca\" + 0.008*\"politica\" + 0.008*\"republica\"')\n",
      "(6, '0.022*\"popular\" + 0.022*\"accion\" + 0.012*\"justicia\" + 0.012*\"peru\" + 0.012*\"belaunde\" + 0.012*\"congreso\" + 0.011*\"partido\"')\n",
      "(7, '0.016*\"hola\" + 0.014*\"diario\" + 0.013*\"keiko\" + 0.012*\"ayer\" + 0.012*\"investigacion\" + 0.012*\"canciller\" + 0.011*\"estare\"')\n",
      "(8, '0.024*\"toledo\" + 0.020*\"todas\" + 0.015*\"peru\" + 0.012*\"fujimori\" + 0.012*\"programa\" + 0.011*\"politica\" + 0.010*\"equipo\"')\n",
      "(9, '0.065*\"gracias\" + 0.019*\"apoyo\" + 0.018*\"elecciones\" + 0.017*\"entrevista\" + 0.014*\"adelante\" + 0.014*\"muchas\" + 0.013*\"vivo\"')\n",
      "(10, '0.020*\"garcia\" + 0.015*\"felicitaciones\" + 0.014*\"poder\" + 0.011*\"gestion\" + 0.009*\"alan\" + 0.009*\"guerra\" + 0.009*\"judicial\"')\n"
     ]
    }
   ],
   "source": [
    "topics = ldamodel_der.print_topics(num_words=7)\n",
    "for topic in topics:\n",
    "    print(topic)\n",
    "    \n",
    "topics = ldamodel_izq.print_topics(num_words=7)\n",
    "for topic in topics:\n",
    "    print(topic)  \n",
    "\n",
    "topics = ldamodel_cen.print_topics(num_words=7)\n",
    "for topic in topics:\n",
    "    print(topic) \n"
   ]
  },
  {
   "cell_type": "code",
   "execution_count": 13,
   "metadata": {},
   "outputs": [],
   "source": [
    "\n",
    "with open(\"gensim_lda_model_der.zip\",\"wb\") as f:\n",
    "    pickle.dump(ldamodel_der,f)"
   ]
  },
  {
   "cell_type": "markdown",
   "metadata": {},
   "source": [
    "## TOPIC MODELING TWEETS DE CENTRO"
   ]
  },
  {
   "cell_type": "code",
   "execution_count": 14,
   "metadata": {
    "colab": {},
    "colab_type": "code",
    "id": "f4jbjm97zUE-"
   },
   "outputs": [
    {
     "name": "stdout",
     "output_type": "stream",
     "text": [
      "(0, '0.037*\"peru\" + 0.013*\"comercio\" + 0.013*\"mundo\" + 0.011*\"mujeres\" + 0.010*\"nadie\" + 0.009*\"genero\" + 0.008*\"momento\" + 0.008*\"canal\" + 0.008*\"venezuela\"')\n",
      "(1, '0.018*\"gran\" + 0.015*\"corrupcion\" + 0.013*\"mejor\" + 0.012*\"peru\" + 0.011*\"lima\" + 0.011*\"publico\" + 0.010*\"años\" + 0.010*\"mañana\" + 0.009*\"familia\"')\n",
      "(2, '0.025*\"ministro\" + 0.013*\"fiscal\" + 0.012*\"peruana\" + 0.011*\"barnechea\" + 0.011*\"casa\" + 0.010*\"prensa\" + 0.009*\"luis\" + 0.008*\"economia\" + 0.008*\"ministra\"')\n",
      "(3, '0.025*\"solo\" + 0.021*\"puede\" + 0.015*\"debe\" + 0.015*\"hace\" + 0.013*\"pais\" + 0.012*\"personas\" + 0.012*\"bien\" + 0.012*\"salud\" + 0.010*\"hacer\"')\n",
      "(4, '0.018*\"peru\" + 0.013*\"odebrecht\" + 0.013*\"brasil\" + 0.012*\"saludos\" + 0.009*\"colombia\" + 0.009*\"renuncia\" + 0.008*\"intereses\" + 0.008*\"acuerdo\" + 0.008*\"carlos\"')\n",
      "(5, '0.026*\"congreso\" + 0.023*\"presidente\" + 0.014*\"vizcarra\" + 0.012*\"democracia\" + 0.008*\"nunca\" + 0.008*\"politica\" + 0.008*\"republica\" + 0.008*\"nuevo\" + 0.008*\"defensa\"')\n",
      "(6, '0.022*\"popular\" + 0.022*\"accion\" + 0.012*\"justicia\" + 0.012*\"peru\" + 0.012*\"belaunde\" + 0.012*\"congreso\" + 0.011*\"partido\" + 0.010*\"favor\" + 0.010*\"pueblo\"')\n",
      "(7, '0.016*\"hola\" + 0.014*\"diario\" + 0.013*\"keiko\" + 0.012*\"ayer\" + 0.012*\"investigacion\" + 0.012*\"canciller\" + 0.011*\"estare\" + 0.010*\"noche\" + 0.009*\"comision\"')\n",
      "(8, '0.024*\"toledo\" + 0.020*\"todas\" + 0.015*\"peru\" + 0.012*\"fujimori\" + 0.012*\"programa\" + 0.011*\"politica\" + 0.010*\"equipo\" + 0.010*\"pdte\" + 0.010*\"señor\"')\n",
      "(9, '0.065*\"gracias\" + 0.019*\"apoyo\" + 0.018*\"elecciones\" + 0.017*\"entrevista\" + 0.014*\"adelante\" + 0.014*\"muchas\" + 0.013*\"vivo\" + 0.011*\"candidatos\" + 0.009*\"partido\"')\n",
      "(10, '0.020*\"garcia\" + 0.015*\"felicitaciones\" + 0.014*\"poder\" + 0.011*\"gestion\" + 0.009*\"alan\" + 0.009*\"guerra\" + 0.009*\"judicial\" + 0.009*\"eeuu\" + 0.009*\"proceso\"')\n"
     ]
    }
   ],
   "source": [
    "\n",
    "orientacion='cen'\n",
    "NUM_TOPICS = 11\n",
    "\n",
    "serie_tmp=orientacion_tweets_df_dict[orientacion].text_prep.apply(lambda txt:word_tokenize(txt))\n",
    "\n",
    "dictionary = corpora.Dictionary(serie_tmp)\n",
    "corpus = [dictionary.doc2bow(text) for text in  serie_tmp]\n",
    "\n",
    "ldamodel_cen = gensim.models.ldamodel.LdaModel(corpus, num_topics = NUM_TOPICS, id2word=dictionary, passes=15)\n",
    "topics = ldamodel_cen.print_topics(num_words=9)\n",
    "\n",
    "for topic in topics:\n",
    "    print(topic)\n"
   ]
  },
  {
   "cell_type": "code",
   "execution_count": 15,
   "metadata": {},
   "outputs": [],
   "source": [
    "\n",
    "with open(\"gensim_lda_model_cen.zip\",\"wb\") as f:\n",
    "    pickle.dump(ldamodel_cen,f)"
   ]
  },
  {
   "cell_type": "markdown",
   "metadata": {},
   "source": [
    ">## Aqui comenzamos la próxima vez"
   ]
  },
  {
   "cell_type": "code",
   "execution_count": 11,
   "metadata": {},
   "outputs": [],
   "source": [
    "\n",
    "with open(\"gensim_lda_model_cen.zip\",\"rb\") as f: \n",
    "    ldamodel_cen = pickle.load(f)  \n",
    "with open(\"gensim_lda_model_izq.zip\",\"rb\") as f: \n",
    "    ldamodel_izq = pickle.load(f)  \n",
    "with open(\"gensim_lda_model_der.zip\",\"rb\") as f: \n",
    "    ldamodel_der = pickle.load(f)  "
   ]
  },
  {
   "cell_type": "code",
   "execution_count": 18,
   "metadata": {},
   "outputs": [],
   "source": [
    "import pyLDAvis.gensim\n"
   ]
  },
  {
   "cell_type": "markdown",
   "metadata": {
    "colab_type": "text",
    "id": "-6vAQggU0R3B"
   },
   "source": [
    "### **4. Visualización con pyLDAvis**"
   ]
  },
  {
   "cell_type": "code",
   "execution_count": 19,
   "metadata": {
    "colab": {},
    "colab_type": "code",
    "id": "sNM9Z-OktIRe"
   },
   "outputs": [
    {
     "data": {
      "text/html": [
       "\n",
       "<link rel=\"stylesheet\" type=\"text/css\" href=\"https://cdn.rawgit.com/bmabey/pyLDAvis/files/ldavis.v1.0.0.css\">\n",
       "\n",
       "\n",
       "<div id=\"ldavis_el334024089546491603183361781\"></div>\n",
       "<script type=\"text/javascript\">\n",
       "\n",
       "var ldavis_el334024089546491603183361781_data = {\"mdsDat\": {\"x\": [-0.11378193984159832, -0.053781660200575634, 0.1641834538337779, -0.19677243784362877, -0.11938190450240624, -0.10936760420042412, -0.10549491487302894, 0.15132258699994872, 0.053151406759572424, 0.15668265168469464, 0.1732403621836689], \"y\": [0.19663712131828484, 0.1267907344992312, 0.03336268549805102, 0.007610655959781744, 0.030182485606731736, -0.19389402027846667, -0.20789043021782816, -0.0953538282346905, 0.15210352864144977, -0.036684849675308794, -0.012864083117236622], \"topics\": [1, 2, 3, 4, 5, 6, 7, 8, 9, 10, 11], \"cluster\": [1, 1, 1, 1, 1, 1, 1, 1, 1, 1, 1], \"Freq\": [9.617334365844727, 9.293599128723145, 7.836063861846924, 14.383712768554688, 8.734036445617676, 10.685585975646973, 9.916082382202148, 7.290445804595947, 7.086019039154053, 7.9680681228637695, 7.189054012298584]}, \"tinfo\": {\"Term\": [\"gracias\", \"peru\", \"puede\", \"solo\", \"congreso\", \"presidente\", \"popular\", \"ministro\", \"accion\", \"toledo\", \"todas\", \"apoyo\", \"debe\", \"garcia\", \"elecciones\", \"gran\", \"hace\", \"personas\", \"vizcarra\", \"mejor\", \"entrevista\", \"salud\", \"corrupcion\", \"hola\", \"partido\", \"comercio\", \"fiscal\", \"bien\", \"poder\", \"democracia\", \"comercio\", \"mujeres\", \"nadie\", \"genero\", \"momento\", \"canal\", \"tarde\", \"prueba\", \"grupo\", \"gabinete\", \"america\", \"tras\", \"errores\", \"ningun\", \"hombre\", \"nuevos\", \"terrorista\", \"inicio\", \"coronavirus\", \"dejar\", \"permanente\", \"totalmente\", \"gana\", \"solucion\", \"bolivia\", \"militar\", \"comunidad\", \"pobreza\", \"foro\", \"contrato\", \"mundo\", \"venezuela\", \"paises\", \"chile\", \"peru\", \"terrorismo\", \"hora\", \"mismo\", \"buen\", \"primer\", \"solo\", \"pais\", \"politico\", \"lucha\", \"publico\", \"familia\", \"pruebas\", \"quieren\", \"leer\", \"sabe\", \"presidencial\", \"sector\", \"ojala\", \"parlamentaria\", \"reja\", \"inmunidad\", \"compromiso\", \"condolencias\", \"deja\", \"peru21\", \"pasado\", \"conocer\", \"butters\", \"anti\", \"seguimos\", \"discurso\", \"reformas\", \"ultimos\", \"ultima\", \"francisco\", \"cero\", \"lampa\", \"declarar\", \"justo\", \"general\", \"gran\", \"ministerio\", \"ma\\u00f1ana\", \"candidato\", \"corrupcion\", \"mejor\", \"lima\", \"especial\", \"a\\u00f1os\", \"luego\", \"peru\", \"historia\", \"lucha\", \"ministro\", \"peruana\", \"barnechea\", \"casa\", \"luis\", \"ministra\", \"tres\", \"muerte\", \"alfredo\", \"plata\", \"soles\", \"jefe\", \"tendra\", \"cuestion\", \"perez\", \"declaraciones\", \"acciones\", \"policia\", \"pregunta\", \"conferencia\", \"cesar\", \"region\", \"vuelta\", \"pol\\u00edtica\", \"presupuesto\", \"pago\", \"chavarry\", \"due\\u00f1o\", \"persecuci\\u00f3n\", \"callao\", \"prensa\", \"confianza\", \"fiscal\", \"economia\", \"mujer\", \"violencia\", \"segunda\", \"sido\", \"haber\", \"puede\", \"personas\", \"salud\", \"sino\", \"falta\", \"hizo\", \"problema\", \"peor\", \"noticia\", \"usted\", \"empresas\", \"meses\", \"social\", \"cargo\", \"mientras\", \"calidad\", \"dialogo\", \"trabajadores\", \"patria\", \"prision\", \"misma\", \"habria\", \"dificil\", \"ayuda\", \"reglamento\", \"vista\", \"palacio\", \"riesgo\", \"capacidad\", \"corte\", \"error\", \"hacer\", \"hace\", \"solo\", \"debe\", \"deben\", \"bien\", \"sistema\", \"realidad\", \"tener\", \"tiempo\", \"pais\", \"pueden\", \"hacen\", \"quiere\", \"gobierno\", \"educacion\", \"tambien\", \"politica\", \"vida\", \"siempre\", \"mejor\", \"a\\u00f1os\", \"menos\", \"brasil\", \"saludos\", \"colombia\", \"renuncia\", \"intereses\", \"carlos\", \"terroristas\", \"jorge\", \"periodico\", \"razon\", \"lista\", \"camino\", \"responsabilidad\", \"alto\", \"declara\", \"medios\", \"pobres\", \"pide\", \"votar\", \"declaracion\", \"apra\", \"encuestas\", \"pesar\", \"ninguna\", \"actos\", \"siglo\", \"defender\", \"argentina\", \"votacion\", \"alla\", \"odebrecht\", \"parece\", \"excelente\", \"acuerdo\", \"peru\", \"cierto\", \"vamos\", \"solo\", \"decir\", \"parte\", \"bien\", \"vizcarra\", \"democracia\", \"republica\", \"defensa\", \"fiscales\", \"derecho\", \"alcalde\", \"ministros\", \"noticias\", \"trump\", \"cuidado\", \"dijo\", \"futuro\", \"atencion\", \"fujimorismo\", \"humala\", \"libre\", \"empresa\", \"hacerlo\", \"periodista\", \"aprobo\", \"increible\", \"jueces\", \"indispensable\", \"autoridades\", \"saber\", \"arequipa\", \"obras\", \"presidencia\", \"chinchero\", \"presidente\", \"congreso\", \"nunca\", \"constitucion\", \"partidos\", \"politicos\", \"nuevo\", \"martin\", \"congresistas\", \"politica\", \"gobierno\", \"verdad\", \"debe\", \"comision\", \"congresista\", \"poder\", \"peru\", \"ahora\", \"popular\", \"accion\", \"belaunde\", \"pueblo\", \"fuerza\", \"nacion\", \"crisis\", \"per\\u00fa\", \"pleno\", \"fernando\", \"comunicado\", \"siendo\", \"verguenza\", \"dictadura\", \"maiman\", \"marcha\", \"fondos\", \"indulto\", \"salida\", \"punto\", \"coimas\", \"universidad\", \"tenia\", \"ecoteva\", \"crecimiento\", \"acto\", \"saavedra\", \"universitaria\", \"muertos\", \"peajes\", \"favor\", \"encuesta\", \"votos\", \"sigue\", \"justicia\", \"dinero\", \"partido\", \"denuncia\", \"millones\", \"caso\", \"segun\", \"constitucional\", \"congreso\", \"peru\", \"presidente\", \"fiscal\", \"comision\", \"congresista\", \"corrupcion\", \"gobierno\", \"pais\", \"hola\", \"diario\", \"keiko\", \"ayer\", \"investigacion\", \"canciller\", \"estare\", \"noche\", \"grave\", \"twitter\", \"palabras\", \"control\", \"miembros\", \"victor\", \"alianza\", \"participacion\", \"facebook\", \"pena\", \"candidata\", \"bajo\", \"presentacion\", \"andres\", \"puedes\", \"mala\", \"pagina\", \"ganar\", \"fallo\", \"dejo\", \"vale\", \"partir\", \"foto\", \"seguridad\", \"propuestas\", \"libro\", \"reunion\", \"comision\", \"debate\", \"tema\", \"congreso\", \"proyecto\", \"toledo\", \"fujimori\", \"programa\", \"equipo\", \"pdte\", \"se\\u00f1or\", \"libertad\", \"partes\", \"fiscalia\", \"agenda\", \"mesa\", \"maduro\", \"agua\", \"urgente\", \"pedro\", \"cara\", \"redes\", \"expreso\", \"traves\", \"autoridad\", \"decisiones\", \"humanos\", \"rechazo\", \"eliminar\", \"todas\", \"lado\", \"miedo\", \"hija\", \"luchando\", \"manos\", \"claro\", \"nivel\", \"cambiar\", \"politica\", \"peru\", \"gracias\", \"apoyo\", \"entrevista\", \"adelante\", \"muchas\", \"candidatos\", \"entonces\", \"juez\", \"queda\", \"correo\", \"morado\", \"bravo\", \"cree\", \"2021\", \"radio\", \"efecto\", \"confirma\", \"legal\", \"impunidad\", \"resultados\", \"igualdad\", \"embargo\", \"buenos\", \"penal\", \"facil\", \"liderazgo\", \"llega\", \"responsables\", \"fecha\", \"vocero\", \"elecciones\", \"vivo\", \"voto\", \"jovenes\", \"comparto\", \"partido\", \"espero\", \"domingo\", \"cuenta\", \"sera\", \"campa\\u00f1a\", \"aqui\", \"dias\", \"lima\", \"garcia\", \"felicitaciones\", \"gestion\", \"alan\", \"guerra\", \"judicial\", \"eeuu\", \"ffaa\", \"reconoce\", \"china\", \"vemos\", \"corruptos\", \"manuel\", \"policias\", \"lamentable\", \"enero\", \"tremenda\", \"lava\", \"habra\", \"delito\", \"proximo\", \"mira\", \"aportes\", \"calles\", \"espa\\u00f1a\", \"mafia\", \"jato\", \"verdadera\", \"prestigioso\", \"ambos\", \"mundial\", \"proceso\", \"poder\", \"total\", \"https\", \"feliz\", \"2020\", \"peruano\", \"pasa\", \"despues\", \"pues\", \"juan\", \"lucha\", \"video\", \"justicia\"], \"Freq\": [2107.0, 3958.0, 1255.0, 1980.0, 1950.0, 1292.0, 904.0, 806.0, 880.0, 687.0, 585.0, 605.0, 1332.0, 574.0, 714.0, 992.0, 1116.0, 733.0, 629.0, 872.0, 546.0, 706.0, 940.0, 491.0, 878.0, 527.0, 644.0, 1037.0, 720.0, 528.0, 526.0413818359375, 441.42718505859375, 407.0684814453125, 356.5742492675781, 316.2582092285156, 312.4300231933594, 261.8455810546875, 221.73345947265625, 221.4704132080078, 220.3462677001953, 202.5941162109375, 191.92236328125, 180.0978240966797, 173.622802734375, 173.23634338378906, 171.50965881347656, 163.88755798339844, 163.61936950683594, 161.35562133789062, 158.82029724121094, 156.73959350585938, 155.40443420410156, 152.83860778808594, 152.33859252929688, 149.91140747070312, 149.07708740234375, 147.51708984375, 147.1238555908203, 146.87013244628906, 139.77658081054688, 506.7835998535156, 306.6633605957031, 250.22718811035156, 264.6775817871094, 1446.532958984375, 246.98902893066406, 227.68743896484375, 246.5142059326172, 237.5867462158203, 205.36131286621094, 261.0357971191406, 191.99302673339844, 177.31817626953125, 176.888671875, 400.9027404785156, 338.25311279296875, 318.62347412109375, 272.22705078125, 269.1212463378906, 230.73606872558594, 221.10569763183594, 215.73435974121094, 212.85633850097656, 212.06756591796875, 201.6573944091797, 198.62583923339844, 191.06236267089844, 184.26901245117188, 164.09347534179688, 162.79335021972656, 159.47267150878906, 157.29737854003906, 152.97959899902344, 146.74237060546875, 142.98553466796875, 135.77886962890625, 131.6396484375, 127.86502075195312, 122.33474731445312, 121.71446990966797, 119.18914794921875, 116.90245056152344, 111.34747314453125, 110.9032974243164, 274.8399353027344, 666.4989013671875, 248.48452758789062, 368.9366455078125, 318.1271667480469, 558.1788330078125, 500.8078308105469, 428.9596252441406, 177.65074157714844, 371.4879150390625, 190.96034240722656, 454.87249755859375, 164.96397399902344, 163.46360778808594, 805.5724487304688, 387.85784912109375, 351.1607666015625, 340.27325439453125, 303.79559326171875, 259.21136474609375, 225.50233459472656, 210.5400848388672, 210.48336791992188, 199.19656372070312, 190.06947326660156, 188.05235290527344, 182.65513610839844, 182.520263671875, 173.3685760498047, 170.9394989013672, 164.6204376220703, 162.10707092285156, 159.91659545898438, 151.34059143066406, 148.73329162597656, 137.6520233154297, 132.9776153564453, 131.7637939453125, 130.97268676757812, 129.55685424804688, 129.2449188232422, 127.13490295410156, 125.70408630371094, 125.02874755859375, 316.086669921875, 243.15591430664062, 412.4527282714844, 267.943115234375, 188.65386962890625, 197.6035614013672, 139.5428924560547, 152.95474243164062, 143.86273193359375, 1254.4195556640625, 732.027587890625, 705.3076782226562, 481.93829345703125, 446.5399169921875, 407.7971496582031, 369.7162780761719, 348.5542907714844, 316.94549560546875, 273.92352294921875, 263.78387451171875, 261.8001403808594, 252.5414276123047, 236.47625732421875, 229.8914337158203, 212.22994995117188, 203.84432983398438, 203.73681640625, 193.62757873535156, 191.3618621826172, 176.9749298095703, 170.4859161376953, 166.05482482910156, 156.3738250732422, 154.76866149902344, 154.5704803466797, 147.54574584960938, 147.52035522460938, 146.10043334960938, 143.48577880859375, 439.0862121582031, 607.634521484375, 886.8048706054688, 1467.8345947265625, 910.0639038085938, 394.7627258300781, 713.6319580078125, 323.0305480957031, 279.8731689453125, 361.6064453125, 383.5403137207031, 745.5715942382812, 335.423828125, 248.63027954101562, 286.1302795410156, 602.0289916992188, 378.11083984375, 454.15203857421875, 500.0598449707031, 341.5318298339844, 356.56732177734375, 371.1195983886719, 415.36907958984375, 307.1500549316406, 446.46307373046875, 440.5653076171875, 328.15826416015625, 327.7154235839844, 288.35223388671875, 268.4446716308594, 259.6573181152344, 254.60560607910156, 251.0577392578125, 250.35606384277344, 249.5652618408203, 216.88584899902344, 179.14266967773438, 178.2454376220703, 176.1197967529297, 164.9175567626953, 164.73837280273438, 164.35745239257812, 164.3162841796875, 158.091064453125, 157.404052734375, 153.08580017089844, 147.75633239746094, 145.57247924804688, 136.0246124267578, 134.86734008789062, 133.95008850097656, 127.37983703613281, 123.74418640136719, 122.63348388671875, 462.568115234375, 254.7048797607422, 180.1873321533203, 270.9080810546875, 644.1541137695312, 185.4129180908203, 195.45529174804688, 251.1295166015625, 161.13259887695312, 165.28530883789062, 167.90768432617188, 628.0691528320312, 527.0640869140625, 365.0341491699219, 361.9543762207031, 302.6859130859375, 281.7162170410156, 280.4103698730469, 238.09744262695312, 237.1800079345703, 232.6852569580078, 231.84524536132812, 223.2071075439453, 219.05599975585938, 195.42636108398438, 194.7249755859375, 186.4056854248047, 165.59947204589844, 162.96484375, 159.98611450195312, 158.5880584716797, 155.39462280273438, 151.71360778808594, 150.13363647460938, 144.84544372558594, 139.20912170410156, 139.17465209960938, 135.911376953125, 129.8524932861328, 128.30740356445312, 128.01779174804688, 987.5571899414062, 1152.92919921875, 367.15399169921875, 250.8959197998047, 259.22503662109375, 338.0599365234375, 363.32196044921875, 177.24354553222656, 284.0677185058594, 366.72418212890625, 313.79412841796875, 218.34890747070312, 274.5411682128906, 234.74368286132812, 230.53929138183594, 231.07472229003906, 292.83734130859375, 230.20333862304688, 903.7905883789062, 879.0492553710938, 478.0550842285156, 421.8019104003906, 344.6491394042969, 296.7845764160156, 282.69073486328125, 246.10763549804688, 205.95260620117188, 205.08319091796875, 201.6578826904297, 183.40684509277344, 172.9745330810547, 162.71571350097656, 160.8814239501953, 155.56166076660156, 151.81214904785156, 148.9140167236328, 143.2200469970703, 140.66639709472656, 134.48922729492188, 133.47698974609375, 130.67234802246094, 125.68550109863281, 122.1134262084961, 118.31100463867188, 118.10694885253906, 117.97760772705078, 117.35663604736328, 115.36009979248047, 425.19000244140625, 253.4513397216797, 273.8579406738281, 318.4317932128906, 486.1175231933594, 271.1047668457031, 444.59503173828125, 186.37722778320312, 338.8918762207031, 330.11395263671875, 225.8023681640625, 179.1344451904297, 474.89984130859375, 480.5820617675781, 303.88818359375, 231.4733123779297, 229.05294799804688, 226.4149932861328, 229.62127685546875, 233.7879180908203, 191.86595153808594, 490.2978515625, 408.7933349609375, 379.428466796875, 371.8405456542969, 367.9031677246094, 358.5928955078125, 320.4217529296875, 288.3757019042969, 240.2796630859375, 233.6229705810547, 208.56643676757812, 201.0914306640625, 188.63490295410156, 188.3090362548828, 185.4613494873047, 183.61367797851562, 180.5822296142578, 168.1676025390625, 164.59530639648438, 150.7320098876953, 146.01043701171875, 143.91400146484375, 141.2344207763672, 137.84869384765625, 132.71800231933594, 130.78924560546875, 129.94091796875, 129.85218811035156, 128.02011108398438, 126.1254653930664, 217.81304931640625, 243.56138610839844, 248.4173583984375, 155.74940490722656, 169.33377075195312, 255.91915893554688, 216.6694793701172, 165.79754638671875, 199.53260803222656, 148.7991485595703, 686.1239013671875, 352.35626220703125, 334.1140441894531, 284.6696472167969, 279.4920959472656, 278.8601379394531, 275.6433410644531, 268.9386291503906, 250.11331176757812, 228.22802734375, 221.82553100585938, 218.9016876220703, 211.7565155029297, 196.45965576171875, 182.646240234375, 173.3668670654297, 172.73895263671875, 155.1393280029297, 146.41867065429688, 142.26170349121094, 138.48992919921875, 134.83631896972656, 133.71926879882812, 132.33657836914062, 580.30517578125, 126.89418029785156, 120.78305053710938, 118.80108642578125, 117.06649780273438, 116.98607635498047, 274.9697265625, 163.32052612304688, 161.69549560546875, 322.57696533203125, 442.0840759277344, 2106.652099609375, 604.718505859375, 545.2666625976562, 446.94512939453125, 446.826171875, 360.69940185546875, 266.71832275390625, 240.6255340576172, 212.29962158203125, 197.46237182617188, 178.69781494140625, 177.75755310058594, 158.76715087890625, 157.98208618164062, 152.94798278808594, 150.5208740234375, 140.23464965820312, 139.64898681640625, 133.68948364257812, 127.74037170410156, 127.47901153564453, 127.28511047363281, 123.15910339355469, 122.41126251220703, 121.98194885253906, 119.11097717285156, 117.64384460449219, 115.36474609375, 114.04174041748047, 111.31375885009766, 574.7377319335938, 418.68670654296875, 304.292724609375, 220.0345916748047, 165.0414276123047, 307.7106018066406, 150.14218139648438, 180.701904296875, 188.1761932373047, 231.43051147460938, 199.9398193359375, 203.15164184570312, 180.28671264648438, 193.14382934570312, 573.5197143554688, 441.3045654296875, 320.2493591308594, 279.2329406738281, 268.5196838378906, 267.506591796875, 265.33203125, 228.70895385742188, 213.87326049804688, 197.65980529785156, 164.1746063232422, 162.1356201171875, 152.4691619873047, 151.4285888671875, 150.21449279785156, 143.4642791748047, 134.68089294433594, 134.3881072998047, 129.75885009765625, 128.60498046875, 128.11209106445312, 127.25300598144531, 124.53691101074219, 123.1075210571289, 119.43895721435547, 114.87109375, 113.41891479492188, 112.69506072998047, 111.94557189941406, 109.82640838623047, 214.34547424316406, 258.9818420410156, 401.6376037597656, 191.1141357421875, 185.3613739013672, 239.73306274414062, 199.34283447265625, 206.59658813476562, 160.68064880371094, 215.28367614746094, 156.512939453125, 154.849609375, 215.40280151367188, 178.0539093017578, 180.63681030273438], \"Total\": [2107.0, 3958.0, 1255.0, 1980.0, 1950.0, 1292.0, 904.0, 806.0, 880.0, 687.0, 585.0, 605.0, 1332.0, 574.0, 714.0, 992.0, 1116.0, 733.0, 629.0, 872.0, 546.0, 706.0, 940.0, 491.0, 878.0, 527.0, 644.0, 1037.0, 720.0, 528.0, 527.118408203125, 442.5042419433594, 408.1455078125, 357.65130615234375, 317.3352355957031, 313.5070495605469, 262.922607421875, 222.81053161621094, 222.5474853515625, 221.42332458496094, 203.67117309570312, 192.9994354248047, 181.17486572265625, 174.69985961914062, 174.3134002685547, 172.5867156982422, 164.964599609375, 164.6964111328125, 162.4326629638672, 159.89735412597656, 157.8166961669922, 156.48147583007812, 153.91566467285156, 153.41563415527344, 150.9884490966797, 150.1541748046875, 148.5941619873047, 148.2008819580078, 147.94712829589844, 140.85365295410156, 569.87744140625, 384.02996826171875, 302.3450622558594, 337.829833984375, 3958.000244140625, 331.4087829589844, 295.6834411621094, 503.971923828125, 508.0717468261719, 435.6873779296875, 1980.856689453125, 1330.0423583984375, 551.6564331054688, 556.6085205078125, 401.9814758300781, 339.33184814453125, 319.7022399902344, 273.30584716796875, 270.1999816894531, 231.8148193359375, 222.18447875976562, 216.81314086914062, 213.93507385253906, 213.14637756347656, 202.73622131347656, 199.70460510253906, 192.14112854003906, 185.3477325439453, 165.1722412109375, 163.87217712402344, 160.5514373779297, 158.3761444091797, 154.05844116210938, 147.82115173339844, 144.06430053710938, 136.85768127441406, 132.7184295654297, 128.94375610351562, 123.41353607177734, 122.7932357788086, 120.26790618896484, 117.9813003540039, 112.4262466430664, 111.98204040527344, 335.2598571777344, 992.4189453125, 299.26983642578125, 499.6512145996094, 430.8729553222656, 940.9855346679688, 872.892822265625, 941.6449584960938, 230.29855346679688, 1403.6947021484375, 310.0058288574219, 3958.000244140625, 384.3678283691406, 556.6085205078125, 806.6571655273438, 388.9425964355469, 352.24591064453125, 341.3580017089844, 304.8803405761719, 260.296142578125, 226.58709716796875, 211.62486267089844, 211.5681915283203, 200.2813262939453, 191.1542510986328, 189.1371307373047, 183.7399139404297, 183.6050262451172, 174.45333862304688, 172.02427673339844, 165.70521545410156, 163.19183349609375, 161.00132751464844, 152.4253387451172, 149.81805419921875, 138.73678588867188, 134.0623321533203, 132.84854125976562, 132.0574493408203, 130.64166259765625, 130.32972717285156, 128.2196807861328, 126.78890228271484, 126.11353302001953, 378.8777160644531, 299.3800354003906, 644.9088134765625, 391.11370849609375, 304.17919921875, 389.9179382324219, 185.76019287109375, 344.588623046875, 258.4532775878906, 1255.4976806640625, 733.10546875, 706.3855590820312, 483.0162353515625, 447.61785888671875, 408.8750915527344, 370.794189453125, 349.6322326660156, 318.0234375, 275.0014953613281, 264.86181640625, 262.8780822753906, 253.61936950683594, 237.55422973632812, 230.9693603515625, 213.30789184570312, 204.9222869873047, 204.8147735595703, 194.70553588867188, 192.43978881835938, 178.05288696289062, 171.56387329101562, 167.1327667236328, 157.45175170898438, 155.8466796875, 155.6484375, 148.6237335205078, 148.59829711914062, 147.17835998535156, 144.56375122070312, 486.0225524902344, 712.8815307617188, 1116.142578125, 1980.856689453125, 1332.3243408203125, 482.2464294433594, 1037.134765625, 391.7077941894531, 329.1873779296875, 472.1595153808594, 514.5618896484375, 1330.0423583984375, 436.4904479980469, 283.0017395019531, 357.0437927246094, 1390.8067626953125, 641.4706420898438, 948.8287963867188, 1635.302978515625, 583.20068359375, 707.3392944335938, 872.892822265625, 1403.6947021484375, 467.18316650390625, 447.5471496582031, 441.64935302734375, 329.2423400878906, 328.799560546875, 289.4363708496094, 269.5287780761719, 260.7414245605469, 255.68966674804688, 252.1419219970703, 251.4401092529297, 250.6493377685547, 217.96994018554688, 180.2267303466797, 179.32952880859375, 177.2039031982422, 166.00161743164062, 165.82241821289062, 165.44154357910156, 165.40036010742188, 159.17514038085938, 158.48812866210938, 154.16986083984375, 148.8404083251953, 146.6565704345703, 137.1087188720703, 135.95143127441406, 135.03414916992188, 128.4639129638672, 124.8282699584961, 123.71755981445312, 760.9428100585938, 347.615234375, 220.83279418945312, 506.9330749511719, 3958.000244140625, 316.36126708984375, 431.4449157714844, 1980.856689453125, 278.8774108886719, 510.95733642578125, 1037.134765625, 629.1587524414062, 528.1536865234375, 366.1238098144531, 363.0440368652344, 303.77557373046875, 282.8058776855469, 281.5000305175781, 239.18710327148438, 238.2696990966797, 233.7749786376953, 232.93490600585938, 224.2967529296875, 220.14564514160156, 196.5159912109375, 195.8146209716797, 187.49533081054688, 166.68910217285156, 164.0544891357422, 161.07577514648438, 159.67771911621094, 156.4843292236328, 152.80325317382812, 151.2232666015625, 145.9351348876953, 140.2987518310547, 140.2643280029297, 137.00100708007812, 130.942138671875, 129.39703369140625, 129.10745239257812, 1292.4332275390625, 1950.8641357421875, 487.3164367675781, 302.0457458496094, 327.0053405761719, 492.3764343261719, 627.3900756835938, 206.82667541503906, 503.660888671875, 1635.302978515625, 1390.8067626953125, 448.8982238769531, 1332.3243408203125, 720.5923461914062, 700.6697998046875, 720.0796508789062, 3958.000244140625, 1054.99755859375, 904.8798217773438, 880.1384887695312, 479.1444091796875, 422.8912048339844, 345.73846435546875, 297.8739013671875, 283.7800598144531, 247.1968994140625, 207.04193115234375, 206.1725311279297, 202.7471923828125, 184.4961700439453, 174.06382751464844, 163.80499267578125, 161.970703125, 156.65097045898438, 152.90147399902344, 150.00360107421875, 144.3093719482422, 141.75570678710938, 135.5785675048828, 134.56629943847656, 131.7616424560547, 126.77481842041016, 123.20272827148438, 119.40032196044922, 119.19627380371094, 119.0669937133789, 118.4459457397461, 116.44942474365234, 530.4757690429688, 292.75604248046875, 333.2380065917969, 410.9608154296875, 744.0360107421875, 358.143310546875, 878.1348266601562, 232.50747680664062, 679.940673828125, 675.1324462890625, 348.1119384765625, 228.8342742919922, 1950.8641357421875, 3958.000244140625, 1292.4332275390625, 644.9088134765625, 720.5923461914062, 700.6697998046875, 940.9855346679688, 1390.8067626953125, 1330.0423583984375, 491.37799072265625, 409.87335205078125, 380.50848388671875, 372.9205627441406, 368.98321533203125, 359.6730041503906, 321.50177001953125, 289.4557189941406, 241.3596954345703, 234.70297241210938, 209.646484375, 202.1714630126953, 189.71495056152344, 189.38905334472656, 186.5413818359375, 184.6937255859375, 181.6622314453125, 169.2476043701172, 165.6753692626953, 151.81204223632812, 147.09043884277344, 144.9940185546875, 142.31442260742188, 138.92872619628906, 133.7980194091797, 131.8692626953125, 131.02098083496094, 130.93222045898438, 129.10009765625, 127.20549011230469, 287.1163635253906, 340.2012939453125, 390.4789733886719, 186.26678466796875, 219.76956176757812, 720.5923461914062, 545.56591796875, 393.5694580078125, 1950.8641357421875, 461.6749572753906, 687.20849609375, 353.44091796875, 335.1986389160156, 285.7542724609375, 280.57672119140625, 279.94476318359375, 276.72796630859375, 270.02325439453125, 251.1979522705078, 229.3126983642578, 222.91015625, 219.98629760742188, 212.84112548828125, 197.54428100585938, 183.73086547851562, 174.4514923095703, 173.82357788085938, 156.22396850585938, 147.50331115722656, 143.34634399414062, 139.57460021972656, 135.92095947265625, 134.8039093017578, 133.4212646484375, 585.1875610351562, 127.97880554199219, 121.86766815185547, 119.88569641113281, 118.15145111083984, 118.07068634033203, 389.35736083984375, 232.11895751953125, 248.9637451171875, 1635.302978515625, 3958.000244140625, 2107.738037109375, 605.8043212890625, 546.3524780273438, 448.0309753417969, 447.9119873046875, 361.7852478027344, 267.80419921875, 241.71139526367188, 213.38546752929688, 198.5482635498047, 179.78382873535156, 178.8434295654297, 159.85299682617188, 159.06796264648438, 154.03379821777344, 151.6067352294922, 141.32054138183594, 140.73483276367188, 134.77536010742188, 128.82620239257812, 128.56492614746094, 128.37098693847656, 124.24491882324219, 123.49714660644531, 123.06777954101562, 120.19683074951172, 118.7297134399414, 116.45059967041016, 115.12760925292969, 112.39959716796875, 714.19677734375, 536.3858032226562, 423.6510009765625, 331.4140930175781, 227.88381958007812, 878.1348266601562, 192.78521728515625, 294.61444091796875, 331.1225891113281, 610.7068481445312, 577.6895751953125, 650.0610961914062, 568.6471557617188, 941.6449584960938, 574.599609375, 442.3844909667969, 321.3292541503906, 280.31280517578125, 269.5995788574219, 268.5864562988281, 266.41192626953125, 229.7888641357422, 214.9531707763672, 198.7397003173828, 165.25453186035156, 163.2155303955078, 153.549072265625, 152.5084991455078, 151.29440307617188, 144.5442352294922, 135.76080322265625, 135.46800231933594, 130.83876037597656, 129.68487548828125, 129.1920166015625, 128.33290100097656, 125.6168441772461, 124.18741607666016, 120.51887512207031, 115.95096588134766, 114.49881744384766, 113.77499389648438, 113.02558898925781, 110.90630340576172, 280.22698974609375, 373.89129638671875, 720.0796508789062, 245.96002197265625, 259.1338806152344, 419.8505859375, 307.86798095703125, 353.58380126953125, 218.50161743164062, 475.4708251953125, 218.1056365966797, 214.47288513183594, 556.6085205078125, 415.30145263671875, 744.0360107421875], \"Category\": [\"Default\", \"Default\", \"Default\", \"Default\", \"Default\", \"Default\", \"Default\", \"Default\", \"Default\", \"Default\", \"Default\", \"Default\", \"Default\", \"Default\", \"Default\", \"Default\", \"Default\", \"Default\", \"Default\", \"Default\", \"Default\", \"Default\", \"Default\", \"Default\", \"Default\", \"Default\", \"Default\", \"Default\", \"Default\", \"Default\", \"Topic1\", \"Topic1\", \"Topic1\", \"Topic1\", \"Topic1\", \"Topic1\", \"Topic1\", \"Topic1\", \"Topic1\", \"Topic1\", \"Topic1\", \"Topic1\", \"Topic1\", \"Topic1\", \"Topic1\", \"Topic1\", \"Topic1\", \"Topic1\", \"Topic1\", \"Topic1\", \"Topic1\", \"Topic1\", \"Topic1\", \"Topic1\", \"Topic1\", \"Topic1\", \"Topic1\", \"Topic1\", \"Topic1\", \"Topic1\", \"Topic1\", \"Topic1\", \"Topic1\", \"Topic1\", \"Topic1\", \"Topic1\", \"Topic1\", \"Topic1\", \"Topic1\", \"Topic1\", \"Topic1\", \"Topic1\", \"Topic1\", \"Topic1\", \"Topic2\", \"Topic2\", \"Topic2\", \"Topic2\", \"Topic2\", \"Topic2\", \"Topic2\", \"Topic2\", \"Topic2\", \"Topic2\", \"Topic2\", \"Topic2\", \"Topic2\", \"Topic2\", \"Topic2\", \"Topic2\", \"Topic2\", \"Topic2\", \"Topic2\", \"Topic2\", \"Topic2\", \"Topic2\", \"Topic2\", \"Topic2\", \"Topic2\", \"Topic2\", \"Topic2\", \"Topic2\", \"Topic2\", \"Topic2\", \"Topic2\", \"Topic2\", \"Topic2\", \"Topic2\", \"Topic2\", \"Topic2\", \"Topic2\", \"Topic2\", \"Topic2\", \"Topic2\", \"Topic2\", \"Topic2\", \"Topic2\", \"Topic2\", \"Topic3\", \"Topic3\", \"Topic3\", \"Topic3\", \"Topic3\", \"Topic3\", \"Topic3\", \"Topic3\", \"Topic3\", \"Topic3\", \"Topic3\", \"Topic3\", \"Topic3\", \"Topic3\", \"Topic3\", \"Topic3\", \"Topic3\", \"Topic3\", \"Topic3\", \"Topic3\", \"Topic3\", \"Topic3\", \"Topic3\", \"Topic3\", \"Topic3\", \"Topic3\", \"Topic3\", \"Topic3\", \"Topic3\", \"Topic3\", \"Topic3\", \"Topic3\", \"Topic3\", \"Topic3\", \"Topic3\", \"Topic3\", \"Topic3\", \"Topic3\", \"Topic3\", \"Topic4\", \"Topic4\", \"Topic4\", \"Topic4\", \"Topic4\", \"Topic4\", \"Topic4\", \"Topic4\", \"Topic4\", \"Topic4\", \"Topic4\", \"Topic4\", \"Topic4\", \"Topic4\", \"Topic4\", \"Topic4\", \"Topic4\", \"Topic4\", \"Topic4\", \"Topic4\", \"Topic4\", \"Topic4\", \"Topic4\", \"Topic4\", \"Topic4\", \"Topic4\", \"Topic4\", \"Topic4\", \"Topic4\", \"Topic4\", \"Topic4\", \"Topic4\", \"Topic4\", \"Topic4\", \"Topic4\", \"Topic4\", \"Topic4\", \"Topic4\", \"Topic4\", \"Topic4\", \"Topic4\", \"Topic4\", \"Topic4\", \"Topic4\", \"Topic4\", \"Topic4\", \"Topic4\", \"Topic4\", \"Topic4\", \"Topic4\", \"Topic4\", \"Topic4\", \"Topic4\", \"Topic4\", \"Topic5\", \"Topic5\", \"Topic5\", \"Topic5\", \"Topic5\", \"Topic5\", \"Topic5\", \"Topic5\", \"Topic5\", \"Topic5\", \"Topic5\", \"Topic5\", \"Topic5\", \"Topic5\", \"Topic5\", \"Topic5\", \"Topic5\", \"Topic5\", \"Topic5\", \"Topic5\", \"Topic5\", \"Topic5\", \"Topic5\", \"Topic5\", \"Topic5\", \"Topic5\", \"Topic5\", \"Topic5\", \"Topic5\", \"Topic5\", \"Topic5\", \"Topic5\", \"Topic5\", \"Topic5\", \"Topic5\", \"Topic5\", \"Topic5\", \"Topic5\", \"Topic5\", \"Topic5\", \"Topic5\", \"Topic6\", \"Topic6\", \"Topic6\", \"Topic6\", \"Topic6\", \"Topic6\", \"Topic6\", \"Topic6\", \"Topic6\", \"Topic6\", \"Topic6\", \"Topic6\", \"Topic6\", \"Topic6\", \"Topic6\", \"Topic6\", \"Topic6\", \"Topic6\", \"Topic6\", \"Topic6\", \"Topic6\", \"Topic6\", \"Topic6\", \"Topic6\", \"Topic6\", \"Topic6\", \"Topic6\", \"Topic6\", \"Topic6\", \"Topic6\", \"Topic6\", \"Topic6\", \"Topic6\", \"Topic6\", \"Topic6\", \"Topic6\", \"Topic6\", \"Topic6\", \"Topic6\", \"Topic6\", \"Topic6\", \"Topic6\", \"Topic6\", \"Topic6\", \"Topic6\", \"Topic6\", \"Topic6\", \"Topic6\", \"Topic7\", \"Topic7\", \"Topic7\", \"Topic7\", \"Topic7\", \"Topic7\", \"Topic7\", \"Topic7\", \"Topic7\", \"Topic7\", \"Topic7\", \"Topic7\", \"Topic7\", \"Topic7\", \"Topic7\", \"Topic7\", \"Topic7\", \"Topic7\", \"Topic7\", \"Topic7\", \"Topic7\", \"Topic7\", \"Topic7\", \"Topic7\", \"Topic7\", \"Topic7\", \"Topic7\", \"Topic7\", \"Topic7\", \"Topic7\", \"Topic7\", \"Topic7\", \"Topic7\", \"Topic7\", \"Topic7\", \"Topic7\", \"Topic7\", \"Topic7\", \"Topic7\", \"Topic7\", \"Topic7\", \"Topic7\", \"Topic7\", \"Topic7\", \"Topic7\", \"Topic7\", \"Topic7\", \"Topic7\", \"Topic7\", \"Topic7\", \"Topic7\", \"Topic8\", \"Topic8\", \"Topic8\", \"Topic8\", \"Topic8\", \"Topic8\", \"Topic8\", \"Topic8\", \"Topic8\", \"Topic8\", \"Topic8\", \"Topic8\", \"Topic8\", \"Topic8\", \"Topic8\", \"Topic8\", \"Topic8\", \"Topic8\", \"Topic8\", \"Topic8\", \"Topic8\", \"Topic8\", \"Topic8\", \"Topic8\", \"Topic8\", \"Topic8\", \"Topic8\", \"Topic8\", \"Topic8\", \"Topic8\", \"Topic8\", \"Topic8\", \"Topic8\", \"Topic8\", \"Topic8\", \"Topic8\", \"Topic8\", \"Topic8\", \"Topic8\", \"Topic8\", \"Topic9\", \"Topic9\", \"Topic9\", \"Topic9\", \"Topic9\", \"Topic9\", \"Topic9\", \"Topic9\", \"Topic9\", \"Topic9\", \"Topic9\", \"Topic9\", \"Topic9\", \"Topic9\", \"Topic9\", \"Topic9\", \"Topic9\", \"Topic9\", \"Topic9\", \"Topic9\", \"Topic9\", \"Topic9\", \"Topic9\", \"Topic9\", \"Topic9\", \"Topic9\", \"Topic9\", \"Topic9\", \"Topic9\", \"Topic9\", \"Topic9\", \"Topic9\", \"Topic9\", \"Topic9\", \"Topic9\", \"Topic10\", \"Topic10\", \"Topic10\", \"Topic10\", \"Topic10\", \"Topic10\", \"Topic10\", \"Topic10\", \"Topic10\", \"Topic10\", \"Topic10\", \"Topic10\", \"Topic10\", \"Topic10\", \"Topic10\", \"Topic10\", \"Topic10\", \"Topic10\", \"Topic10\", \"Topic10\", \"Topic10\", \"Topic10\", \"Topic10\", \"Topic10\", \"Topic10\", \"Topic10\", \"Topic10\", \"Topic10\", \"Topic10\", \"Topic10\", \"Topic10\", \"Topic10\", \"Topic10\", \"Topic10\", \"Topic10\", \"Topic10\", \"Topic10\", \"Topic10\", \"Topic10\", \"Topic10\", \"Topic10\", \"Topic10\", \"Topic10\", \"Topic10\", \"Topic11\", \"Topic11\", \"Topic11\", \"Topic11\", \"Topic11\", \"Topic11\", \"Topic11\", \"Topic11\", \"Topic11\", \"Topic11\", \"Topic11\", \"Topic11\", \"Topic11\", \"Topic11\", \"Topic11\", \"Topic11\", \"Topic11\", \"Topic11\", \"Topic11\", \"Topic11\", \"Topic11\", \"Topic11\", \"Topic11\", \"Topic11\", \"Topic11\", \"Topic11\", \"Topic11\", \"Topic11\", \"Topic11\", \"Topic11\", \"Topic11\", \"Topic11\", \"Topic11\", \"Topic11\", \"Topic11\", \"Topic11\", \"Topic11\", \"Topic11\", \"Topic11\", \"Topic11\", \"Topic11\", \"Topic11\", \"Topic11\", \"Topic11\", \"Topic11\"], \"logprob\": [30.0, 29.0, 28.0, 27.0, 26.0, 25.0, 24.0, 23.0, 22.0, 21.0, 20.0, 19.0, 18.0, 17.0, 16.0, 15.0, 14.0, 13.0, 12.0, 11.0, 10.0, 9.0, 8.0, 7.0, 6.0, 5.0, 4.0, 3.0, 2.0, 1.0, -4.314199924468994, -4.489500045776367, -4.5706000328063965, -4.703000068664551, -4.822999954223633, -4.83519983291626, -5.0117998123168945, -5.178100109100342, -5.179299831390381, -5.1844000816345215, -5.2683000564575195, -5.322500228881836, -5.386099815368652, -5.422699928283691, -5.424900054931641, -5.434899806976318, -5.480400085449219, -5.48199987411499, -5.4959001541137695, -5.5117998123168945, -5.525000095367432, -5.5335001945495605, -5.55019998550415, -5.553400039672852, -5.569499969482422, -5.575099945068359, -5.585599899291992, -5.5883002281188965, -5.590000152587891, -5.639500141143799, -4.351500034332275, -4.853799819946289, -5.057199954986572, -5.000999927520752, -3.3025999069213867, -5.070199966430664, -5.151599884033203, -5.0721001625061035, -5.109000205993652, -5.254799842834473, -5.014900207519531, -5.3221001625061035, -5.401599884033203, -5.4039998054504395, -4.551599979400635, -4.721499919891357, -4.781300067901611, -4.938700199127197, -4.950200080871582, -5.104000091552734, -5.146699905395508, -5.171299934387207, -5.184700012207031, -5.188399791717529, -5.238699913024902, -5.253900051116943, -5.292699813842773, -5.32889986038208, -5.444900035858154, -5.4527997970581055, -5.473400115966797, -5.487199783325195, -5.514999866485596, -5.556600093841553, -5.582600116729736, -5.634300231933594, -5.665200233459473, -5.694300174713135, -5.73859977722168, -5.743599891662598, -5.764599800109863, -5.783999919891357, -5.832699775695801, -5.836699962615967, -4.929100036621094, -4.043300151824951, -5.029900074005127, -4.634699821472168, -4.782899856567383, -4.220600128173828, -4.329100131988525, -4.484000205993652, -5.365499973297119, -4.627799987792969, -5.2932000160217285, -4.425300121307373, -5.439599990844727, -5.448699951171875, -3.683199882507324, -4.414100170135498, -4.513500213623047, -4.545000076293945, -4.658400058746338, -4.8171000480651855, -4.956399917602539, -5.025000095367432, -5.025300025939941, -5.080399990081787, -5.127299785614014, -5.138000011444092, -5.167099952697754, -5.167900085449219, -5.219299793243408, -5.233399868011475, -5.271100044250488, -5.286499977111816, -5.300099849700928, -5.355199813842773, -5.372600078582764, -5.449999809265137, -5.484499931335449, -5.49370002746582, -5.49970006942749, -5.5106000900268555, -5.513000011444092, -5.5295000076293945, -5.540800094604492, -5.546199798583984, -4.61870002746582, -4.88100004196167, -4.35260009765625, -4.783899784088135, -5.134799957275391, -5.088500022888184, -5.436399936676025, -5.344600200653076, -5.405900001525879, -3.8477001190185547, -4.386300086975098, -4.423399925231934, -4.804299831390381, -4.8805999755859375, -4.97130012512207, -5.069300174713135, -5.128300189971924, -5.223400115966797, -5.369200229644775, -5.4070000648498535, -5.4145002365112305, -5.450500011444092, -5.516200065612793, -5.54449987411499, -5.6244001388549805, -5.664700031280518, -5.665299892425537, -5.716100215911865, -5.72790002822876, -5.806099891662598, -5.843400001525879, -5.869800090789795, -5.929800033569336, -5.940199851989746, -5.941400051116943, -5.9878997802734375, -5.988100051879883, -5.997799873352051, -6.0157999992370605, -4.89739990234375, -4.572500228881836, -4.194499969482422, -3.690500020980835, -4.168600082397461, -5.003799915313721, -4.4116997718811035, -5.2042999267578125, -5.347700119018555, -5.0914998054504395, -5.032599925994873, -4.3678998947143555, -5.1666998863220215, -5.466100215911865, -5.3256001472473145, -4.5817999839782715, -5.046899795532227, -4.863699913024902, -4.767399787902832, -5.148600101470947, -5.105599880218506, -5.0655999183654785, -4.952899932861328, -5.254700183868408, -4.381899833679199, -4.395199775695801, -4.689700126647949, -4.691100120544434, -4.818999767303467, -4.890600204467773, -4.923900127410889, -4.94350004196167, -4.957499980926514, -4.960299968719482, -4.963500022888184, -5.103799819946289, -5.295000076293945, -5.300099849700928, -5.312099933624268, -5.377799987792969, -5.378900051116943, -5.381199836730957, -5.381400108337402, -5.420000076293945, -5.4243998527526855, -5.452199935913086, -5.487599849700928, -5.502500057220459, -5.570400238037109, -5.57889986038208, -5.585700035095215, -5.636000156402588, -5.664999961853027, -5.673999786376953, -4.346399784088135, -4.9430999755859375, -5.2891998291015625, -4.881400108337402, -4.0152997970581055, -5.2606000900268555, -5.207900047302246, -4.957200050354004, -5.401000022888184, -5.375500202178955, -5.359799861907959, -4.242199897766113, -4.417600154876709, -4.784900188446045, -4.793399810791016, -4.9721999168396, -5.044000148773193, -5.048600196838379, -5.212200164794922, -5.216100215911865, -5.235199928283691, -5.238800048828125, -5.276800155639648, -5.295599937438965, -5.4096999168396, -5.413300037384033, -5.456999778747559, -5.575300216674805, -5.591300010681152, -5.609799861907959, -5.618599891662598, -5.638899803161621, -5.662899971008301, -5.673399925231934, -5.709199905395508, -5.748899936676025, -5.749199867248535, -5.772900104522705, -5.81850004196167, -5.83050012588501, -5.832699775695801, -3.789599895477295, -3.6347999572753906, -4.779099941253662, -5.159800052642822, -5.127200126647949, -4.861700057983398, -4.789599895477295, -5.507400035858154, -5.035699844360352, -4.780300140380859, -4.936100006103516, -5.298799991607666, -5.069799900054932, -5.226399898529053, -5.244500160217285, -5.242099761962891, -5.005300045013428, -5.2459001541137695, -3.803499937057495, -3.8313000202178955, -4.440400123596191, -4.5655999183654785, -4.767600059509277, -4.917099952697754, -4.965799808502197, -5.104400157928467, -5.28249979019165, -5.2866997718811035, -5.303599834442139, -5.398399829864502, -5.456999778747559, -5.518099784851074, -5.5295000076293945, -5.5630998611450195, -5.587500095367432, -5.606800079345703, -5.6458001136779785, -5.66379976272583, -5.708700180053711, -5.71619987487793, -5.737500190734863, -5.776400089263916, -5.805200099945068, -5.8368000984191895, -5.838600158691406, -5.839600086212158, -5.844900131225586, -5.862100124359131, -4.557600021362305, -5.074999809265137, -4.997499942779541, -4.846700191497803, -4.423699855804443, -5.007599830627441, -4.513000011444092, -5.382400035858154, -4.7845001220703125, -4.810699939727783, -5.190499782562256, -5.421999931335449, -4.447000026702881, -4.435100078582764, -4.893499851226807, -5.1656999588012695, -5.176199913024902, -5.18779993057251, -5.173699855804443, -5.155700206756592, -5.353300094604492, -4.107500076293945, -4.289299964904785, -4.363900184631348, -4.384099960327148, -4.394700050354004, -4.420400142669678, -4.532899856567383, -4.638299942016602, -4.820700168609619, -4.848800182342529, -4.962299823760986, -4.998799800872803, -5.062699794769287, -5.064499855041504, -5.079699993133545, -5.089700222015381, -5.106400012969971, -5.177599906921387, -5.199100017547607, -5.2870001792907715, -5.318900108337402, -5.3333001136779785, -5.352099895477295, -5.376399993896484, -5.414299964904785, -5.428999900817871, -5.435500144958496, -5.436200141906738, -5.450399875640869, -5.4653000831604, -4.918900012969971, -4.807199954986572, -4.787399768829346, -5.254300117492676, -5.1707000732421875, -4.757699966430664, -4.924200057983398, -5.191800117492676, -5.0065999031066895, -5.300000190734863, -3.7430999279022217, -4.4095001220703125, -4.462600231170654, -4.622799873352051, -4.64109992980957, -4.643400192260742, -4.65500020980835, -4.679599761962891, -4.752200126647949, -4.843800067901611, -4.872200012207031, -4.885499954223633, -4.918700218200684, -4.99370002746582, -5.0665998458862305, -5.11870002746582, -5.122300148010254, -5.229800224304199, -5.287600040435791, -5.316400051116943, -5.343299865722656, -5.369999885559082, -5.378399848937988, -5.388800144195557, -3.910599946975708, -5.430799961090088, -5.480100154876709, -5.496699810028076, -5.51140022277832, -5.5121002197265625, -4.657400131225586, -5.178400039672852, -5.188399791717529, -4.497799873352051, -4.182600021362305, -2.738600015640259, -3.9867000579833984, -4.090199947357178, -4.289000034332275, -4.289299964904785, -4.503399848937988, -4.805200099945068, -4.908199787139893, -5.033400058746338, -5.105899810791016, -5.205699920654297, -5.210999965667725, -5.323999881744385, -5.32889986038208, -5.361299991607666, -5.377299785614014, -5.4481000900268555, -5.452300071716309, -5.4959001541137695, -5.541399955749512, -5.543499946594238, -5.545000076293945, -5.578000068664551, -5.584000110626221, -5.587600231170654, -5.611400127410889, -5.623799800872803, -5.6433000564575195, -5.654900074005127, -5.679100036621094, -4.037499904632568, -4.354300022125244, -4.673399925231934, -4.997600078582764, -5.285200119018555, -4.662300109863281, -5.379799842834473, -5.1946001052856445, -5.154099941253662, -4.9471001625061035, -5.093400001525879, -5.077499866485596, -5.196899890899658, -5.127999782562256, -3.936800003051758, -4.198800086975098, -4.519400119781494, -4.656499862670898, -4.6956000328063965, -4.699399948120117, -4.707600116729736, -4.856100082397461, -4.9232001304626465, -5.001999855041504, -5.187600135803223, -5.200099945068359, -5.261600017547607, -5.268400192260742, -5.276500225067139, -5.322500228881836, -5.3856000900268555, -5.387800216674805, -5.422900199890137, -5.43179988861084, -5.4355998039245605, -5.442399978637695, -5.463900089263916, -5.475500106811523, -5.50570011138916, -5.5447001457214355, -5.557499885559082, -5.563899993896484, -5.570499897003174, -5.589600086212158, -4.921000003814697, -4.731800079345703, -4.293000221252441, -5.035699844360352, -5.066199779510498, -4.809000015258789, -4.993500232696533, -4.957799911499023, -5.209099769592285, -4.916600227355957, -5.235400199890137, -5.246099948883057, -4.915999889373779, -5.106500148773193, -5.092100143432617], \"loglift\": [30.0, 29.0, 28.0, 27.0, 26.0, 25.0, 24.0, 23.0, 22.0, 21.0, 20.0, 19.0, 18.0, 17.0, 16.0, 15.0, 14.0, 13.0, 12.0, 11.0, 10.0, 9.0, 8.0, 7.0, 6.0, 5.0, 4.0, 3.0, 2.0, 1.0, 2.339600086212158, 2.339200019836426, 2.3389999866485596, 2.338599920272827, 2.338200092315674, 2.338200092315674, 2.3375000953674316, 2.3368000984191895, 2.3368000984191895, 2.336699962615967, 2.3362998962402344, 2.3359999656677246, 2.335599899291992, 2.335400104522705, 2.335400104522705, 2.3352999687194824, 2.335099935531616, 2.3350000381469727, 2.3350000381469727, 2.3348000049591064, 2.3348000049591064, 2.334700107574463, 2.3345999717712402, 2.3345999717712402, 2.334399938583374, 2.334399938583374, 2.3343000411987305, 2.3343000411987305, 2.3343000411987305, 2.333899974822998, 2.224299907684326, 2.1166000366210938, 2.152400016784668, 2.097599983215332, 1.3350000381469727, 2.047600030899048, 2.0803000926971436, 1.6265000104904175, 1.5815000534057617, 1.589400053024292, 0.3149999976158142, 0.40610000491142273, 1.2065999507904053, 1.1952999830245972, 2.373199939727783, 2.3726999759674072, 2.372499942779541, 2.3719000816345215, 2.371799945831299, 2.3712000846862793, 2.371000051498413, 2.3708999156951904, 2.370800018310547, 2.370800018310547, 2.370500087738037, 2.3703999519348145, 2.3701999187469482, 2.369999885559082, 2.36929988861084, 2.3691999912261963, 2.3691000938415527, 2.36899995803833, 2.368799924850464, 2.368499994277954, 2.368299961090088, 2.3678998947143555, 2.3677000999450684, 2.3673999309539795, 2.3671000003814697, 2.367000102996826, 2.36680006980896, 2.3666999340057373, 2.3661999702453613, 2.3661999702453613, 2.1770999431610107, 1.9776999950408936, 2.1898999214172363, 2.0725998878479004, 2.072499990463257, 1.853600025177002, 1.8202999830245972, 1.5895999670028687, 2.116300106048584, 1.0464999675750732, 1.8912999629974365, 0.21240000426769257, 1.5299999713897705, 1.1505999565124512, 2.545099973678589, 2.543600082397461, 2.543299913406372, 2.543299913406372, 2.5429000854492188, 2.54229998588562, 2.541599988937378, 2.541300058364868, 2.541300058364868, 2.5409998893737793, 2.5406999588012695, 2.5406999588012695, 2.5404999256134033, 2.5404999256134033, 2.5401999950408936, 2.54010009765625, 2.539900064468384, 2.539799928665161, 2.5397000312805176, 2.539299964904785, 2.5392000675201416, 2.538599967956543, 2.538300037384033, 2.5381999015808105, 2.5381999015808105, 2.538100004196167, 2.538100004196167, 2.537899971008301, 2.5378000736236572, 2.5378000736236572, 2.3652000427246094, 2.338399887084961, 2.099400043487549, 2.1682000160217285, 2.068700075149536, 1.8667999505996704, 2.2602999210357666, 1.7342000007629395, 1.9606000185012817, 1.9381999969482422, 1.937600016593933, 1.9375, 1.9368000030517578, 1.9366999864578247, 1.936400055885315, 1.9362000226974487, 1.9359999895095825, 1.9357000589370728, 1.9350999593734741, 1.934999942779541, 1.934999942779541, 1.9348000288009644, 1.934499979019165, 1.934399962425232, 1.934000015258789, 1.9337999820709229, 1.9337999820709229, 1.933500051498413, 1.933500051498413, 1.9329999685287476, 1.932800054550171, 1.9326000213623047, 1.9321999549865723, 1.9321000576019287, 1.9321000576019287, 1.9318000078201294, 1.9318000078201294, 1.9316999912261963, 1.9315999746322632, 1.837499976158142, 1.7792999744415283, 1.7091000080108643, 1.639299988746643, 1.5578999519348145, 1.7388999462127686, 1.5651999711990356, 1.7462999820709229, 1.7768000364303589, 1.6722999811172485, 1.6452000141143799, 1.3602999448776245, 1.6756999492645264, 1.8095999956130981, 1.7177000045776367, 1.101699948310852, 1.4105000495910645, 1.202299952507019, 0.7541999816894531, 1.4040000438690186, 1.25409996509552, 1.083799958229065, 0.7214000225067139, 1.519700050354004, 2.435499906539917, 2.435499906539917, 2.4346001148223877, 2.4346001148223877, 2.4342000484466553, 2.4339001178741455, 2.433799982070923, 2.4337000846862793, 2.4335999488830566, 2.4335999488830566, 2.4335999488830566, 2.433000087738037, 2.4319000244140625, 2.4319000244140625, 2.43179988861084, 2.4314000606536865, 2.4314000606536865, 2.4314000606536865, 2.4314000606536865, 2.4310998916625977, 2.4310998916625977, 2.4309000968933105, 2.4305999279022217, 2.430500030517578, 2.430000066757202, 2.4298999309539795, 2.4298999309539795, 2.429500102996826, 2.4291999340057373, 2.4291000366210938, 1.9401999711990356, 2.127000093460083, 2.234499931335449, 1.8113000392913818, 0.6223999857902527, 1.9035999774932861, 1.6461000442504883, 0.3725999891757965, 1.8894000053405762, 1.3092999458312988, 0.6171000003814697, 2.234499931335449, 2.2342000007629395, 2.233299970626831, 2.233299970626831, 2.2327001094818115, 2.2323999404907227, 2.2323999404907227, 2.2316999435424805, 2.2316999435424805, 2.231600046157837, 2.231600046157837, 2.2314000129699707, 2.231300115585327, 2.2307000160217285, 2.2307000160217285, 2.2304000854492188, 2.2297000885009766, 2.229599952697754, 2.2295000553131104, 2.2293999195098877, 2.229300022125244, 2.229099988937378, 2.2290000915527344, 2.228800058364868, 2.2284998893737793, 2.2284998893737793, 2.228300094604492, 2.2279000282287598, 2.227799892425537, 2.227799892425537, 1.9672000408172607, 1.7102999687194824, 1.9530999660491943, 2.0506999492645264, 2.003999948501587, 1.8602999448776245, 1.690000057220459, 2.081899881362915, 1.663599967956543, 0.7412999868392944, 0.7473999857902527, 1.5155999660491943, 0.6567000150680542, 1.1146999597549438, 1.1246999502182007, 1.0996999740600586, -0.3675999939441681, 0.7139000296592712, 2.309799909591675, 2.309799909591675, 2.3087000846862793, 2.3083999156951904, 2.3078999519348145, 2.307300090789795, 2.3071999549865723, 2.3066000938415527, 2.3057000637054443, 2.3057000637054443, 2.3055999279022217, 2.3050999641418457, 2.3046998977661133, 2.30430006980896, 2.30430006980896, 2.303999900817871, 2.3039000034332275, 2.3036999702453613, 2.3034000396728516, 2.303299903869629, 2.3029000759124756, 2.3029000759124756, 2.3027000427246094, 2.3024001121520996, 2.3020999431610107, 2.301800012588501, 2.301800012588501, 2.301800012588501, 2.301800012588501, 2.3015999794006348, 2.0897998809814453, 2.166800022125244, 2.114799976348877, 2.0559000968933105, 1.8854000568389893, 2.032599925994873, 1.6303999423980713, 2.089900016784668, 1.6146999597549438, 1.5954999923706055, 1.878100037574768, 2.066200017929077, 0.8981000185012817, 0.20250000059604645, 0.8633999824523926, 1.2863999605178833, 1.1648999452590942, 1.1813000440597534, 0.9004999995231628, 0.5278000235557556, 0.3747999966144562, 2.6164000034332275, 2.615999937057495, 2.615799903869629, 2.6157000064849854, 2.6157000064849854, 2.615600109100342, 2.6152000427246094, 2.6149001121520996, 2.6140999794006348, 2.614000082015991, 2.6133999824523926, 2.6131999492645264, 2.6129000186920166, 2.6129000186920166, 2.612799882888794, 2.6126999855041504, 2.612600088119507, 2.6122000217437744, 2.6120998859405518, 2.6115000247955322, 2.6112000942230225, 2.6110999584198, 2.6110000610351562, 2.61080002784729, 2.6105000972747803, 2.6103999614715576, 2.610300064086914, 2.610300064086914, 2.6101999282836914, 2.610100030899048, 2.342400074005127, 2.28439998626709, 2.166300058364868, 2.43969988822937, 2.3578999042510986, 1.583400011062622, 1.695199966430664, 1.75409996509552, 0.3386000096797943, 1.486299991607666, 2.6454999446868896, 2.6440000534057617, 2.6438000202178955, 2.643199920654297, 2.643199920654297, 2.643199920654297, 2.6431000232696533, 2.6429998874664307, 2.642699956893921, 2.6422998905181885, 2.642199993133545, 2.6421000957489014, 2.641900062561035, 2.6414999961853027, 2.6410999298095703, 2.6407999992370605, 2.6407999992370605, 2.6401000022888184, 2.639699935913086, 2.6394999027252197, 2.63919997215271, 2.6389999389648438, 2.6389999389648438, 2.6389000415802, 2.638700008392334, 2.6384999752044678, 2.6380999088287354, 2.638000011444092, 2.6377999782562256, 2.6377999782562256, 2.2992000579833984, 2.2955000400543213, 2.2155001163482666, 1.023800015449524, 0.45509999990463257, 2.5292000770568848, 2.527899980545044, 2.5276999473571777, 2.5272998809814453, 2.5272998809814453, 2.526700019836426, 2.525700092315674, 2.5251998901367188, 2.524600028991699, 2.524199962615967, 2.523699998855591, 2.5236001014709473, 2.522900104522705, 2.522900104522705, 2.522700071334839, 2.5225000381469727, 2.5220000743865967, 2.5220000743865967, 2.5216000080108643, 2.5213000774383545, 2.521199941635132, 2.521199941635132, 2.5209999084472656, 2.520900011062622, 2.520900011062622, 2.520699977874756, 2.5204999446868896, 2.520400047302246, 2.5202999114990234, 2.5199999809265137, 2.3125, 2.2820000648498535, 2.1988000869750977, 2.1201000213623047, 2.2070999145507812, 1.4810999631881714, 2.2797000408172607, 2.0408999919891357, 1.9645999670028687, 1.559399962425232, 1.4687000513076782, 1.3666000366210938, 1.38100004196167, 0.9455000162124634, 2.63070011138916, 2.630199909210205, 2.629199981689453, 2.6287999153137207, 2.6285998821258545, 2.6285998821258545, 2.628499984741211, 2.6278998851776123, 2.6275999546051025, 2.62719988822937, 2.6261000633239746, 2.625999927520752, 2.6256000995635986, 2.625499963760376, 2.6254000663757324, 2.6250998973846436, 2.6245999336242676, 2.6245999336242676, 2.624300003051758, 2.6242001056671143, 2.6242001056671143, 2.6242001056671143, 2.624000072479248, 2.6238999366760254, 2.6236000061035156, 2.623300075531006, 2.6231000423431396, 2.6231000423431396, 2.622999906539917, 2.62280011177063, 2.3645999431610107, 2.265399932861328, 2.048799991607666, 2.3803000450134277, 2.297600030899048, 2.072200059890747, 2.197999954223633, 2.0952999591827393, 2.325200080871582, 1.8402999639511108, 2.300800085067749, 2.3069000244140625, 1.6833000183105469, 1.7856999635696411, 1.2170000076293945]}, \"token.table\": {\"Topic\": [3, 9, 11, 10, 7, 3, 7, 5, 4, 5, 6, 10, 9, 9, 2, 3, 4, 5, 6, 7, 8, 10, 11, 11, 6, 3, 8, 5, 5, 11, 1, 8, 2, 11, 10, 5, 6, 1, 4, 5, 8, 10, 6, 5, 6, 9, 6, 8, 4, 1, 2, 4, 5, 6, 7, 8, 3, 7, 4, 5, 6, 1, 5, 10, 1, 2, 5, 9, 10, 2, 4, 3, 11, 6, 9, 5, 2, 3, 4, 5, 8, 10, 11, 1, 8, 8, 2, 5, 10, 4, 9, 4, 5, 3, 5, 7, 10, 11, 2, 3, 3, 1, 5, 11, 6, 4, 5, 9, 10, 7, 5, 1, 6, 7, 8, 8, 10, 2, 7, 1, 2, 3, 1, 3, 10, 5, 6, 7, 8, 10, 3, 6, 7, 5, 6, 7, 8, 2, 6, 7, 6, 7, 1, 8, 1, 10, 1, 2, 7, 11, 4, 7, 10, 7, 7, 8, 10, 3, 6, 2, 6, 8, 10, 4, 5, 6, 4, 7, 5, 6, 9, 5, 5, 3, 2, 5, 6, 2, 1, 8, 11, 6, 7, 8, 6, 4, 5, 11, 4, 8, 2, 3, 4, 6, 10, 7, 4, 6, 5, 7, 2, 3, 10, 11, 3, 1, 3, 7, 2, 3, 4, 7, 11, 10, 6, 10, 9, 10, 6, 4, 2, 7, 5, 11, 10, 10, 9, 4, 8, 1, 11, 2, 9, 9, 10, 8, 2, 5, 9, 8, 10, 8, 4, 2, 7, 9, 10, 11, 2, 8, 11, 7, 11, 3, 7, 6, 9, 7, 1, 8, 10, 2, 7, 9, 6, 6, 1, 1, 8, 11, 2, 3, 1, 11, 1, 2, 4, 6, 7, 9, 10, 1, 2, 3, 5, 8, 1, 11, 3, 5, 8, 9, 11, 4, 4, 5, 6, 7, 2, 4, 2, 4, 6, 9, 2, 3, 6, 7, 4, 8, 1, 1, 4, 3, 11, 6, 9, 10, 10, 6, 6, 7, 1, 2, 5, 8, 11, 3, 5, 1, 9, 10, 2, 11, 11, 6, 10, 6, 7, 11, 2, 8, 9, 11, 2, 11, 2, 10, 9, 6, 5, 8, 10, 1, 2, 3, 5, 6, 10, 5, 10, 1, 2, 11, 9, 2, 6, 3, 9, 11, 7, 8, 9, 11, 7, 6, 10, 2, 10, 5, 2, 4, 1, 3, 4, 5, 9, 4, 9, 8, 4, 1, 4, 5, 7, 2, 7, 3, 3, 6, 11, 4, 1, 4, 6, 1, 10, 10, 3, 7, 3, 6, 1, 9, 11, 1, 5, 7, 1, 1, 5, 1, 9, 8, 4, 6, 1, 2, 6, 8, 1, 6, 7, 6, 5, 6, 7, 2, 8, 3, 1, 4, 6, 7, 1, 4, 8, 4, 2, 5, 2, 1, 4, 5, 6, 8, 9, 8, 5, 7, 10, 2, 6, 8, 6, 11, 2, 4, 9, 7, 9, 8, 10, 4, 3, 5, 6, 1, 3, 4, 1, 2, 4, 5, 6, 7, 9, 2, 3, 3, 6, 7, 11, 7, 5, 5, 3, 7, 5, 1, 6, 7, 11, 3, 11, 1, 3, 4, 5, 6, 9, 11, 1, 2, 6, 7, 4, 6, 3, 7, 3, 3, 11, 8, 6, 2, 6, 7, 11, 3, 1, 2, 5, 10, 11, 4, 4, 6, 10, 11, 9, 8, 9, 10, 11, 2, 5, 6, 8, 9, 1, 2, 2, 7, 4, 4, 8, 10, 8, 7, 11, 7, 10, 4, 5, 2, 10, 5, 2, 4, 9, 11, 9, 2, 3, 4, 2, 5, 6, 5, 10, 10, 3, 8, 4, 7, 2, 6, 7, 4, 5, 2, 2, 4, 7, 3, 11, 4, 8, 2, 4, 7, 9, 10, 9, 2, 3, 7, 2, 4, 6, 7, 10, 7, 5, 6, 7, 4, 4, 11, 4, 3, 1, 4, 5, 1, 1, 4, 5, 8, 9, 10, 11, 1, 2, 3, 4, 5, 8, 10, 3, 2, 4, 10, 7, 1, 5, 1, 5, 2, 4, 9, 6, 9, 9, 10, 11, 1, 4, 1, 9, 11, 3, 6, 8, 2, 2, 7, 7, 9, 4, 8, 1, 4, 5, 10, 11, 1, 9, 3, 4, 6, 11, 7, 8, 1, 2, 3, 4, 6, 6, 8, 10, 11, 3, 4, 6, 4, 6, 10, 6, 10, 5, 5, 5, 10, 5, 7, 3], \"Freq\": [0.15266284346580505, 0.19488872587680817, 0.6463809609413147, 0.9932861328125, 0.9987064599990845, 0.9957441687583923, 0.9882720708847046, 0.9919135570526123, 0.27419793605804443, 0.5345873236656189, 0.19134676456451416, 0.9976989030838013, 0.9942755103111267, 0.996048092842102, 0.07298595458269119, 0.05782004073262215, 0.2255929410457611, 0.12511877715587616, 0.21800997853279114, 0.1687207669019699, 0.03412330150604248, 0.05213282257318497, 0.04360199719667435, 0.9953166246414185, 0.9946712851524353, 0.9925877451896667, 0.9917370676994324, 0.9941999912261963, 0.9925861358642578, 0.991828203201294, 0.996704638004303, 0.9931443929672241, 0.9944449663162231, 0.9950894713401794, 0.9986723065376282, 0.9906104803085327, 0.9905145168304443, 0.21382606029510498, 0.15075506269931793, 0.1830597221851349, 0.13998684287071228, 0.3122783303260803, 0.9926934242248535, 0.9886044859886169, 0.9922856688499451, 0.990607738494873, 0.9907429814338684, 0.9975314736366272, 0.99077969789505, 0.09118791669607162, 0.26430249214172363, 0.29564833641052246, 0.10686084628105164, 0.12395858019590378, 0.11612211912870407, 0.9946510195732117, 0.9964629411697388, 0.9976115822792053, 0.6884351372718811, 0.16198474168777466, 0.14945019781589508, 0.9934535026550293, 0.9965430498123169, 0.9952839612960815, 0.4684377908706665, 0.18501323461532593, 0.1692674309015274, 0.17714034020900726, 0.9899801015853882, 0.9931296110153198, 0.9938685297966003, 0.9911704063415527, 0.9904385209083557, 0.3454318344593048, 0.6506971716880798, 0.9955500960350037, 0.09174477308988571, 0.07789650559425354, 0.12636543810367584, 0.23195849359035492, 0.05885513871908188, 0.3462066948413849, 0.06751030683517456, 0.9951929450035095, 0.9981288313865662, 0.9959235191345215, 0.738036572933197, 0.2599374055862427, 0.9978294968605042, 0.9919936656951904, 0.9916796684265137, 0.9934573769569397, 0.994327962398529, 0.9960217475891113, 0.18811123073101044, 0.4887929856777191, 0.1318259835243225, 0.1895924210548401, 0.9894576668739319, 0.9945396780967712, 0.9897972345352173, 0.7844185829162598, 0.2131250500679016, 0.9962780475616455, 0.9914222359657288, 0.4109226167201996, 0.5847744941711426, 0.7062920331954956, 0.29022181034088135, 0.9883568286895752, 0.9962266683578491, 0.9978782534599304, 0.3261205852031708, 0.3177941143512726, 0.35526329278945923, 0.27206847071647644, 0.724053144454956, 0.9940609931945801, 0.9963146448135376, 0.9960014224052429, 0.9927286505699158, 0.9906489253044128, 0.18371298909187317, 0.8116773962974548, 0.9906557202339172, 0.07992352545261383, 0.3296845257282257, 0.322548508644104, 0.08420514315366745, 0.1826823353767395, 0.1429533213376999, 0.563871443271637, 0.2918630540370941, 0.06304898113012314, 0.5910201668739319, 0.24348184466362, 0.10251867026090622, 0.9913108944892883, 0.8309999704360962, 0.16553783416748047, 0.2141287624835968, 0.782225489616394, 0.9939394593238831, 0.9942055940628052, 0.9911799430847168, 0.99220210313797, 0.16153277456760406, 0.592995285987854, 0.24442458152770996, 0.9925525784492493, 0.9891829490661621, 0.990237832069397, 0.9946638941764832, 0.9972511529922485, 0.2023419737815857, 0.2265022099018097, 0.5677655339241028, 0.9967047572135925, 0.9959864020347595, 0.26211315393447876, 0.08614907413721085, 0.3977521061897278, 0.2529483437538147, 0.6830168962478638, 0.11033349484205246, 0.20640619099140167, 0.8190833330154419, 0.18040569126605988, 0.5773146152496338, 0.4195391833782196, 0.988718569278717, 0.9932060837745667, 0.9926173090934753, 0.9940457344055176, 0.9873139262199402, 0.9923415780067444, 0.997124195098877, 0.992902934551239, 0.9943879246711731, 0.99288010597229, 0.9947189092636108, 0.9978156089782715, 0.799974262714386, 0.19354216754436493, 0.9971504211425781, 0.3133735954761505, 0.2313496321439743, 0.4521833658218384, 0.995499312877655, 0.9978691935539246, 0.17233885824680328, 0.06858383119106293, 0.37633177638053894, 0.06506671011447906, 0.31654074788093567, 0.9950856566429138, 0.9932223558425903, 0.9942185878753662, 0.2401273399591446, 0.7566803097724915, 0.9937330484390259, 0.20026174187660217, 0.6143622994422913, 0.18329040706157684, 0.9904875755310059, 0.31192973256111145, 0.6852227449417114, 0.993888258934021, 0.22916091978549957, 0.16056853532791138, 0.5892709493637085, 0.01870701275765896, 0.9947001934051514, 0.995997965335846, 0.19322405755519867, 0.8051002621650696, 0.989347517490387, 0.9893200993537903, 0.9935722947120667, 0.9967461824417114, 0.12980090081691742, 0.86420077085495, 0.9924118518829346, 0.9893165230751038, 0.996997058391571, 0.9975245594978333, 0.9973604083061218, 0.9032502770423889, 0.09464581310749054, 0.9935153126716614, 0.9873971939086914, 0.7729097604751587, 0.22579386830329895, 0.21785902976989746, 0.778067946434021, 0.9953289031982422, 0.181132510304451, 0.8150963187217712, 0.9921652674674988, 0.9963545799255371, 0.9913236498832703, 0.9922075271606445, 0.9986196756362915, 0.9960750937461853, 0.8011676073074341, 0.19605042040348053, 0.9902055859565735, 0.9968703985214233, 0.20721657574176788, 0.21912556886672974, 0.571631908416748, 0.9943128824234009, 0.9965670108795166, 0.6388500332832336, 0.3581901788711548, 0.9974468946456909, 0.995231032371521, 0.9941042065620422, 0.993598222732544, 0.7592740058898926, 0.23683777451515198, 0.9935400485992432, 0.9978640675544739, 0.9959231615066528, 0.9958398342132568, 0.9947959780693054, 0.993571937084198, 0.9940508604049683, 0.9934081435203552, 0.9989565014839172, 0.8202592730522156, 0.17598289251327515, 0.9981789588928223, 0.9958632588386536, 0.09347093105316162, 0.028041278943419456, 0.43284231424331665, 0.22576823830604553, 0.16824766993522644, 0.05176851525902748, 0.9996498227119446, 0.16525278985500336, 0.6710875630378723, 0.019145140424370766, 0.14308473467826843, 0.9943665266036987, 0.9930465221405029, 0.9977760314941406, 0.5571606755256653, 0.1741127073764801, 0.2166735976934433, 0.050299227237701416, 0.9935893416404724, 0.9908846020698547, 0.794701337814331, 0.05375657230615616, 0.0008959429105743766, 0.15051840245723724, 0.11660705506801605, 0.8798532485961914, 0.14588679373264313, 0.8528766632080078, 0.9933212995529175, 0.9926121830940247, 0.4292762875556946, 0.09105861186981201, 0.24976076185703278, 0.22634568810462952, 0.99785977602005, 0.9971956610679626, 0.9924653172492981, 0.7710949182510376, 0.22659368813037872, 0.28170767426490784, 0.7139166593551636, 0.9920247197151184, 0.9932243227958679, 0.987827718257904, 0.9942470192909241, 0.9947432279586792, 0.9935921430587769, 0.993309497833252, 0.9957715272903442, 0.9964717626571655, 0.9950373768806458, 0.9973353147506714, 0.9869097471237183, 0.9939877986907959, 0.9973027110099792, 0.15992078185081482, 0.1719902753829956, 0.6638221144676208, 0.27509304881095886, 0.7227020859718323, 0.9978165030479431, 0.9919108748435974, 0.9970568418502808, 0.10214559733867645, 0.6531941890716553, 0.24326778948307037, 0.9912303686141968, 0.996035635471344, 0.9923518300056458, 0.99144446849823, 0.9916825890541077, 0.9891634583473206, 0.9955589175224304, 0.994778573513031, 0.9973694086074829, 0.9958659410476685, 0.16105930507183075, 0.8375084400177002, 0.9900427460670471, 0.17841118574142456, 0.4555857181549072, 0.008495771326124668, 0.0870816558599472, 0.06478025764226913, 0.20496048033237457, 0.9974094033241272, 0.9938539862632751, 0.3179972767829895, 0.2928449511528015, 0.38626790046691895, 0.9902544617652893, 0.6161174178123474, 0.3806380033493042, 0.997112512588501, 0.9955165386199951, 0.9917985796928406, 0.9940069317817688, 0.9933151006698608, 0.9909318089485168, 0.9899115562438965, 0.9958444237709045, 0.8557890057563782, 0.14021402597427368, 0.7385151386260986, 0.2601814866065979, 0.9939662218093872, 0.5739536285400391, 0.42502355575561523, 0.13485075533390045, 0.08347903192043304, 0.6571298241615295, 0.122007817029953, 0.9959169626235962, 0.9966597557067871, 0.9928802251815796, 0.9962314367294312, 0.9958030581474304, 0.9923133850097656, 0.3014968931674957, 0.19854673743247986, 0.4985729157924652, 0.8286835551261902, 0.1670733094215393, 0.9950205087661743, 0.99918532371521, 0.9950369000434875, 0.9896137118339539, 0.9940866827964783, 0.4901066720485687, 0.31946223974227905, 0.19048680365085602, 0.9957923293113708, 0.9956401586532593, 0.9979639053344727, 0.9970473051071167, 0.9877923727035522, 0.621344268321991, 0.37806662917137146, 0.9966006278991699, 0.23195481300354004, 0.7636666297912598, 0.8896649479866028, 0.10879532247781754, 0.9970661997795105, 0.9971933960914612, 0.9959939122200012, 0.9955230951309204, 0.292953222990036, 0.7022261619567871, 0.9949708580970764, 0.9967818856239319, 0.9946711659431458, 0.2534308433532715, 0.11316723376512527, 0.5785874128341675, 0.05259885638952255, 0.9966004490852356, 0.7531040906906128, 0.24419450759887695, 0.9928049445152283, 0.6084557175636292, 0.14718583226203918, 0.24311944842338562, 0.9956291913986206, 0.9940356612205505, 0.9950883984565735, 0.14435631036758423, 0.560884416103363, 0.15037114918231964, 0.14435631036758423, 0.826869785785675, 0.16868144273757935, 0.9969162940979004, 0.9958032965660095, 0.26466044783592224, 0.7335696816444397, 0.9946216344833374, 0.18983972072601318, 0.20941083133220673, 0.3229232430458069, 0.18201127648353577, 0.09198419749736786, 0.996210515499115, 0.9962438941001892, 0.14234715700149536, 0.5067558884620667, 0.3507434129714966, 0.20488962531089783, 0.7920359969139099, 0.9905232787132263, 0.2608676254749298, 0.7368366718292236, 0.9903368353843689, 0.9963763952255249, 0.9943804144859314, 0.9875531792640686, 0.99602210521698, 0.9926285147666931, 0.9878770709037781, 0.9981917142868042, 0.9916691780090332, 0.9954711198806763, 0.9957557320594788, 0.994825005531311, 0.9937778115272522, 0.9984920620918274, 0.3655886650085449, 0.1149570420384407, 0.049772609025239944, 0.16270843148231506, 0.07402728497982025, 0.12152601778507233, 0.11167255789041519, 0.994677722454071, 0.9975765347480774, 0.025453655049204826, 0.07070459425449371, 0.31675660610198975, 0.585434079170227, 0.9951581358909607, 0.9943536520004272, 0.9912866950035095, 0.9936023950576782, 0.994967520236969, 0.9950403571128845, 0.99189692735672, 0.3207978308200836, 0.11943123489618301, 0.558271586894989, 0.9926967620849609, 0.9901087284088135, 0.0807189866900444, 0.04280552268028259, 0.3057537376880646, 0.0672658234834671, 0.22442324459552765, 0.19751691818237305, 0.08133049309253693, 0.3208518624305725, 0.17039591073989868, 0.31903913617134094, 0.18852312862873077, 0.31073784828186035, 0.686466634273529, 0.9936127066612244, 0.999027669429779, 0.9937806129455566, 0.8340421915054321, 0.16364118456840515, 0.992586612701416, 0.9892035126686096, 0.9946689605712891, 0.7644495368003845, 0.23521524667739868, 0.9909260272979736, 0.9919925332069397, 0.47052085399627686, 0.11935163289308548, 0.16066566109657288, 0.1537799835205078, 0.09180894494056702, 0.9925182461738586, 0.9978581666946411, 0.07756265252828598, 0.22733880579471588, 0.6927146911621094, 0.9964240789413452, 0.6351174116134644, 0.13573074340820312, 0.22536425292491913, 0.9907733201980591, 0.20360645651817322, 0.04765257239341736, 0.3119077682495117, 0.3227378726005554, 0.1126333549618721, 0.9963622093200684, 0.9978034496307373, 0.9975584149360657, 0.9978926181793213, 0.9988070726394653, 0.7674853205680847, 0.10767704248428345, 0.12142304331064224, 0.9907639622688293, 0.279680997133255, 0.7198346853256226, 0.9946689605712891, 0.9935072064399719, 0.8010221719741821, 0.1960543841123581, 0.9952220320701599, 0.993288516998291, 0.9942725300788879, 0.14581361413002014, 0.8505793809890747, 0.9940364360809326, 0.99556565284729, 0.9952619671821594, 0.9945868253707886, 0.9946893453598022, 0.9945672154426575, 0.9963685870170593, 0.9975682497024536, 0.9969305396080017, 0.9931933879852295, 0.9875432252883911, 0.9935867190361023, 0.22296081483364105, 0.7689872980117798, 0.9959737062454224, 0.9899638295173645, 0.9964850544929504, 0.9909861087799072, 0.9909266233444214, 0.9980385303497314, 0.9985297322273254, 0.9962495565414429, 0.9926123023033142, 0.3475893437862396, 0.6492164731025696, 0.7536598443984985, 0.2422478049993515, 0.2821858823299408, 0.7172224521636963, 0.08187234401702881, 0.21778042614459991, 0.16865701973438263, 0.15064510703086853, 0.37825021147727966, 0.9966251850128174, 0.3105151951313019, 0.4440076947212219, 0.24086691439151764, 0.11027240008115768, 0.5047082901000977, 0.19226981699466705, 0.09613490849733353, 0.09613490849733353, 0.9918904900550842, 0.9930016994476318, 0.22386562824249268, 0.7737963795661926, 0.9978960752487183, 0.824594259262085, 0.17359879612922668, 0.9975578784942627, 0.9939616918563843, 0.13176117837429047, 0.7410935163497925, 0.1267128586769104, 0.990772545337677, 0.10960881412029266, 0.4784846305847168, 0.1422806680202484, 0.07272123545408249, 0.08747626841068268, 0.08536840230226517, 0.02318648062646389, 0.9964909553527832, 0.030490171164274216, 0.07876627147197723, 0.3201467990875244, 0.07876627147197723, 0.42178070545196533, 0.06860288232564926, 0.9959730505943298, 0.16943426430225372, 0.7666900157928467, 0.06141991913318634, 0.9942195415496826, 0.7453030943870544, 0.25044599175453186, 0.9941526651382446, 0.9971565008163452, 0.058302026242017746, 0.7462658882141113, 0.1962834894657135, 0.006835415493696928, 0.9911352396011353, 0.9982414245605469, 0.21954786777496338, 0.7765489816665649, 0.9905325770378113, 0.9960219264030457, 0.9948215484619141, 0.9898082613945007, 0.9943960309028625, 0.997408926486969, 0.9966849088668823, 0.9970048666000366, 0.9885463714599609, 0.9926808476448059, 0.9883604049682617, 0.9910387396812439, 0.9921826124191284, 0.9963582158088684, 0.9914787411689758, 0.060262616723775864, 0.33607998490333557, 0.45196962356567383, 0.14602096378803253, 0.9924085140228271, 0.7994167804718018, 0.19790121912956238, 0.1559373438358307, 0.354200541973114, 0.4856334626674652, 0.9931883811950684, 0.9938883185386658, 0.9926655888557434, 0.07030170410871506, 0.13203002512454987, 0.06344299763441086, 0.5864190459251404, 0.14746209979057312, 0.2841309607028961, 0.14206548035144806, 0.14206548035144806, 0.4286043345928192, 0.5077991485595703, 0.30519241094589233, 0.18465423583984375, 0.9958339333534241, 0.218126580119133, 0.7811541557312012, 0.9981582760810852, 0.9875479936599731, 0.9933647513389587, 0.9915335178375244, 0.27853113412857056, 0.7175717949867249, 0.17404977977275848, 0.8222351670265198, 0.9920758605003357], \"Term\": [\"2020\", \"2020\", \"2020\", \"2021\", \"accion\", \"acciones\", \"acto\", \"actos\", \"acuerdo\", \"acuerdo\", \"acuerdo\", \"adelante\", \"agenda\", \"agua\", \"ahora\", \"ahora\", \"ahora\", \"ahora\", \"ahora\", \"ahora\", \"ahora\", \"ahora\", \"ahora\", \"alan\", \"alcalde\", \"alfredo\", \"alianza\", \"alla\", \"alto\", \"ambos\", \"america\", \"andres\", \"anti\", \"aportes\", \"apoyo\", \"apra\", \"aprobo\", \"aqui\", \"aqui\", \"aqui\", \"aqui\", \"aqui\", \"arequipa\", \"argentina\", \"atencion\", \"autoridad\", \"autoridades\", \"ayer\", \"ayuda\", \"a\\u00f1os\", \"a\\u00f1os\", \"a\\u00f1os\", \"a\\u00f1os\", \"a\\u00f1os\", \"a\\u00f1os\", \"bajo\", \"barnechea\", \"belaunde\", \"bien\", \"bien\", \"bien\", \"bolivia\", \"brasil\", \"bravo\", \"buen\", \"buen\", \"buen\", \"buen\", \"buenos\", \"butters\", \"calidad\", \"callao\", \"calles\", \"cambiar\", \"cambiar\", \"camino\", \"campa\\u00f1a\", \"campa\\u00f1a\", \"campa\\u00f1a\", \"campa\\u00f1a\", \"campa\\u00f1a\", \"campa\\u00f1a\", \"campa\\u00f1a\", \"canal\", \"canciller\", \"candidata\", \"candidato\", \"candidato\", \"candidatos\", \"capacidad\", \"cara\", \"cargo\", \"carlos\", \"casa\", \"caso\", \"caso\", \"caso\", \"caso\", \"cero\", \"cesar\", \"chavarry\", \"chile\", \"chile\", \"china\", \"chinchero\", \"cierto\", \"cierto\", \"claro\", \"claro\", \"coimas\", \"colombia\", \"comercio\", \"comision\", \"comision\", \"comision\", \"comparto\", \"comparto\", \"compromiso\", \"comunicado\", \"comunidad\", \"condolencias\", \"conferencia\", \"confianza\", \"confianza\", \"confirma\", \"congresista\", \"congresista\", \"congresista\", \"congresista\", \"congresista\", \"congresistas\", \"congresistas\", \"congresistas\", \"congreso\", \"congreso\", \"congreso\", \"congreso\", \"conocer\", \"constitucion\", \"constitucion\", \"constitucional\", \"constitucional\", \"contrato\", \"control\", \"coronavirus\", \"correo\", \"corrupcion\", \"corrupcion\", \"corrupcion\", \"corruptos\", \"corte\", \"crecimiento\", \"cree\", \"crisis\", \"cuenta\", \"cuenta\", \"cuenta\", \"cuestion\", \"cuidado\", \"debate\", \"debate\", \"debate\", \"debate\", \"debe\", \"debe\", \"debe\", \"deben\", \"deben\", \"decir\", \"decir\", \"decisiones\", \"declara\", \"declaracion\", \"declaraciones\", \"declarar\", \"defender\", \"defensa\", \"deja\", \"dejar\", \"dejo\", \"delito\", \"democracia\", \"denuncia\", \"denuncia\", \"derecho\", \"despues\", \"despues\", \"despues\", \"dialogo\", \"diario\", \"dias\", \"dias\", \"dias\", \"dias\", \"dias\", \"dictadura\", \"dificil\", \"dijo\", \"dinero\", \"dinero\", \"discurso\", \"domingo\", \"domingo\", \"domingo\", \"due\\u00f1o\", \"economia\", \"economia\", \"ecoteva\", \"educacion\", \"educacion\", \"educacion\", \"educacion\", \"eeuu\", \"efecto\", \"elecciones\", \"elecciones\", \"eliminar\", \"embargo\", \"empresa\", \"empresas\", \"encuesta\", \"encuesta\", \"encuestas\", \"enero\", \"entonces\", \"entrevista\", \"equipo\", \"error\", \"error\", \"errores\", \"espa\\u00f1a\", \"especial\", \"especial\", \"espero\", \"espero\", \"estare\", \"excelente\", \"excelente\", \"expreso\", \"facebook\", \"facil\", \"fallo\", \"falta\", \"familia\", \"favor\", \"favor\", \"fecha\", \"felicitaciones\", \"feliz\", \"feliz\", \"feliz\", \"fernando\", \"ffaa\", \"fiscal\", \"fiscal\", \"fiscales\", \"fiscalia\", \"fondos\", \"foro\", \"foto\", \"foto\", \"francisco\", \"fuerza\", \"fujimori\", \"fujimorismo\", \"futuro\", \"gabinete\", \"gana\", \"ganar\", \"garcia\", \"general\", \"general\", \"genero\", \"gestion\", \"gobierno\", \"gobierno\", \"gobierno\", \"gobierno\", \"gobierno\", \"gobierno\", \"gracias\", \"gran\", \"gran\", \"gran\", \"gran\", \"grave\", \"grupo\", \"guerra\", \"haber\", \"haber\", \"haber\", \"haber\", \"habra\", \"habria\", \"hace\", \"hace\", \"hace\", \"hace\", \"hacen\", \"hacen\", \"hacer\", \"hacer\", \"hacerlo\", \"hija\", \"historia\", \"historia\", \"historia\", \"historia\", \"hizo\", \"hola\", \"hombre\", \"hora\", \"hora\", \"https\", \"https\", \"humala\", \"humanos\", \"igualdad\", \"impunidad\", \"increible\", \"indispensable\", \"indulto\", \"inicio\", \"inmunidad\", \"intereses\", \"investigacion\", \"jato\", \"jefe\", \"jorge\", \"jovenes\", \"jovenes\", \"jovenes\", \"juan\", \"juan\", \"judicial\", \"jueces\", \"juez\", \"justicia\", \"justicia\", \"justicia\", \"justo\", \"keiko\", \"lado\", \"lamentable\", \"lampa\", \"lava\", \"leer\", \"legal\", \"libertad\", \"libre\", \"libro\", \"libro\", \"liderazgo\", \"lima\", \"lima\", \"lima\", \"lima\", \"lima\", \"lima\", \"lista\", \"llega\", \"lucha\", \"lucha\", \"lucha\", \"luchando\", \"luego\", \"luego\", \"luis\", \"maduro\", \"mafia\", \"maiman\", \"mala\", \"manos\", \"manuel\", \"marcha\", \"martin\", \"martin\", \"ma\\u00f1ana\", \"ma\\u00f1ana\", \"medios\", \"mejor\", \"mejor\", \"menos\", \"menos\", \"menos\", \"menos\", \"mesa\", \"meses\", \"miedo\", \"miembros\", \"mientras\", \"militar\", \"millones\", \"millones\", \"millones\", \"ministerio\", \"ministerio\", \"ministra\", \"ministro\", \"ministros\", \"mira\", \"misma\", \"mismo\", \"mismo\", \"mismo\", \"momento\", \"morado\", \"muchas\", \"muerte\", \"muertos\", \"mujer\", \"mujer\", \"mujeres\", \"mundial\", \"mundial\", \"mundo\", \"mundo\", \"nacion\", \"nadie\", \"ningun\", \"ninguna\", \"nivel\", \"nivel\", \"noche\", \"noticia\", \"noticias\", \"nuevo\", \"nuevo\", \"nuevo\", \"nuevo\", \"nuevos\", \"nunca\", \"nunca\", \"obras\", \"odebrecht\", \"odebrecht\", \"odebrecht\", \"ojala\", \"pagina\", \"pago\", \"pais\", \"pais\", \"pais\", \"pais\", \"paises\", \"paises\", \"palabras\", \"palacio\", \"parece\", \"parece\", \"parlamentaria\", \"parte\", \"parte\", \"parte\", \"parte\", \"parte\", \"partes\", \"participacion\", \"partido\", \"partido\", \"partido\", \"partidos\", \"partidos\", \"partir\", \"pasa\", \"pasa\", \"pasado\", \"patria\", \"pdte\", \"peajes\", \"pedro\", \"pena\", \"penal\", \"peor\", \"perez\", \"periodico\", \"periodista\", \"permanente\", \"persecuci\\u00f3n\", \"personas\", \"peru\", \"peru\", \"peru\", \"peru\", \"peru\", \"peru\", \"peru\", \"peru21\", \"peruana\", \"peruano\", \"peruano\", \"peruano\", \"peruano\", \"per\\u00fa\", \"pesar\", \"pide\", \"plata\", \"pleno\", \"pobres\", \"pobreza\", \"poder\", \"poder\", \"poder\", \"policia\", \"policias\", \"politica\", \"politica\", \"politica\", \"politica\", \"politica\", \"politica\", \"politica\", \"politico\", \"politico\", \"politico\", \"politico\", \"politicos\", \"politicos\", \"pol\\u00edtica\", \"popular\", \"pregunta\", \"prensa\", \"prensa\", \"presentacion\", \"presidencia\", \"presidencial\", \"presidente\", \"presidente\", \"prestigioso\", \"presupuesto\", \"primer\", \"primer\", \"primer\", \"primer\", \"primer\", \"prision\", \"problema\", \"proceso\", \"proceso\", \"proceso\", \"programa\", \"propuestas\", \"propuestas\", \"propuestas\", \"proximo\", \"proyecto\", \"proyecto\", \"proyecto\", \"proyecto\", \"proyecto\", \"prueba\", \"pruebas\", \"publico\", \"pueblo\", \"puede\", \"pueden\", \"pueden\", \"pueden\", \"puedes\", \"pues\", \"pues\", \"punto\", \"queda\", \"quiere\", \"quiere\", \"quieren\", \"radio\", \"razon\", \"realidad\", \"realidad\", \"rechazo\", \"reconoce\", \"redes\", \"reformas\", \"region\", \"reglamento\", \"reja\", \"renuncia\", \"republica\", \"responsabilidad\", \"responsables\", \"resultados\", \"reunion\", \"reunion\", \"riesgo\", \"saavedra\", \"sabe\", \"saber\", \"salida\", \"salud\", \"saludos\", \"sector\", \"seguimos\", \"segun\", \"segun\", \"segunda\", \"segunda\", \"seguridad\", \"seguridad\", \"sera\", \"sera\", \"sera\", \"sera\", \"sera\", \"se\\u00f1or\", \"sido\", \"sido\", \"sido\", \"siempre\", \"siempre\", \"siempre\", \"siempre\", \"siempre\", \"siendo\", \"siglo\", \"sigue\", \"sigue\", \"sino\", \"sistema\", \"sistema\", \"social\", \"soles\", \"solo\", \"solo\", \"solo\", \"solucion\", \"tambien\", \"tambien\", \"tambien\", \"tambien\", \"tambien\", \"tambien\", \"tambien\", \"tarde\", \"tema\", \"tema\", \"tema\", \"tema\", \"tema\", \"tema\", \"tendra\", \"tener\", \"tener\", \"tener\", \"tenia\", \"terrorismo\", \"terrorismo\", \"terrorista\", \"terroristas\", \"tiempo\", \"tiempo\", \"tiempo\", \"todas\", \"todas\", \"toledo\", \"total\", \"total\", \"totalmente\", \"trabajadores\", \"tras\", \"traves\", \"tremenda\", \"tres\", \"trump\", \"twitter\", \"ultima\", \"ultimos\", \"universidad\", \"universitaria\", \"urgente\", \"usted\", \"vale\", \"vamos\", \"vamos\", \"vamos\", \"vamos\", \"vemos\", \"venezuela\", \"venezuela\", \"verdad\", \"verdad\", \"verdad\", \"verdadera\", \"verguenza\", \"victor\", \"vida\", \"vida\", \"vida\", \"vida\", \"vida\", \"video\", \"video\", \"video\", \"video\", \"violencia\", \"violencia\", \"violencia\", \"vista\", \"vivo\", \"vivo\", \"vizcarra\", \"vocero\", \"votacion\", \"votar\", \"voto\", \"voto\", \"votos\", \"votos\", \"vuelta\"]}, \"R\": 30, \"lambda.step\": 0.01, \"plot.opts\": {\"xlab\": \"PC1\", \"ylab\": \"PC2\"}, \"topic.order\": [1, 2, 3, 4, 5, 6, 7, 8, 9, 10, 11]};\n",
       "\n",
       "function LDAvis_load_lib(url, callback){\n",
       "  var s = document.createElement('script');\n",
       "  s.src = url;\n",
       "  s.async = true;\n",
       "  s.onreadystatechange = s.onload = callback;\n",
       "  s.onerror = function(){console.warn(\"failed to load library \" + url);};\n",
       "  document.getElementsByTagName(\"head\")[0].appendChild(s);\n",
       "}\n",
       "\n",
       "if(typeof(LDAvis) !== \"undefined\"){\n",
       "   // already loaded: just create the visualization\n",
       "   !function(LDAvis){\n",
       "       new LDAvis(\"#\" + \"ldavis_el334024089546491603183361781\", ldavis_el334024089546491603183361781_data);\n",
       "   }(LDAvis);\n",
       "}else if(typeof define === \"function\" && define.amd){\n",
       "   // require.js is available: use it to load d3/LDAvis\n",
       "   require.config({paths: {d3: \"https://cdnjs.cloudflare.com/ajax/libs/d3/3.5.5/d3.min\"}});\n",
       "   require([\"d3\"], function(d3){\n",
       "      window.d3 = d3;\n",
       "      LDAvis_load_lib(\"https://cdn.rawgit.com/bmabey/pyLDAvis/files/ldavis.v1.0.0.js\", function(){\n",
       "        new LDAvis(\"#\" + \"ldavis_el334024089546491603183361781\", ldavis_el334024089546491603183361781_data);\n",
       "      });\n",
       "    });\n",
       "}else{\n",
       "    // require.js not available: dynamically load d3 & LDAvis\n",
       "    LDAvis_load_lib(\"https://cdnjs.cloudflare.com/ajax/libs/d3/3.5.5/d3.min.js\", function(){\n",
       "         LDAvis_load_lib(\"https://cdn.rawgit.com/bmabey/pyLDAvis/files/ldavis.v1.0.0.js\", function(){\n",
       "                 new LDAvis(\"#\" + \"ldavis_el334024089546491603183361781\", ldavis_el334024089546491603183361781_data);\n",
       "            })\n",
       "         });\n",
       "}\n",
       "</script>"
      ],
      "text/plain": [
       "<IPython.core.display.HTML object>"
      ]
     },
     "execution_count": 19,
     "metadata": {},
     "output_type": "execute_result"
    }
   ],
   "source": [
    "\n",
    "lda_display = pyLDAvis.gensim.prepare(ldamodel_cen, corpus, dictionary, sort_topics=False)\n",
    "pyLDAvis.display(lda_display)"
   ]
  },
  {
   "cell_type": "code",
   "execution_count": 94,
   "metadata": {},
   "outputs": [],
   "source": [
    "list_y=list(orientacion_tweets_df_dict['der'].Date.str[0:4].unique())"
   ]
  },
  {
   "cell_type": "code",
   "execution_count": 95,
   "metadata": {},
   "outputs": [
    {
     "data": {
      "text/plain": [
       "['2020',\n",
       " '2019',\n",
       " '2018',\n",
       " '2017',\n",
       " '2016',\n",
       " '2015',\n",
       " '2014',\n",
       " '2013',\n",
       " '2012',\n",
       " '2011',\n",
       " '2010',\n",
       " '2009']"
      ]
     },
     "execution_count": 95,
     "metadata": {},
     "output_type": "execute_result"
    }
   ],
   "source": [
    "list_y"
   ]
  },
  {
   "cell_type": "code",
   "execution_count": 99,
   "metadata": {},
   "outputs": [],
   "source": [
    "year_list = list(df_tweets_all.Date.str[0:4].unique())\n",
    "year_tweets_df_dict = {}\n",
    "for year in year_list:\n",
    "    year_tweets_df_dict[year]=df_tweets_all.loc[df_tweets_all.Date.str[0:4]==year]\n"
   ]
  },
  {
   "cell_type": "code",
   "execution_count": 103,
   "metadata": {},
   "outputs": [
    {
     "data": {
      "text/html": [
       "<div>\n",
       "<style scoped>\n",
       "    .dataframe tbody tr th:only-of-type {\n",
       "        vertical-align: middle;\n",
       "    }\n",
       "\n",
       "    .dataframe tbody tr th {\n",
       "        vertical-align: top;\n",
       "    }\n",
       "\n",
       "    .dataframe thead th {\n",
       "        text-align: right;\n",
       "    }\n",
       "</style>\n",
       "<table border=\"1\" class=\"dataframe\">\n",
       "  <thead>\n",
       "    <tr style=\"text-align: right;\">\n",
       "      <th></th>\n",
       "      <th>index</th>\n",
       "      <th>id</th>\n",
       "      <th>User</th>\n",
       "      <th>Text</th>\n",
       "      <th>Date</th>\n",
       "      <th>Retweets</th>\n",
       "      <th>Mentions</th>\n",
       "      <th>HashTags</th>\n",
       "      <th>text_prep</th>\n",
       "      <th>Orientacion</th>\n",
       "    </tr>\n",
       "  </thead>\n",
       "  <tbody>\n",
       "    <tr>\n",
       "      <th>0</th>\n",
       "      <td>0</td>\n",
       "      <td>1276498807442804736</td>\n",
       "      <td>AlbertoBelaunde</td>\n",
       "      <td>Harry Potter cumple 23 años. Hace unos años es...</td>\n",
       "      <td>2020-6-26</td>\n",
       "      <td>6</td>\n",
       "      <td></td>\n",
       "      <td>#HarryPotter23 #Ravenclaw</td>\n",
       "      <td>harry potter cumple años hace años escribi tex...</td>\n",
       "      <td>cen</td>\n",
       "    </tr>\n",
       "    <tr>\n",
       "      <th>1</th>\n",
       "      <td>1</td>\n",
       "      <td>1276493803298476035</td>\n",
       "      <td>AlbertoBelaunde</td>\n",
       "      <td>RT @MMissCupcakes: En el 2020 cambiar el logo ...</td>\n",
       "      <td>2020-6-26</td>\n",
       "      <td>15</td>\n",
       "      <td>@MMissCupcakes</td>\n",
       "      <td></td>\n",
       "      <td>2020 cambiar logo empresa colores arco iris va...</td>\n",
       "      <td>cen</td>\n",
       "    </tr>\n",
       "    <tr>\n",
       "      <th>2</th>\n",
       "      <td>2</td>\n",
       "      <td>1276309117142020098</td>\n",
       "      <td>AlbertoBelaunde</td>\n",
       "      <td>RT @partidomorado: Hoy se ha saboteado la vota...</td>\n",
       "      <td>2020-6-26</td>\n",
       "      <td>40</td>\n",
       "      <td>@partidomorado</td>\n",
       "      <td>#ParidadYAlternancia</td>\n",
       "      <td>saboteado votacion dejando debate eliminacion ...</td>\n",
       "      <td>cen</td>\n",
       "    </tr>\n",
       "    <tr>\n",
       "      <th>3</th>\n",
       "      <td>3</td>\n",
       "      <td>1276253647257690125</td>\n",
       "      <td>AlbertoBelaunde</td>\n",
       "      <td>RT @ManuelaRamos: ➡️💪Congresista @AlbertoBelau...</td>\n",
       "      <td>2020-6-25</td>\n",
       "      <td>6</td>\n",
       "      <td>@ManuelaRamos @AlbertoBelaunde</td>\n",
       "      <td>#ParidadYAlternancia</td>\n",
       "      <td>congresista agradecio organizaciones vienen pe...</td>\n",
       "      <td>cen</td>\n",
       "    </tr>\n",
       "    <tr>\n",
       "      <th>4</th>\n",
       "      <td>4</td>\n",
       "      <td>1276233710917074945</td>\n",
       "      <td>AlbertoBelaunde</td>\n",
       "      <td>Intervención en el debate de paridad y alterna...</td>\n",
       "      <td>2020-6-25</td>\n",
       "      <td>25</td>\n",
       "      <td></td>\n",
       "      <td></td>\n",
       "      <td>intervencion debate paridad alternancia import...</td>\n",
       "      <td>cen</td>\n",
       "    </tr>\n",
       "    <tr>\n",
       "      <th>...</th>\n",
       "      <td>...</td>\n",
       "      <td>...</td>\n",
       "      <td>...</td>\n",
       "      <td>...</td>\n",
       "      <td>...</td>\n",
       "      <td>...</td>\n",
       "      <td>...</td>\n",
       "      <td>...</td>\n",
       "      <td>...</td>\n",
       "      <td>...</td>\n",
       "    </tr>\n",
       "    <tr>\n",
       "      <th>639254</th>\n",
       "      <td>3222</td>\n",
       "      <td>1269709809709920257</td>\n",
       "      <td>GeneralDelAire1</td>\n",
       "      <td>@geraldinearu Ella se mete más autogoles que c...</td>\n",
       "      <td>2020-6-7</td>\n",
       "      <td>0</td>\n",
       "      <td>@geraldinearu</td>\n",
       "      <td></td>\n",
       "      <td>mete autogoles cualquier equipo futbol</td>\n",
       "      <td>nul</td>\n",
       "    </tr>\n",
       "    <tr>\n",
       "      <th>639255</th>\n",
       "      <td>3223</td>\n",
       "      <td>1269708522515828736</td>\n",
       "      <td>GeneralDelAire1</td>\n",
       "      <td>@mundoperplejo Como el correcaminos.</td>\n",
       "      <td>2020-6-7</td>\n",
       "      <td>0</td>\n",
       "      <td>@mundoperplejo</td>\n",
       "      <td></td>\n",
       "      <td>correcaminos</td>\n",
       "      <td>nul</td>\n",
       "    </tr>\n",
       "    <tr>\n",
       "      <th>639256</th>\n",
       "      <td>3224</td>\n",
       "      <td>1269700742400663557</td>\n",
       "      <td>GeneralDelAire1</td>\n",
       "      <td>@gr0undzero1 @HateDispenser @aaleexxxxxxxx @on...</td>\n",
       "      <td>2020-6-7</td>\n",
       "      <td>0</td>\n",
       "      <td>@gr0undzero1 @HateDispenser @onvres_explican</td>\n",
       "      <td></td>\n",
       "      <td>cuenta fujitroll busca copiarse francamente ha...</td>\n",
       "      <td>nul</td>\n",
       "    </tr>\n",
       "    <tr>\n",
       "      <th>639257</th>\n",
       "      <td>3225</td>\n",
       "      <td>1269699810568929280</td>\n",
       "      <td>GeneralDelAire1</td>\n",
       "      <td>@AngryMan87 El de ayer, verdad.</td>\n",
       "      <td>2020-6-7</td>\n",
       "      <td>1</td>\n",
       "      <td>@AngryMan87</td>\n",
       "      <td></td>\n",
       "      <td>ayer verdad</td>\n",
       "      <td>nul</td>\n",
       "    </tr>\n",
       "    <tr>\n",
       "      <th>639258</th>\n",
       "      <td>3226</td>\n",
       "      <td>1269699099114328066</td>\n",
       "      <td>GeneralDelAire1</td>\n",
       "      <td>¿Por qué está de tendencia Carla García?\\n\\n¿Y...</td>\n",
       "      <td>2020-6-7</td>\n",
       "      <td>24</td>\n",
       "      <td></td>\n",
       "      <td></td>\n",
       "      <td>tendencia carla garcia consiguio trabajo mujer...</td>\n",
       "      <td>nul</td>\n",
       "    </tr>\n",
       "  </tbody>\n",
       "</table>\n",
       "<p>118526 rows × 10 columns</p>\n",
       "</div>"
      ],
      "text/plain": [
       "        index                   id             User  \\\n",
       "0           0  1276498807442804736  AlbertoBelaunde   \n",
       "1           1  1276493803298476035  AlbertoBelaunde   \n",
       "2           2  1276309117142020098  AlbertoBelaunde   \n",
       "3           3  1276253647257690125  AlbertoBelaunde   \n",
       "4           4  1276233710917074945  AlbertoBelaunde   \n",
       "...       ...                  ...              ...   \n",
       "639254   3222  1269709809709920257  GeneralDelAire1   \n",
       "639255   3223  1269708522515828736  GeneralDelAire1   \n",
       "639256   3224  1269700742400663557  GeneralDelAire1   \n",
       "639257   3225  1269699810568929280  GeneralDelAire1   \n",
       "639258   3226  1269699099114328066  GeneralDelAire1   \n",
       "\n",
       "                                                     Text       Date  \\\n",
       "0       Harry Potter cumple 23 años. Hace unos años es...  2020-6-26   \n",
       "1       RT @MMissCupcakes: En el 2020 cambiar el logo ...  2020-6-26   \n",
       "2       RT @partidomorado: Hoy se ha saboteado la vota...  2020-6-26   \n",
       "3       RT @ManuelaRamos: ➡️💪Congresista @AlbertoBelau...  2020-6-25   \n",
       "4       Intervención en el debate de paridad y alterna...  2020-6-25   \n",
       "...                                                   ...        ...   \n",
       "639254  @geraldinearu Ella se mete más autogoles que c...   2020-6-7   \n",
       "639255               @mundoperplejo Como el correcaminos.   2020-6-7   \n",
       "639256  @gr0undzero1 @HateDispenser @aaleexxxxxxxx @on...   2020-6-7   \n",
       "639257                    @AngryMan87 El de ayer, verdad.   2020-6-7   \n",
       "639258  ¿Por qué está de tendencia Carla García?\\n\\n¿Y...   2020-6-7   \n",
       "\n",
       "        Retweets                                      Mentions  \\\n",
       "0              6                                                 \n",
       "1             15                                @MMissCupcakes   \n",
       "2             40                                @partidomorado   \n",
       "3              6                @ManuelaRamos @AlbertoBelaunde   \n",
       "4             25                                                 \n",
       "...          ...                                           ...   \n",
       "639254         0                                 @geraldinearu   \n",
       "639255         0                                @mundoperplejo   \n",
       "639256         0  @gr0undzero1 @HateDispenser @onvres_explican   \n",
       "639257         1                                   @AngryMan87   \n",
       "639258        24                                                 \n",
       "\n",
       "                         HashTags  \\\n",
       "0       #HarryPotter23 #Ravenclaw   \n",
       "1                                   \n",
       "2            #ParidadYAlternancia   \n",
       "3            #ParidadYAlternancia   \n",
       "4                                   \n",
       "...                           ...   \n",
       "639254                              \n",
       "639255                              \n",
       "639256                              \n",
       "639257                              \n",
       "639258                              \n",
       "\n",
       "                                                text_prep Orientacion  \n",
       "0       harry potter cumple años hace años escribi tex...         cen  \n",
       "1       2020 cambiar logo empresa colores arco iris va...         cen  \n",
       "2       saboteado votacion dejando debate eliminacion ...         cen  \n",
       "3       congresista agradecio organizaciones vienen pe...         cen  \n",
       "4       intervencion debate paridad alternancia import...         cen  \n",
       "...                                                   ...         ...  \n",
       "639254             mete autogoles cualquier equipo futbol         nul  \n",
       "639255                                       correcaminos         nul  \n",
       "639256  cuenta fujitroll busca copiarse francamente ha...         nul  \n",
       "639257                                        ayer verdad         nul  \n",
       "639258  tendencia carla garcia consiguio trabajo mujer...         nul  \n",
       "\n",
       "[118526 rows x 10 columns]"
      ]
     },
     "execution_count": 103,
     "metadata": {},
     "output_type": "execute_result"
    }
   ],
   "source": [
    "year_tweets_df_dict['2020']"
   ]
  },
  {
   "cell_type": "code",
   "execution_count": 104,
   "metadata": {},
   "outputs": [],
   "source": [
    "%%time\n",
    "orientacion='izq'\n",
    "serie_tmp=orientacion_tweets_df_dict[orientacion].text_prep.apply(lambda txt:word_tokenize(txt))\n",
    "bigram = gensim.models.Phrases(serie_tmp, min_count=5, threshold=100)\n",
    "trigram = gensim.models.Phrases(bigram[serie_tmp], threshold=100)  \n",
    "\n",
    "# Una forma más rápida de conseguir trigrama/bigrama \n",
    "bigram_mod = gensim.models.phrases.Phraser(bigram)\n",
    "trigram_mod = gensim.models.phrases.Phraser(trigram)"
   ]
  },
  {
   "cell_type": "code",
   "execution_count": 127,
   "metadata": {},
   "outputs": [
    {
     "name": "stdout",
     "output_type": "stream",
     "text": [
      "['alocucion', 'almirante', 'jorge', 'montoya', 'pocos', 'lideres', 'nacionales', 'habla', 'fuerte', 'claro', 'felicitaciones']\n",
      "['cobarde', 'vizcarra', 'quejandose', 'exigen', 'resolver_problemas', 'vienen', 'gobiernos', 'pasados', 'diferencia']\n",
      "['pueblo', 'decia', 'mismo', 'habia', 'escucharlo', 'cerraba', 'congreso']\n",
      "['podria', 'quejarse', 'gobierno', 'totalitarios', 'destruyan', 'imagenes', 'colon', 'latinoamerica']\n",
      "['especie', 'sexto', 'estilo', 'ágatha', 'dice', 'paridad_alternancia', 'desast']\n",
      "['victor_zamora', 'deje', 'momento', 'pensar', 'sueldo', 'cobra', 'camarilla', 'asesores', 'izquierda']\n",
      "['martin_vizcarra', 'camas', 'pasar', 'fines', 'junio', 'camas', 'segun', 'sala', 'situacional']\n",
      "['marc', 'anthony', 'david', 'beckham', 'donaron', 'construccion', 'albergue', 'niños', 'cancer', 'peru']\n",
      "['ayer', 'pdte', 'dijo', 'casi', 'gritando', 'perú', 'fracasado', 'cierto', 'sobrevive', 'gracias', 'propio', 'cuidado', 'caer']\n",
      "['luego', 'meses', 'profugo', 'comunista', 'gregorio_santos', 'capturado', 'socio', 'veronika_mendoza', 'tendra', 'cumplir', 'condena']\n",
      "['vizcarra', 'necesitaba', 'crearse', 'nuevo', 'enemigo', 'tapar', 'desastre', 'gestion', 'señalo', 'periodista']\n",
      "['ahora', 'vizcarra', 'saca', 'lado', 'chavista', 'amenaza', 'estatizar', 'clinicas', 'comercio', 'dice', 'unica', 'curva']\n",
      "['mentirilla', 'peru', 'gestiona', 'china', 'compra', 'famoso', 'hospital', 'prefabricado', 'camas', 'construyo']\n",
      "['delito', 'seras', 'juzgado', 'apenas', 'dejes', 'gobierno', 'julio', 'seras', 'sometido']\n",
      "['tres', 'raya']\n",
      "['metan', 'preso', 'incapaz', 'miles', 'muertos', 'gestion', 'ahora', 'contar', 'camas', 'ajenas', 'preocupa']\n",
      "['cuadra', 'aqui', 'vizcarra', 'dice', 'bien', 'camas_disponibles', 'desbordados']\n",
      "['continua', 'fuerza', 'persecucion', 'odebrecht', 'unico', 'fiscal', 'pide', 'investigar', 'empresa', 'corrupta']\n",
      "['arreglo', 'impase', 'ejecutivo', 'clinicas', 'historia', 'concluida', 'sicosocial', 'desinflado', 'documento', 'hace']\n",
      "['intentar', 'mantener', 'buenas', 'relaciones', 'comunista', 'cortejar', 'cocodrilo', 'abre', 'boca', 'puedes']\n",
      "['negocio', 'socio', 'odebrecht', 'recibio', 'millonario', 'empujoncito']\n",
      "['excelente', 'explicacion', 'natale', 'amprimo', 'articulo', 'constitucion', 'demuestra', 'vizcarra', 'enca']\n",
      "['periodistas', 'activistas', 'antifujis', 'culpando', 'malo', 'fujimori', 'pasado', 'varios', 'gobie']\n",
      "['gobierno', 'marcha_atras', 'solucionado', 'clinicas', 'daño', 'hecho', 'hace_rato', 'comunid']\n",
      "['enemigo', 'mineras', 'enemigo', 'congreso', 'enemigo', 'enemigo', 'farmaceuticas', 'enemigo']\n",
      "['minutos', 'habria', 'darle', 'apoderado', 'grañaymontero', 'moquegua', 'deje', 'palacio', 'nadie', 'eligio', 'inutil', 'vinculado']\n",
      "['ministro', 'perversos', 'pudieron', 'haber', 'salvado', 'miles', 'vidas', 'mayo', 'southern', 'peru', 'comprometio']\n",
      "['padre', 'raymundo', 'vicariato', 'iquitos', 'organizaron', 'colecta', 'resultado', 'ello', 'compraron', 'plantas', 'oxigeno']\n",
      "['indigna', 'muertos', 'ineficiencia', 'tratar', 'ideologizar', 'salud', 'vida', 'cargara', 'espaldas']\n",
      "['realidad', 'grave', 'tratar', 'ocultarla', 'creado', 'cortinas_humo', 'seguidas', 'primero', 'negri']\n",
      "['lobo', 'feroz', 'acreedor', 'indecopi']\n",
      "['izquierda', 'narcochavista', 'frente_amplio', 'fracasado', 'sabe', 'culpar', 'unico']\n",
      "['resulta', 'remedo', 'presidente', 'martin_vizcarra', 'ponerle', 'cortinaza', 'humo', 'fracasada', 'lucha']\n",
      "['ministro', 'muerte', 'zamora', 'pretende', 'recomendar', 'clinicas_privadas', 'actuar']\n",
      "['solo', 'imbeciles', 'saben', 'derecho', 'constitucional', 'pueden', 'haber', 'aconsejado', 'vizcarra', 'amenace', 'clinicas', 'privad']\n",
      "['creo', 'ebrio', 'pasmarote', 'hablo', 'incoherencias', 'solucionamos', 'capt']\n",
      "['vizcarra', 'quiere', 'expropiar', 'clinicas', 'acto', 'ilegal', 'nunca', 'quiso', 'embargar', 'propiedades', 'odebrecht', 'acto']\n",
      "['demagogia', 'cuento', 'bien', 'armado', 'acuerdo', 'clinicas', 'vizcarra', 'usando', 'politicamente', 'prensa', 'basura', 'seguira', 'cuento', 'tontos', 'ayayeros', 'celebraran']\n",
      "['buena']\n",
      "['peru', 'pais', 'desgraciado', 'izquierda', 'irresponsable', 'parasitaria', 'derecha', 'patria', 'veni']\n",
      "['impresentable', 'debe', 'tener', 'muchas', 'razones', 'odiar', 'mujeres', 'envidiarlas']\n",
      "['falta', 'vizcarra', 'culpe', 'clinicas_privadas', 'fracaso', 'estrategia', 'salud', 'pandemia', 'justificar', 'idea', 'expropiatoria', 'propiedad', 'empezo', 'chavismo', 'rojerio', 'aplaude', 'luego', 'seran', 'colegios', 'bancos', 'esyamos', 'avisados']\n",
      "['sabe', 'hinostroza', 'opuso', 'lcompra', 'pruebas_rapidas', 'moda', 'espa']\n",
      "['decenas', 'medicos', 'fallecidos', 'contagiados', 'dedicacion', 'pacientes', 'idea', 'caricaturista']\n",
      "['queda', 'cobarde', 'atorrante', 'solo', 'huir', 'prensa', 'cuestiona']\n",
      "['deberia', 'portada', 'diarios', 'premier', 'vicente_zeballos', 'escapa', 'rata', 'luego', 'increpado']\n",
      "['millones', 'mascarillas', 'millones', 'ventiladores', 'sirven', 'millones', 'policia', 'protegieron']\n",
      "['plena_pandemia', 'peru', 'mueren', 'recien_nacidos', 'falta', 'oxigeno', 'gobierno']\n",
      "['zamora', 'afirma', 'gobierno', 'prepara', 'eventual', 'rebrote', 'rebrote', 'incapaz', 'desaparecieron', 'disminuy']\n",
      "['palacio', 'estan', 'registrados', 'reporteros', 'distintos', 'medios', 'señor', 'solo', 'permi']\n",
      "['discurso', 'zurdos', 'agota', 'aceptan', 'funcionarios', 'gobiernos', 'derecha', 'neoliberal', 'garcia_sayan']\n",
      "['unidos', 'ventil', 'confiep', 'ventil', 'buenaventura', 'planta', 'credicorp', '140000', 'mascarillas', 'labor', 'farm']\n",
      "['presuntos', 'casos', 'corrupcion', 'incrementaron', 'cuarentena', 'segun', 'fiscalia']\n",
      "['lider', 'campesino', 'socialista', 'hijo', 'puta', 'mato', 'policia', 'placer']\n",
      "['cambiarle', 'nombre', 'productos', 'negrita', 'enseñemosle', 'niños', 'sentirse', 'orgullosos']\n",
      "['paises', 'dictatoriales', 'norma', 'mentira', 'desinformacion', 'tratar', 'respectivos', 'pueblos']\n",
      "['solo', 'fracaso', 'gestion', 'vizcarra']\n",
      "['trump', 'hizo', 'peru', 'vizcarra']\n",
      "['dias', 'terror', 'presidio', 'muerte', 'destruccion', 'economia', 'peruana', 'abuso', 'propiedad_privada', 'destruccion']\n",
      "['gracias', 'presidente', 'peru', 'recibe', 'donacion', 'ventiladores_mecanicos', 'dicen', 'comunis']\n",
      "['habra', 'conferencia', 'vizcarra', 'hara', 'balance', 'prepararnos', 'horas', 'mentiras', 'dira', 'ejemplo']\n",
      "['cuba', 'manipula', 'peru']\n",
      "['afortunados', 'millon', 'productora', 'cine', 'primer', 'mundo', 'soles', 'react']\n",
      "['apologia_terrorismo', 'mire', 'financia', 'cosas']\n",
      "['exministro', 'salud', 'abel_salinas', 'desmintio', 'victor_zamora', 'pues', 'informacion', 'oficial', 'sala', 'situacional', 'indica']\n",
      "['buenos_dias', 'peru', 'cuarentena', 'segunda', 'edicion', 'menu21', 'recuento', '101dias', 'despilfarro']\n",
      "['reaparecio', 'delincuente', 'maltratador', 'mujeres', 'meon', 'espero', 'usando', 'pañales']\n",
      "['vulgar', 'agresor', 'davelouis', 'nuevamente', 'salio', 'escribir', 'mejor', 'manera', 'marketearse', 'hablando', 'alberto_fujimori']\n",
      "['martin_vizcarra', 'vendra', 'marear', 'cifras', 'engañar', 'tribuna', 'adormecida', 'prensa', 'falta']\n",
      "['doble', 'imitacion', 'ultimamente', 'iluminacion', 'permanente', 'voto', 'dure']\n",
      "['pregunto', 'recontrapregunto', 'tipejo', 'ingreso', 'escuela', 'oficiales', 'llegando', 'gral']\n",
      "['felicitaciones']\n",
      "['segunda', 'parte']\n",
      "['respuesta', 'ministerio_cultura']\n",
      "['medio', 'crisis', 'clamorosa', 'errores', 'descomunales', 'corrupcion', 'mentiras', 'escalofriantes', 'marchas', 'contramarchas', 'llegamo']\n",
      "['tremenda', 'patinada', 'parece', 'persecucion', 'cualquier', 'cante', 'sonsonete', 'gobierno', 'mision']\n",
      "['vizcarra', 'historia', 'juzgar', 'decisiones', 'tomamos', 'enterese', 'presidente', 'historia', 'juzgo']\n",
      "['eeuu', 'donan', 'ventiladores', 'peru', 'noticia', 'pasa', 'desapercibida', 'comunistas', 'cubanos', 'vienen', 'hacer', 'finta']\n",
      "['partido', 'parece', 'negocio', 'piramidal', 'multinivel', 'jactaba', 'tener', 'cuadros']\n",
      "['merecen', 'peruanos', 'fallecidos', 'gobierno', 'declare', 'acaso', 'todas']\n",
      "['trump', 'hecho', 'peru', 'tira', 'ineptos', 'vizcarra', 'zamora', 'trump', 'mandado', 'respiradores']\n",
      "['great', 'arizona']\n",
      "[]\n",
      "['irregularidades', 'detectados', 'prestamos', 'otorgados', 'bancos', 'programa_reactiva', 'peru', 'supervisi']\n",
      "['martin_vizcarra', 'historia', 'juzgar', 'decisiones', 'tomamos', 'creo', 'seran', 'historiadores']\n",
      "['contraloria', 'hogares', 'situacion', 'pobreza', 'pobreza_extrema', 'incluidos', 'padron', 'hogares', 'bene']\n",
      "['familia', 'mujer', 'represento', 'marca', 'aunt', 'jemima', 'opone', 'cambio', 'imagen', 'considerada', 'heroina']\n",
      "['cosa', 'ministerio_cultura', 'aprueba', 'financia', 'terroristas', 'impuestos', 'vizcarrata']\n",
      "['debe', 'confundir', 'verdad', 'opinion', 'mayoria', 'jean', 'cocteau']\n",
      "['deberia', 'sacar', 'comunicado', 'solo', 'pasaron', 'ningun', 'comentario', 'agradecimiento', 'donacion']\n",
      "['premier', 'zeballos', 'cuadras', 'hospital', 'mellizos', 'murieron', 'falta', 'oxigeno']\n",
      "['alcaldes', 'mancomunidad', 'centro', 'lima', 'practicamente', 'dicen', 'deje', 'mandarles', 'diviac', 'fiscalia']\n",
      "['cifras', 'exceso', 'mortalidad', 'mundo', 'peru', 'dolorosas', 'cifras', 'alta']\n",
      "['crónicas', 'administración', 'municipal', 'corrupta', 'gobierno', 'edil', 'susana', 'villarán', 'puente', 'abeja']\n",
      "[]\n",
      "['ejecutivo', 'tomo', 'casi', 'meses', 'intervenir', 'mercados', 'fuentes', 'contagio', 'hizo', 'cifras', 'demostra']\n",
      "['camas', 'hospitalarias', 'camas', 'fines', 'junio', 'promesa', 'incumplida', 'martin_vizcarra', 'segun']\n",
      "['peruanos', 'trabajadores', 'peru', 'volvera', 'levantar', 'vizcarra', 'resto', 'culpables', 'tanta', 'muerte']\n",
      "['dimos', 'dias', 'ganen', 'tiempo', 'ganaron', 'coimas', 'compra']\n",
      "['pueblo', 'hace', 'sentir', 'calles', 'aguantan', 'gobienro', 'corrupto', 'martin', 'vuzcarra']\n",
      "['despues', 'haber', 'cumplido', 'cien', 'dias', 'trabajar', 'producir', 'haber', 'gastado', 'ahorros', 'sacado', 'parte']\n",
      "['dias', 'confinamiento', 'muertos', 'contagiados', 'millones', 'desempleados', 'miles', 'empresas', 'quebradas']\n",
      "['dictadura', 'vizcarrista', 'aprovecha', 'pandemia', 'desarrollar', 'ideologia', 'neocomunista', 'cayendo', 'desidia', 'frente']\n",
      "['cumplimos', 'dias', 'cuarentena', 'diseñada', 'vizcarra', 'comunistas', 'fracaso', 'rotundo']\n",
      "['dicen', 'cuarentena', 'salvo', 'vidas', 'creo', 'pienso', 'bueno', 'pudo', 'traer', 'cuarentena', 'borro']\n",
      "['firmo', 'ningun', 'acuerdo', 'ninguna', 'clinica', 'particular', 'horas', 'inepto', 'tenia']\n",
      "['mientras', 'grupusculo', 'delincuentes', 'alza', 'pais', 'peso', 'mediante', 'millonarias', 'consultorias']\n",
      "['cuentan', 'rojito', 'curwen', 'alucinaba', 'periodista', 'asesor', 'bancada', 'morada', 'terminan']\n",
      "['acabo', 'escuchar', 'entrevista', 'idea']\n",
      "['jefe', 'banco', 'central', 'reserva', 'pais', 'dice', 'peru', 'sufrira', 'peor', 'caida', 'economica', 'años']\n",
      "['jovenes', 'luchaban', 'cambiar', 'mundo', 'vivir', 'libertad', 'justicia', 'iban', 'guerra', 'daban']\n",
      "['madre', 'progresisismo', 'ahora', 'ofende', 'malditos', 'llorones']\n",
      "['veamos', 'oportunidad', 'cuantas', 'mujeres', 'negras', 'reconocidas', 'aporte', 'culinario', 'cuantos', 'platos', 'tipicos']\n",
      "['year', 'toddler', 'killed', 'gangbangers', 'there', 'reaction', 'black_lives', 'matter', 'antifa', 'where']\n",
      "['nurva', 'marca', 'acorde', 'tiempos']\n",
      "['nunca', 'percate', 'cuestiones', 'raza', 'tenia', 'frente', 'mazamorra', 'negrita', 'igual', 'tampoco', 'veia']\n",
      "['alicorp', 'espero', 'cambiar', 'nombre', 'negrita', 'chiste', 'marca', 'trasmite', 'caracteristicas', 'historia']\n",
      "['pasado', 'dias', 'encierro', 'populismo', 'sido', 'fracaso', 'corrupcion', 'demagogia', 'mediocridad', 'apropiado', 'peru']\n",
      "['humo', 'satanás', 'traves', 'abeja']\n",
      "['vizcarra', 'gobierno', 'pagar', 'caro', 'maldad', 'estan', 'haciendo', '1000', 'bebes', 'murieron', 'falta', 'incu']\n",
      "['gustaria', 'cualquier', 'evolucionista', 'ateo', 'explicara', 'origen', 'vida', 'momento', 'mater']\n",
      "['menos', 'gabinete', 'debe', 'caer', 'forma', 'entenderia', 'popular', 'desborde', 'vilentamente']\n",
      "['forma', 'biden', 'acerca', 'toca', 'niñas', 'parece', 'totalmente', 'asquerosa', 'repugnante']\n",
      "['cafe', 'negro', 'todavia', 'puede', 'decir', 'negro', 'ahora', 'solo', 'decir', 'cafe', 'leche']\n",
      "['roque_benavides', 'fracaso', 'gobierno', 'manejo', 'pandemia', 'cualquier', 'parte', 'mundo', 'congreso', 'interpelari']\n",
      "['paso', 'entrevista', 'milei', 'miren', 'deja', 'apabullado', 'marxiston', 'camuflado']\n",
      "['brutas', 'lado', 'guachafita', 'ademas', 'desinformada', 'compra', 'ropa', 'medicina', 'necesita']\n",
      "['federico_salazar', 'medidas', 'gobierno', 'llevaron', 'peor', 'crisis', 'economica', 'ultimo', 'siglo']\n",
      "['gobierno', 'mediocre', 'inepto', 'completo']\n",
      "['padre', 'foto', 'papá', 'abeja']\n",
      "['feliz', 'padre', 'aquellos', 'hombres', 'mucha', 'entrega', 'amor', 'asumido', 'enorme', 'tarea', 'cuidar']\n",
      "['gino_costa', 'alberto_belaunde', 'cobrado', 'emolumento', 'instalacion', 'nuevo', 'congreso', 'decir', 'segunda']\n",
      "['sujeto', 'dejo', 'drogas']\n",
      "['crímenes', 'colón', 'abeja']\n",
      "['democratas', 'ganan', 'poder', 'turba', 'saqueadores', 'estaran', 'cargo', 'nadie', 'estara', 'salvo', 'biden']\n",
      "['lima', 'hermosa', 'falta', 'planificacion_urbana', 'destruyo']\n",
      "['while', 'other', 'corporations', 'push', 'abortion', 'wendy', 'saves', 'kids', 'through', 'adoption', 'opinion', 'lifesite']\n",
      "['republicans', 'party', 'liberty', 'equality', 'justice', 'party', 'abraham', 'lincoln', 'party']\n",
      "['unico', 'bueno', 'dejado', 'epidemia', 'sabemos', 'gobierno', 'izquierda', 'neta', 'muerte']\n",
      "['realidad', 'hugo_blanco', 'asesino', 'arrepiente', 'crimenes', 'sonrie', 'celebra', 'imbecil', 'proterruco', 'zapata', 'camarada', 'mendoza', 'realidad']\n",
      "['george', 'washington', 'slave', 'owner', 'pres', 'trump', 'says', 'going', 'take', 'down', 'statues', 'george', 'washington']\n",
      "['pelicula', 'glorias', 'pacífico', 'muestra', 'accion', 'valerosos', 'verdaderos', 'héroes', 'defendieron']\n",
      "['pandemia', 'fiesta', 'crisis', 'economica', 'excita', 'habra', 'pobreza', 'clientes']\n",
      "['entonces', 'mayor', 'razon', 'escandalicese', 'regimen', 'vizcarrista']\n",
      "['senadores', 'impulsan', 'sanciones', 'receptores', 'medicos_cubanos']\n",
      "['fujimori', 'sentenciado', 'lesa_humanidad']\n",
      "['llegado', 'nivel', 'inversion', 'valores', 'acepta', 'pelicula', 'terrorista', 'puede', 'patrocinada']\n",
      "['brigadistas', 'cubanos', 'rindieron', 'tributo', 'maceo', 'peru', 'vienen', 'perú', 'médicos', 'cubanos']\n",
      "['hallaron', 'muerto', 'casa', 'custodios', 'cristina', 'kirchner']\n",
      "['watsamara', 'inda', 'nius', 'disponible', 'gracias']\n",
      "['favor', 'solo', 'firmar', 'difundir', 'aportar', 'dinero', 'muchas', 'gracias', 'poder_judicial', 'peru', 'atencion_medica', 'especializada']\n",
      "['vizcarra', 'estrategia', 'funcionando', 'estrategia', 'infectados']\n",
      "['rojos', 'infiltrado', 'circulos', 'culturales', 'proposito', 'difundir', 'basura', 'ideologica']\n",
      "['seudo', 'periodista', 'sigrid_bazan', 'deberia', 'despedida', 'respeto', 'periodistas', 'familiares', 'trabajaron', 'frec']\n",
      "['cuestion', 'derecha', 'srta', 'sigrid_bazan', 'quisiera', 'saber', 'pensaria', 'comodidad', 'lujos', 'acostu']\n",
      "['nuevo', 'presente', 'aguas_residuales', 'ciudades', 'italianas', 'milan', 'turin', 'diciembre']\n",
      "['premio', 'haber', 'traicionado', 'pais', 'lado_oscuro', 'organiza']\n",
      "['vicedecano', 'colegio_medico', 'peru', 'reprocho', 'huerta', 'haber', 'cuestionado', 'ivermectina', 'hidr']\n",
      "['pope', 'emeritus', 'benedict', 'will', 'celebrate', 'mass', 'with', 'ailing', 'brother', 'today', 'feast', 'during', 'first']\n",
      "['mientras', 'gente', 'muere', 'puertas', 'hospitales', 'trujillo', 'gobierno', 'regional', 'organiza', 'desfile', 'modas']\n",
      "['fuerzas', 'oscuras', 'globalista', 'alineandose']\n",
      "['will_never', 'have', 'another', 'president', 'quite', 'like', 'donald_trump']\n",
      "['sale', 'dinero', 'pintas', 'partido', 'militantes', 'hagan', 'trabajo']\n",
      "['comparacion']\n",
      "['congresista', 'pide', 'citar', 'ministro', 'alejandro_neyra', 'documental_hugo', 'blanco']\n",
      "['sigrid_bazan', 'indigna', 'george_floyd', 'defiende', 'hugo_blanco', 'minimiza', 'asesinato', 'policia', 'cualquier']\n",
      "['curwen', 'dejo', 'cuenta', 'twitter', 'dedicarse', 'enteramente', 'administrar', 'cuenta', 'general', 'aire', 'risa']\n",
      "['rancio', 'izquierda', 'peruana', 'salido', 'defender', 'mamarracho', 'propagandistico', 'comunista', 'hugo_blanco']\n",
      "['pinta', 'espontanea', 'propaganda', 'politica', 'bien', 'diseñada', 'pregunta', 'paga']\n",
      "['terrorista', 'mata', 'policia', 'heroe', 'revolucionario', 'militar', 'policia', 'mata', 'terrorista', 'violador']\n",
      "['punto', 'dice', 'dieron', 'difundiera', 'cosas', 'colegios']\n",
      "['comunicados', 'organizaciones', 'pronunciamientos', 'miles', 'personas', 'traves', 'redes_sociales', 'manifestando', 'indignacion']\n",
      "['manteniendo', 'neutralidad', 'jurado', 'designado', 'mincul', 'financiamos', 'dimos', 'incentivo', 'economico']\n",
      "['pasado']\n",
      "['forrest_gump', 'indiana', 'jones', 'posibles', 'peliculas', 'censurar', 'neoinquisicion']\n",
      "['esperemos', 'procurador', 'terrorismo', 'depende', 'presenta']\n",
      "['quieren', 'defender', 'lideres', 'condenados', 'asesinar', 'policias', 'haganlo', 'plata', 'dinero']\n",
      "['policias', 'capturaron', 'peligrosos', 'terroristas', 'indignados', 'documental', 'ensalza', 'asesino', 'policias']\n",
      "['mejor', 'quedado', 'callados', 'mincul', 'cueva', 'comunistas']\n",
      "['grupo', 'senadores', 'republicanos', 'unidos', 'presentaron', 'miercoles', 'proyecto', 'castigar']\n",
      "['corrupción', 'detallada', 'investigacion', 'portal', 'lima', 'gris', 'acerca', 'luis', 'rivera', 'talledo', 'swing', 'ministerio']\n",
      "['ministros', 'pasado', 'gobierno', 'lujo', 'inauguro', 'continuo', 'suplente', 'vizcarra', 'improvisacion', 'ineficie']\n",
      "['sector', 'politico', 'justifica', 'cultura', 'gaste', 'difundir', 'documental', 'propagandistico', 'personaje']\n",
      "['vivan', 'mermeencuestas']\n",
      "['futbolista', 'demagogo', 'populista', 'sospechoso', 'homicidio', 'violacion', 'caviar', 'dispuesto', 'destruir', 'pais', 'peru', 'parece', 'vocacion', 'suicida']\n",
      "['reina', 'comodonas', 'defendiendo', 'asesino', 'hugo_blanco', 'terroristas', 'homicidas', 'careta', 'revolucionarios', 'despreciado', 'aburguesada']\n",
      "['quiere', 'impedir', 'pueblo', 'memoria', 'sino', 'engañen', 'asesino', 'terrorista', 'puede', 'convertir', 'ejemplo', 'heroe', 'sera', 'homicida', 'enemigo', 'pueblo', 'peruano']\n",
      "['solo', 'conocen', 'bien', 'cosas', 'domestican']\n",
      "['funerales', 'sargento', 'guardia', 'civil', 'asesinado', 'hugo_blanco', 'banda', 'comunista']\n",
      "['olvides', 'bono', 'suegro', 'millones']\n",
      "['indigno', 'gasto', 'pelicula', 'asesino', 'policias']\n",
      "['seguirán', 'ciegos', 'sordos', 'mudos']\n",
      "['quitando', 'derechos_fundamentales', 'pretexto', 'pandemia', 'objetivos', 'entorpecer', 'proximo', 'proceso', 'elector']\n",
      "['documental', 'profundo', 'hugo_blanco', 'costo', 'arcas', 'soles', 'documental']\n",
      "['imbecilidad', 'sometimiento', 'progreprejuicios', 'limites', 'quaker', 'retirara', 'mercado', 'marca', 'años', 'considerarla', 'racista']\n",
      "['puede', 'esperar', 'cura', 'apostata', 'sino', 'tambien', 'traicione', 'pais', 'defienda', 'asesinos', 'terroristas']\n",
      "['puede', 'esperar', 'cura', 'apostata', 'sino', 'tambien', 'traicione', 'pais', 'defienda', 'asesinos']\n",
      "['ninguna', 'feminista', 'pais', 'capaz', 'publicar', 'barbaridad', 'video', 'españa']\n",
      "['pasa', 'viva', 'antifa']\n",
      "['acerca', 'gritos', 'traves', 'abeja']\n"
     ]
    }
   ],
   "source": [
    "orientacion='der'\n",
    "serie_tmp=orientacion_tweets_df_dict[orientacion].text_prep.apply(lambda txt:word_tokenize(txt))\n",
    "for a in range(200):\n",
    "    print(bigram[serie_tmp[a]])"
   ]
  },
  {
   "cell_type": "code",
   "execution_count": null,
   "metadata": {},
   "outputs": [],
   "source": []
  },
  {
   "cell_type": "code",
   "execution_count": null,
   "metadata": {},
   "outputs": [],
   "source": []
  },
  {
   "cell_type": "code",
   "execution_count": null,
   "metadata": {},
   "outputs": [],
   "source": [
    "    \n",
    "\n",
    "#c_tokens = Counter(politicotweets_all.split(' ')) \n",
    "#print(len(c_tokens))\n",
    "#c_tokens.most_common(15)\n",
    "politicotweets_all = ' '.join(df_series_text_prep)\n",
    "    \n",
    "for idx,scr_name in enumerate(politicosdb_df['screen_name']): \n",
    "    df=politicosdf_dict[scr_name[1:]]\n",
    "    print(\"Usuario: \",scr_name,\" / \",politicosdb_df['nombre'].iloc[idx],\" / \",politicosdb_df['nombre_partido'].iloc[idx])\n",
    "    muestra_wordcloud(df.text_prep)"
   ]
  },
  {
   "cell_type": "code",
   "execution_count": null,
   "metadata": {},
   "outputs": [],
   "source": []
  },
  {
   "cell_type": "code",
   "execution_count": null,
   "metadata": {},
   "outputs": [],
   "source": []
  },
  {
   "cell_type": "code",
   "execution_count": null,
   "metadata": {},
   "outputs": [],
   "source": []
  },
  {
   "cell_type": "code",
   "execution_count": null,
   "metadata": {},
   "outputs": [],
   "source": []
  },
  {
   "cell_type": "code",
   "execution_count": null,
   "metadata": {},
   "outputs": [],
   "source": []
  },
  {
   "cell_type": "code",
   "execution_count": null,
   "metadata": {},
   "outputs": [],
   "source": []
  },
  {
   "cell_type": "code",
   "execution_count": 104,
   "metadata": {},
   "outputs": [],
   "source": [
    "%%time\n",
    "orientacion='izq'\n",
    "serie_tmp=orientacion_tweets_df_dict[orientacion].text_prep.apply(lambda txt:txt.split())\n",
    "bigram = gensim.models.Phrases(serie_tmp, min_count=5, threshold=100)\n",
    "trigram = gensim.models.Phrases(bigram[serie_tmp], threshold=100)  \n",
    "\n",
    "# Una forma más rápida de conseguir trigrama/bigrama \n",
    "bigram_mod = gensim.models.phrases.Phraser(bigram)\n",
    "trigram_mod = gensim.models.phrases.Phraser(trigram)"
   ]
  },
  {
   "cell_type": "code",
   "execution_count": 127,
   "metadata": {
    "collapsed": true,
    "jupyter": {
     "outputs_hidden": true
    }
   },
   "outputs": [
    {
     "name": "stdout",
     "output_type": "stream",
     "text": [
      "['alocucion', 'almirante', 'jorge', 'montoya', 'pocos', 'lideres', 'nacionales', 'habla', 'fuerte', 'claro', 'felicitaciones']\n",
      "['cobarde', 'vizcarra', 'quejandose', 'exigen', 'resolver_problemas', 'vienen', 'gobiernos', 'pasados', 'diferencia']\n",
      "['pueblo', 'decia', 'mismo', 'habia', 'escucharlo', 'cerraba', 'congreso']\n",
      "['podria', 'quejarse', 'gobierno', 'totalitarios', 'destruyan', 'imagenes', 'colon', 'latinoamerica']\n",
      "['especie', 'sexto', 'estilo', 'ágatha', 'dice', 'paridad_alternancia', 'desast']\n",
      "['victor_zamora', 'deje', 'momento', 'pensar', 'sueldo', 'cobra', 'camarilla', 'asesores', 'izquierda']\n",
      "['martin_vizcarra', 'camas', 'pasar', 'fines', 'junio', 'camas', 'segun', 'sala', 'situacional']\n",
      "['marc', 'anthony', 'david', 'beckham', 'donaron', 'construccion', 'albergue', 'niños', 'cancer', 'peru']\n",
      "['ayer', 'pdte', 'dijo', 'casi', 'gritando', 'perú', 'fracasado', 'cierto', 'sobrevive', 'gracias', 'propio', 'cuidado', 'caer']\n",
      "['luego', 'meses', 'profugo', 'comunista', 'gregorio_santos', 'capturado', 'socio', 'veronika_mendoza', 'tendra', 'cumplir', 'condena']\n",
      "['vizcarra', 'necesitaba', 'crearse', 'nuevo', 'enemigo', 'tapar', 'desastre', 'gestion', 'señalo', 'periodista']\n",
      "['ahora', 'vizcarra', 'saca', 'lado', 'chavista', 'amenaza', 'estatizar', 'clinicas', 'comercio', 'dice', 'unica', 'curva']\n",
      "['mentirilla', 'peru', 'gestiona', 'china', 'compra', 'famoso', 'hospital', 'prefabricado', 'camas', 'construyo']\n",
      "['delito', 'seras', 'juzgado', 'apenas', 'dejes', 'gobierno', 'julio', 'seras', 'sometido']\n",
      "['tres', 'raya']\n",
      "['metan', 'preso', 'incapaz', 'miles', 'muertos', 'gestion', 'ahora', 'contar', 'camas', 'ajenas', 'preocupa']\n",
      "['cuadra', 'aqui', 'vizcarra', 'dice', 'bien', 'camas_disponibles', 'desbordados']\n",
      "['continua', 'fuerza', 'persecucion', 'odebrecht', 'unico', 'fiscal', 'pide', 'investigar', 'empresa', 'corrupta']\n",
      "['arreglo', 'impase', 'ejecutivo', 'clinicas', 'historia', 'concluida', 'sicosocial', 'desinflado', 'documento', 'hace']\n",
      "['intentar', 'mantener', 'buenas', 'relaciones', 'comunista', 'cortejar', 'cocodrilo', 'abre', 'boca', 'puedes']\n",
      "['negocio', 'socio', 'odebrecht', 'recibio', 'millonario', 'empujoncito']\n",
      "['excelente', 'explicacion', 'natale', 'amprimo', 'articulo', 'constitucion', 'demuestra', 'vizcarra', 'enca']\n",
      "['periodistas', 'activistas', 'antifujis', 'culpando', 'malo', 'fujimori', 'pasado', 'varios', 'gobie']\n",
      "['gobierno', 'marcha_atras', 'solucionado', 'clinicas', 'daño', 'hecho', 'hace_rato', 'comunid']\n",
      "['enemigo', 'mineras', 'enemigo', 'congreso', 'enemigo', 'enemigo', 'farmaceuticas', 'enemigo']\n",
      "['minutos', 'habria', 'darle', 'apoderado', 'grañaymontero', 'moquegua', 'deje', 'palacio', 'nadie', 'eligio', 'inutil', 'vinculado']\n",
      "['ministro', 'perversos', 'pudieron', 'haber', 'salvado', 'miles', 'vidas', 'mayo', 'southern', 'peru', 'comprometio']\n",
      "['padre', 'raymundo', 'vicariato', 'iquitos', 'organizaron', 'colecta', 'resultado', 'ello', 'compraron', 'plantas', 'oxigeno']\n",
      "['indigna', 'muertos', 'ineficiencia', 'tratar', 'ideologizar', 'salud', 'vida', 'cargara', 'espaldas']\n",
      "['realidad', 'grave', 'tratar', 'ocultarla', 'creado', 'cortinas_humo', 'seguidas', 'primero', 'negri']\n",
      "['lobo', 'feroz', 'acreedor', 'indecopi']\n",
      "['izquierda', 'narcochavista', 'frente_amplio', 'fracasado', 'sabe', 'culpar', 'unico']\n",
      "['resulta', 'remedo', 'presidente', 'martin_vizcarra', 'ponerle', 'cortinaza', 'humo', 'fracasada', 'lucha']\n",
      "['ministro', 'muerte', 'zamora', 'pretende', 'recomendar', 'clinicas_privadas', 'actuar']\n",
      "['solo', 'imbeciles', 'saben', 'derecho', 'constitucional', 'pueden', 'haber', 'aconsejado', 'vizcarra', 'amenace', 'clinicas', 'privad']\n",
      "['creo', 'ebrio', 'pasmarote', 'hablo', 'incoherencias', 'solucionamos', 'capt']\n",
      "['vizcarra', 'quiere', 'expropiar', 'clinicas', 'acto', 'ilegal', 'nunca', 'quiso', 'embargar', 'propiedades', 'odebrecht', 'acto']\n",
      "['demagogia', 'cuento', 'bien', 'armado', 'acuerdo', 'clinicas', 'vizcarra', 'usando', 'politicamente', 'prensa', 'basura', 'seguira', 'cuento', 'tontos', 'ayayeros', 'celebraran']\n",
      "['buena']\n",
      "['peru', 'pais', 'desgraciado', 'izquierda', 'irresponsable', 'parasitaria', 'derecha', 'patria', 'veni']\n",
      "['impresentable', 'debe', 'tener', 'muchas', 'razones', 'odiar', 'mujeres', 'envidiarlas']\n",
      "['falta', 'vizcarra', 'culpe', 'clinicas_privadas', 'fracaso', 'estrategia', 'salud', 'pandemia', 'justificar', 'idea', 'expropiatoria', 'propiedad', 'empezo', 'chavismo', 'rojerio', 'aplaude', 'luego', 'seran', 'colegios', 'bancos', 'esyamos', 'avisados']\n",
      "['sabe', 'hinostroza', 'opuso', 'lcompra', 'pruebas_rapidas', 'moda', 'espa']\n",
      "['decenas', 'medicos', 'fallecidos', 'contagiados', 'dedicacion', 'pacientes', 'idea', 'caricaturista']\n",
      "['queda', 'cobarde', 'atorrante', 'solo', 'huir', 'prensa', 'cuestiona']\n",
      "['deberia', 'portada', 'diarios', 'premier', 'vicente_zeballos', 'escapa', 'rata', 'luego', 'increpado']\n",
      "['millones', 'mascarillas', 'millones', 'ventiladores', 'sirven', 'millones', 'policia', 'protegieron']\n",
      "['plena_pandemia', 'peru', 'mueren', 'recien_nacidos', 'falta', 'oxigeno', 'gobierno']\n",
      "['zamora', 'afirma', 'gobierno', 'prepara', 'eventual', 'rebrote', 'rebrote', 'incapaz', 'desaparecieron', 'disminuy']\n",
      "['palacio', 'estan', 'registrados', 'reporteros', 'distintos', 'medios', 'señor', 'solo', 'permi']\n",
      "['discurso', 'zurdos', 'agota', 'aceptan', 'funcionarios', 'gobiernos', 'derecha', 'neoliberal', 'garcia_sayan']\n",
      "['unidos', 'ventil', 'confiep', 'ventil', 'buenaventura', 'planta', 'credicorp', '140000', 'mascarillas', 'labor', 'farm']\n",
      "['presuntos', 'casos', 'corrupcion', 'incrementaron', 'cuarentena', 'segun', 'fiscalia']\n",
      "['lider', 'campesino', 'socialista', 'hijo', 'puta', 'mato', 'policia', 'placer']\n",
      "['cambiarle', 'nombre', 'productos', 'negrita', 'enseñemosle', 'niños', 'sentirse', 'orgullosos']\n",
      "['paises', 'dictatoriales', 'norma', 'mentira', 'desinformacion', 'tratar', 'respectivos', 'pueblos']\n",
      "['solo', 'fracaso', 'gestion', 'vizcarra']\n",
      "['trump', 'hizo', 'peru', 'vizcarra']\n",
      "['dias', 'terror', 'presidio', 'muerte', 'destruccion', 'economia', 'peruana', 'abuso', 'propiedad_privada', 'destruccion']\n",
      "['gracias', 'presidente', 'peru', 'recibe', 'donacion', 'ventiladores_mecanicos', 'dicen', 'comunis']\n",
      "['habra', 'conferencia', 'vizcarra', 'hara', 'balance', 'prepararnos', 'horas', 'mentiras', 'dira', 'ejemplo']\n",
      "['cuba', 'manipula', 'peru']\n",
      "['afortunados', 'millon', 'productora', 'cine', 'primer', 'mundo', 'soles', 'react']\n",
      "['apologia_terrorismo', 'mire', 'financia', 'cosas']\n",
      "['exministro', 'salud', 'abel_salinas', 'desmintio', 'victor_zamora', 'pues', 'informacion', 'oficial', 'sala', 'situacional', 'indica']\n",
      "['buenos_dias', 'peru', 'cuarentena', 'segunda', 'edicion', 'menu21', 'recuento', '101dias', 'despilfarro']\n",
      "['reaparecio', 'delincuente', 'maltratador', 'mujeres', 'meon', 'espero', 'usando', 'pañales']\n",
      "['vulgar', 'agresor', 'davelouis', 'nuevamente', 'salio', 'escribir', 'mejor', 'manera', 'marketearse', 'hablando', 'alberto_fujimori']\n",
      "['martin_vizcarra', 'vendra', 'marear', 'cifras', 'engañar', 'tribuna', 'adormecida', 'prensa', 'falta']\n",
      "['doble', 'imitacion', 'ultimamente', 'iluminacion', 'permanente', 'voto', 'dure']\n",
      "['pregunto', 'recontrapregunto', 'tipejo', 'ingreso', 'escuela', 'oficiales', 'llegando', 'gral']\n",
      "['felicitaciones']\n",
      "['segunda', 'parte']\n",
      "['respuesta', 'ministerio_cultura']\n",
      "['medio', 'crisis', 'clamorosa', 'errores', 'descomunales', 'corrupcion', 'mentiras', 'escalofriantes', 'marchas', 'contramarchas', 'llegamo']\n",
      "['tremenda', 'patinada', 'parece', 'persecucion', 'cualquier', 'cante', 'sonsonete', 'gobierno', 'mision']\n",
      "['vizcarra', 'historia', 'juzgar', 'decisiones', 'tomamos', 'enterese', 'presidente', 'historia', 'juzgo']\n",
      "['eeuu', 'donan', 'ventiladores', 'peru', 'noticia', 'pasa', 'desapercibida', 'comunistas', 'cubanos', 'vienen', 'hacer', 'finta']\n",
      "['partido', 'parece', 'negocio', 'piramidal', 'multinivel', 'jactaba', 'tener', 'cuadros']\n",
      "['merecen', 'peruanos', 'fallecidos', 'gobierno', 'declare', 'acaso', 'todas']\n",
      "['trump', 'hecho', 'peru', 'tira', 'ineptos', 'vizcarra', 'zamora', 'trump', 'mandado', 'respiradores']\n",
      "['great', 'arizona']\n",
      "[]\n",
      "['irregularidades', 'detectados', 'prestamos', 'otorgados', 'bancos', 'programa_reactiva', 'peru', 'supervisi']\n",
      "['martin_vizcarra', 'historia', 'juzgar', 'decisiones', 'tomamos', 'creo', 'seran', 'historiadores']\n",
      "['contraloria', 'hogares', 'situacion', 'pobreza', 'pobreza_extrema', 'incluidos', 'padron', 'hogares', 'bene']\n",
      "['familia', 'mujer', 'represento', 'marca', 'aunt', 'jemima', 'opone', 'cambio', 'imagen', 'considerada', 'heroina']\n",
      "['cosa', 'ministerio_cultura', 'aprueba', 'financia', 'terroristas', 'impuestos', 'vizcarrata']\n",
      "['debe', 'confundir', 'verdad', 'opinion', 'mayoria', 'jean', 'cocteau']\n",
      "['deberia', 'sacar', 'comunicado', 'solo', 'pasaron', 'ningun', 'comentario', 'agradecimiento', 'donacion']\n",
      "['premier', 'zeballos', 'cuadras', 'hospital', 'mellizos', 'murieron', 'falta', 'oxigeno']\n",
      "['alcaldes', 'mancomunidad', 'centro', 'lima', 'practicamente', 'dicen', 'deje', 'mandarles', 'diviac', 'fiscalia']\n",
      "['cifras', 'exceso', 'mortalidad', 'mundo', 'peru', 'dolorosas', 'cifras', 'alta']\n",
      "['crónicas', 'administración', 'municipal', 'corrupta', 'gobierno', 'edil', 'susana', 'villarán', 'puente', 'abeja']\n",
      "[]\n",
      "['ejecutivo', 'tomo', 'casi', 'meses', 'intervenir', 'mercados', 'fuentes', 'contagio', 'hizo', 'cifras', 'demostra']\n",
      "['camas', 'hospitalarias', 'camas', 'fines', 'junio', 'promesa', 'incumplida', 'martin_vizcarra', 'segun']\n",
      "['peruanos', 'trabajadores', 'peru', 'volvera', 'levantar', 'vizcarra', 'resto', 'culpables', 'tanta', 'muerte']\n",
      "['dimos', 'dias', 'ganen', 'tiempo', 'ganaron', 'coimas', 'compra']\n",
      "['pueblo', 'hace', 'sentir', 'calles', 'aguantan', 'gobienro', 'corrupto', 'martin', 'vuzcarra']\n",
      "['despues', 'haber', 'cumplido', 'cien', 'dias', 'trabajar', 'producir', 'haber', 'gastado', 'ahorros', 'sacado', 'parte']\n",
      "['dias', 'confinamiento', 'muertos', 'contagiados', 'millones', 'desempleados', 'miles', 'empresas', 'quebradas']\n",
      "['dictadura', 'vizcarrista', 'aprovecha', 'pandemia', 'desarrollar', 'ideologia', 'neocomunista', 'cayendo', 'desidia', 'frente']\n",
      "['cumplimos', 'dias', 'cuarentena', 'diseñada', 'vizcarra', 'comunistas', 'fracaso', 'rotundo']\n",
      "['dicen', 'cuarentena', 'salvo', 'vidas', 'creo', 'pienso', 'bueno', 'pudo', 'traer', 'cuarentena', 'borro']\n",
      "['firmo', 'ningun', 'acuerdo', 'ninguna', 'clinica', 'particular', 'horas', 'inepto', 'tenia']\n",
      "['mientras', 'grupusculo', 'delincuentes', 'alza', 'pais', 'peso', 'mediante', 'millonarias', 'consultorias']\n",
      "['cuentan', 'rojito', 'curwen', 'alucinaba', 'periodista', 'asesor', 'bancada', 'morada', 'terminan']\n",
      "['acabo', 'escuchar', 'entrevista', 'idea']\n",
      "['jefe', 'banco', 'central', 'reserva', 'pais', 'dice', 'peru', 'sufrira', 'peor', 'caida', 'economica', 'años']\n",
      "['jovenes', 'luchaban', 'cambiar', 'mundo', 'vivir', 'libertad', 'justicia', 'iban', 'guerra', 'daban']\n",
      "['madre', 'progresisismo', 'ahora', 'ofende', 'malditos', 'llorones']\n",
      "['veamos', 'oportunidad', 'cuantas', 'mujeres', 'negras', 'reconocidas', 'aporte', 'culinario', 'cuantos', 'platos', 'tipicos']\n",
      "['year', 'toddler', 'killed', 'gangbangers', 'there', 'reaction', 'black_lives', 'matter', 'antifa', 'where']\n",
      "['nurva', 'marca', 'acorde', 'tiempos']\n",
      "['nunca', 'percate', 'cuestiones', 'raza', 'tenia', 'frente', 'mazamorra', 'negrita', 'igual', 'tampoco', 'veia']\n",
      "['alicorp', 'espero', 'cambiar', 'nombre', 'negrita', 'chiste', 'marca', 'trasmite', 'caracteristicas', 'historia']\n",
      "['pasado', 'dias', 'encierro', 'populismo', 'sido', 'fracaso', 'corrupcion', 'demagogia', 'mediocridad', 'apropiado', 'peru']\n",
      "['humo', 'satanás', 'traves', 'abeja']\n",
      "['vizcarra', 'gobierno', 'pagar', 'caro', 'maldad', 'estan', 'haciendo', '1000', 'bebes', 'murieron', 'falta', 'incu']\n",
      "['gustaria', 'cualquier', 'evolucionista', 'ateo', 'explicara', 'origen', 'vida', 'momento', 'mater']\n",
      "['menos', 'gabinete', 'debe', 'caer', 'forma', 'entenderia', 'popular', 'desborde', 'vilentamente']\n",
      "['forma', 'biden', 'acerca', 'toca', 'niñas', 'parece', 'totalmente', 'asquerosa', 'repugnante']\n",
      "['cafe', 'negro', 'todavia', 'puede', 'decir', 'negro', 'ahora', 'solo', 'decir', 'cafe', 'leche']\n",
      "['roque_benavides', 'fracaso', 'gobierno', 'manejo', 'pandemia', 'cualquier', 'parte', 'mundo', 'congreso', 'interpelari']\n",
      "['paso', 'entrevista', 'milei', 'miren', 'deja', 'apabullado', 'marxiston', 'camuflado']\n",
      "['brutas', 'lado', 'guachafita', 'ademas', 'desinformada', 'compra', 'ropa', 'medicina', 'necesita']\n",
      "['federico_salazar', 'medidas', 'gobierno', 'llevaron', 'peor', 'crisis', 'economica', 'ultimo', 'siglo']\n",
      "['gobierno', 'mediocre', 'inepto', 'completo']\n",
      "['padre', 'foto', 'papá', 'abeja']\n",
      "['feliz', 'padre', 'aquellos', 'hombres', 'mucha', 'entrega', 'amor', 'asumido', 'enorme', 'tarea', 'cuidar']\n",
      "['gino_costa', 'alberto_belaunde', 'cobrado', 'emolumento', 'instalacion', 'nuevo', 'congreso', 'decir', 'segunda']\n",
      "['sujeto', 'dejo', 'drogas']\n",
      "['crímenes', 'colón', 'abeja']\n",
      "['democratas', 'ganan', 'poder', 'turba', 'saqueadores', 'estaran', 'cargo', 'nadie', 'estara', 'salvo', 'biden']\n",
      "['lima', 'hermosa', 'falta', 'planificacion_urbana', 'destruyo']\n",
      "['while', 'other', 'corporations', 'push', 'abortion', 'wendy', 'saves', 'kids', 'through', 'adoption', 'opinion', 'lifesite']\n",
      "['republicans', 'party', 'liberty', 'equality', 'justice', 'party', 'abraham', 'lincoln', 'party']\n",
      "['unico', 'bueno', 'dejado', 'epidemia', 'sabemos', 'gobierno', 'izquierda', 'neta', 'muerte']\n",
      "['realidad', 'hugo_blanco', 'asesino', 'arrepiente', 'crimenes', 'sonrie', 'celebra', 'imbecil', 'proterruco', 'zapata', 'camarada', 'mendoza', 'realidad']\n",
      "['george', 'washington', 'slave', 'owner', 'pres', 'trump', 'says', 'going', 'take', 'down', 'statues', 'george', 'washington']\n",
      "['pelicula', 'glorias', 'pacífico', 'muestra', 'accion', 'valerosos', 'verdaderos', 'héroes', 'defendieron']\n",
      "['pandemia', 'fiesta', 'crisis', 'economica', 'excita', 'habra', 'pobreza', 'clientes']\n",
      "['entonces', 'mayor', 'razon', 'escandalicese', 'regimen', 'vizcarrista']\n",
      "['senadores', 'impulsan', 'sanciones', 'receptores', 'medicos_cubanos']\n",
      "['fujimori', 'sentenciado', 'lesa_humanidad']\n",
      "['llegado', 'nivel', 'inversion', 'valores', 'acepta', 'pelicula', 'terrorista', 'puede', 'patrocinada']\n",
      "['brigadistas', 'cubanos', 'rindieron', 'tributo', 'maceo', 'peru', 'vienen', 'perú', 'médicos', 'cubanos']\n",
      "['hallaron', 'muerto', 'casa', 'custodios', 'cristina', 'kirchner']\n",
      "['watsamara', 'inda', 'nius', 'disponible', 'gracias']\n",
      "['favor', 'solo', 'firmar', 'difundir', 'aportar', 'dinero', 'muchas', 'gracias', 'poder_judicial', 'peru', 'atencion_medica', 'especializada']\n",
      "['vizcarra', 'estrategia', 'funcionando', 'estrategia', 'infectados']\n",
      "['rojos', 'infiltrado', 'circulos', 'culturales', 'proposito', 'difundir', 'basura', 'ideologica']\n",
      "['seudo', 'periodista', 'sigrid_bazan', 'deberia', 'despedida', 'respeto', 'periodistas', 'familiares', 'trabajaron', 'frec']\n",
      "['cuestion', 'derecha', 'srta', 'sigrid_bazan', 'quisiera', 'saber', 'pensaria', 'comodidad', 'lujos', 'acostu']\n",
      "['nuevo', 'presente', 'aguas_residuales', 'ciudades', 'italianas', 'milan', 'turin', 'diciembre']\n",
      "['premio', 'haber', 'traicionado', 'pais', 'lado_oscuro', 'organiza']\n",
      "['vicedecano', 'colegio_medico', 'peru', 'reprocho', 'huerta', 'haber', 'cuestionado', 'ivermectina', 'hidr']\n",
      "['pope', 'emeritus', 'benedict', 'will', 'celebrate', 'mass', 'with', 'ailing', 'brother', 'today', 'feast', 'during', 'first']\n",
      "['mientras', 'gente', 'muere', 'puertas', 'hospitales', 'trujillo', 'gobierno', 'regional', 'organiza', 'desfile', 'modas']\n",
      "['fuerzas', 'oscuras', 'globalista', 'alineandose']\n",
      "['will_never', 'have', 'another', 'president', 'quite', 'like', 'donald_trump']\n",
      "['sale', 'dinero', 'pintas', 'partido', 'militantes', 'hagan', 'trabajo']\n",
      "['comparacion']\n",
      "['congresista', 'pide', 'citar', 'ministro', 'alejandro_neyra', 'documental_hugo', 'blanco']\n",
      "['sigrid_bazan', 'indigna', 'george_floyd', 'defiende', 'hugo_blanco', 'minimiza', 'asesinato', 'policia', 'cualquier']\n",
      "['curwen', 'dejo', 'cuenta', 'twitter', 'dedicarse', 'enteramente', 'administrar', 'cuenta', 'general', 'aire', 'risa']\n",
      "['rancio', 'izquierda', 'peruana', 'salido', 'defender', 'mamarracho', 'propagandistico', 'comunista', 'hugo_blanco']\n",
      "['pinta', 'espontanea', 'propaganda', 'politica', 'bien', 'diseñada', 'pregunta', 'paga']\n",
      "['terrorista', 'mata', 'policia', 'heroe', 'revolucionario', 'militar', 'policia', 'mata', 'terrorista', 'violador']\n",
      "['punto', 'dice', 'dieron', 'difundiera', 'cosas', 'colegios']\n",
      "['comunicados', 'organizaciones', 'pronunciamientos', 'miles', 'personas', 'traves', 'redes_sociales', 'manifestando', 'indignacion']\n",
      "['manteniendo', 'neutralidad', 'jurado', 'designado', 'mincul', 'financiamos', 'dimos', 'incentivo', 'economico']\n",
      "['pasado']\n",
      "['forrest_gump', 'indiana', 'jones', 'posibles', 'peliculas', 'censurar', 'neoinquisicion']\n",
      "['esperemos', 'procurador', 'terrorismo', 'depende', 'presenta']\n",
      "['quieren', 'defender', 'lideres', 'condenados', 'asesinar', 'policias', 'haganlo', 'plata', 'dinero']\n",
      "['policias', 'capturaron', 'peligrosos', 'terroristas', 'indignados', 'documental', 'ensalza', 'asesino', 'policias']\n",
      "['mejor', 'quedado', 'callados', 'mincul', 'cueva', 'comunistas']\n",
      "['grupo', 'senadores', 'republicanos', 'unidos', 'presentaron', 'miercoles', 'proyecto', 'castigar']\n",
      "['corrupción', 'detallada', 'investigacion', 'portal', 'lima', 'gris', 'acerca', 'luis', 'rivera', 'talledo', 'swing', 'ministerio']\n",
      "['ministros', 'pasado', 'gobierno', 'lujo', 'inauguro', 'continuo', 'suplente', 'vizcarra', 'improvisacion', 'ineficie']\n",
      "['sector', 'politico', 'justifica', 'cultura', 'gaste', 'difundir', 'documental', 'propagandistico', 'personaje']\n",
      "['vivan', 'mermeencuestas']\n",
      "['futbolista', 'demagogo', 'populista', 'sospechoso', 'homicidio', 'violacion', 'caviar', 'dispuesto', 'destruir', 'pais', 'peru', 'parece', 'vocacion', 'suicida']\n",
      "['reina', 'comodonas', 'defendiendo', 'asesino', 'hugo_blanco', 'terroristas', 'homicidas', 'careta', 'revolucionarios', 'despreciado', 'aburguesada']\n",
      "['quiere', 'impedir', 'pueblo', 'memoria', 'sino', 'engañen', 'asesino', 'terrorista', 'puede', 'convertir', 'ejemplo', 'heroe', 'sera', 'homicida', 'enemigo', 'pueblo', 'peruano']\n",
      "['solo', 'conocen', 'bien', 'cosas', 'domestican']\n",
      "['funerales', 'sargento', 'guardia', 'civil', 'asesinado', 'hugo_blanco', 'banda', 'comunista']\n",
      "['olvides', 'bono', 'suegro', 'millones']\n",
      "['indigno', 'gasto', 'pelicula', 'asesino', 'policias']\n",
      "['seguirán', 'ciegos', 'sordos', 'mudos']\n",
      "['quitando', 'derechos_fundamentales', 'pretexto', 'pandemia', 'objetivos', 'entorpecer', 'proximo', 'proceso', 'elector']\n",
      "['documental', 'profundo', 'hugo_blanco', 'costo', 'arcas', 'soles', 'documental']\n",
      "['imbecilidad', 'sometimiento', 'progreprejuicios', 'limites', 'quaker', 'retirara', 'mercado', 'marca', 'años', 'considerarla', 'racista']\n",
      "['puede', 'esperar', 'cura', 'apostata', 'sino', 'tambien', 'traicione', 'pais', 'defienda', 'asesinos', 'terroristas']\n",
      "['puede', 'esperar', 'cura', 'apostata', 'sino', 'tambien', 'traicione', 'pais', 'defienda', 'asesinos']\n",
      "['ninguna', 'feminista', 'pais', 'capaz', 'publicar', 'barbaridad', 'video', 'españa']\n",
      "['pasa', 'viva', 'antifa']\n",
      "['acerca', 'gritos', 'traves', 'abeja']\n"
     ]
    }
   ],
   "source": [
    "orientacion='der'\n",
    "serie_tmp=orientacion_tweets_df_dict[orientacion].text_prep.apply(lambda txt:txt.split())\n",
    "for a in range(200):\n",
    "    print(bigram[serie_tmp[a]])"
   ]
  },
  {
   "cell_type": "code",
   "execution_count": 230,
   "metadata": {
    "colab": {},
    "colab_type": "code",
    "id": "rUBrFFkpywNW"
   },
   "outputs": [],
   "source": [
    "serie_tmp=all_tweets_db.text_tok\n",
    "\n",
    "dictionary = corpora.Dictionary(serie_tmp)\n",
    "corpus = [dictionary.doc2bow(text) for text in  serie_tmp]"
   ]
  },
  {
   "cell_type": "code",
   "execution_count": 377,
   "metadata": {},
   "outputs": [],
   "source": [
    "def evaluate_graph(dictionary, corpus, texts, limit):\n",
    "    \"\"\"\n",
    "    Function to display num_topics - LDA graph using c_v coherence\n",
    "    \n",
    "    Parameters:\n",
    "    ----------\n",
    "    dictionary : Gensim dictionary\n",
    "    corpus : Gensim corpus\n",
    "    limit : topic limit\n",
    "    \n",
    "    Returns:\n",
    "    -------\n",
    "    lm_list : List of LDA topic models\n",
    "    c_v : Coherence values corresponding to the LDA model with respective number of topics\n",
    "    \"\"\"\n",
    "    c_v = []\n",
    "    lm_list = []\n",
    "    for num_topics in range(1, limit):\n",
    "        lm = LdaModel(corpus=corpus, num_topics=num_topics, id2word=dictionary)\n",
    "        lm_list.append(lm)\n",
    "        cm = CoherenceModel(model=lm, texts=texts, dictionary=dictionary, coherence='c_v')\n",
    "        c_v.append(cm.get_coherence())\n",
    "        \n",
    "    # Show graph\n",
    "    x = range(1, limit)\n",
    "    plt.plot(x, c_v)\n",
    "    plt.xlabel(\"num_topics\")\n",
    "    plt.ylabel(\"Coherence score\")\n",
    "    plt.legend((\"c_v\"), loc='best')\n",
    "    plt.show()\n",
    "    \n",
    "    return lm_list, c_v\n",
    "\n"
   ]
  },
  {
   "cell_type": "code",
   "execution_count": 423,
   "metadata": {},
   "outputs": [
    {
     "name": "stderr",
     "output_type": "stream",
     "text": [
      "D:\\Anaconda3\\lib\\site-packages\\gensim\\topic_coherence\\direct_confirmation_measure.py:204: RuntimeWarning: divide by zero encountered in double_scalars\n",
      "  m_lr_i = np.log(numerator / denominator)\n",
      "D:\\Anaconda3\\lib\\site-packages\\gensim\\topic_coherence\\indirect_confirmation_measure.py:323: RuntimeWarning: invalid value encountered in double_scalars\n",
      "  return cv1.T.dot(cv2)[0, 0] / (_magnitude(cv1) * _magnitude(cv2))\n"
     ]
    },
    {
     "data": {
      "image/png": "[encoded data removed]",
      "text/plain": [
       "<Figure size 432x288 with 1 Axes>"
      ]
     },
     "metadata": {
      "needs_background": "light"
     },
     "output_type": "display_data"
    },
    {
     "name": "stdout",
     "output_type": "stream",
     "text": [
      "Wall time: 17min 48s\n"
     ]
    }
   ],
   "source": [
    "%%time\n",
    "lmlist, c_v = evaluate_graph(dictionary=dictionary, corpus=corpus, texts=serie_tmp, limit=20)"
   ]
  },
  {
   "cell_type": "code",
   "execution_count": null,
   "metadata": {},
   "outputs": [],
   "source": []
  },
  {
   "cell_type": "code",
   "execution_count": 424,
   "metadata": {},
   "outputs": [
    {
     "data": {
      "image/png": "[encoded data removed]",
      "text/plain": [
       "<Figure size 432x288 with 1 Axes>"
      ]
     },
     "metadata": {
      "needs_background": "light"
     },
     "output_type": "display_data"
    },
    {
     "name": "stdout",
     "output_type": "stream",
     "text": [
      "cen\t"
     ]
    },
    {
     "data": {
      "image/png": "[encoded data removed]",
      "text/plain": [
       "<Figure size 432x288 with 1 Axes>"
      ]
     },
     "metadata": {
      "needs_background": "light"
     },
     "output_type": "display_data"
    },
    {
     "name": "stdout",
     "output_type": "stream",
     "text": [
      "cder\t"
     ]
    },
    {
     "data": {
      "image/png": "[encoded data removed]",
      "text/plain": [
       "<Figure size 432x288 with 1 Axes>"
      ]
     },
     "metadata": {
      "needs_background": "light"
     },
     "output_type": "display_data"
    },
    {
     "name": "stdout",
     "output_type": "stream",
     "text": [
      "izq\t"
     ]
    },
    {
     "name": "stderr",
     "output_type": "stream",
     "text": [
      "D:\\Anaconda3\\lib\\site-packages\\gensim\\topic_coherence\\direct_confirmation_measure.py:204: RuntimeWarning: divide by zero encountered in double_scalars\n",
      "  m_lr_i = np.log(numerator / denominator)\n",
      "D:\\Anaconda3\\lib\\site-packages\\gensim\\topic_coherence\\indirect_confirmation_measure.py:323: RuntimeWarning: invalid value encountered in double_scalars\n",
      "  return cv1.T.dot(cv2)[0, 0] / (_magnitude(cv1) * _magnitude(cv2))\n"
     ]
    },
    {
     "data": {
      "image/png": "[encoded data removed]",
      "text/plain": [
       "<Figure size 432x288 with 1 Axes>"
      ]
     },
     "metadata": {
      "needs_background": "light"
     },
     "output_type": "display_data"
    },
    {
     "name": "stdout",
     "output_type": "stream",
     "text": [
      "cizq\t"
     ]
    },
    {
     "data": {
      "image/png": "[encoded data removed]",
      "text/plain": [
       "<Figure size 432x288 with 1 Axes>"
      ]
     },
     "metadata": {
      "needs_background": "light"
     },
     "output_type": "display_data"
    },
    {
     "name": "stdout",
     "output_type": "stream",
     "text": [
      "der\t"
     ]
    },
    {
     "name": "stderr",
     "output_type": "stream",
     "text": [
      "D:\\Anaconda3\\lib\\site-packages\\gensim\\topic_coherence\\direct_confirmation_measure.py:204: RuntimeWarning: divide by zero encountered in double_scalars\n",
      "  m_lr_i = np.log(numerator / denominator)\n",
      "D:\\Anaconda3\\lib\\site-packages\\gensim\\topic_coherence\\indirect_confirmation_measure.py:323: RuntimeWarning: invalid value encountered in double_scalars\n",
      "  return cv1.T.dot(cv2)[0, 0] / (_magnitude(cv1) * _magnitude(cv2))\n"
     ]
    },
    {
     "data": {
      "image/png": "[encoded data removed]",
      "text/plain": [
       "<Figure size 432x288 with 1 Axes>"
      ]
     },
     "metadata": {
      "needs_background": "light"
     },
     "output_type": "display_data"
    },
    {
     "name": "stdout",
     "output_type": "stream",
     "text": [
      "nul\tWall time: 1h 47min 36s\n"
     ]
    }
   ],
   "source": [
    "%%time\n",
    "lista_cv = []\n",
    "for orientacion in conjunto_orientacion:\n",
    "    serie_tmp=all_tweets_df.loc[all_tweets_df.Orientacion==orientacion].text_tok\n",
    "    lmlist2, c_v2 = evaluate_graph(dictionary=dictionary, corpus=corpus, texts=serie_tmp, limit=20)\n",
    "    lista_cv.append( [orientacion,lmlist2, c_v2 ] )\n",
    "    print(orientacion, end=\"\\t\")"
   ]
  },
  {
   "cell_type": "code",
   "execution_count": 425,
   "metadata": {},
   "outputs": [
    {
     "name": "stderr",
     "output_type": "stream",
     "text": [
      "D:\\Anaconda3\\lib\\site-packages\\gensim\\topic_coherence\\direct_confirmation_measure.py:204: RuntimeWarning: divide by zero encountered in double_scalars\n",
      "  m_lr_i = np.log(numerator / denominator)\n",
      "D:\\Anaconda3\\lib\\site-packages\\gensim\\topic_coherence\\indirect_confirmation_measure.py:323: RuntimeWarning: invalid value encountered in double_scalars\n",
      "  return cv1.T.dot(cv2)[0, 0] / (_magnitude(cv1) * _magnitude(cv2))\n"
     ]
    },
    {
     "data": {
      "image/png": "[encoded data removed]",
      "text/plain": [
       "<Figure size 432x288 with 1 Axes>"
      ]
     },
     "metadata": {
      "needs_background": "light"
     },
     "output_type": "display_data"
    },
    {
     "name": "stdout",
     "output_type": "stream",
     "text": [
      "ppc\t"
     ]
    },
    {
     "name": "stderr",
     "output_type": "stream",
     "text": [
      "D:\\Anaconda3\\lib\\site-packages\\gensim\\topic_coherence\\direct_confirmation_measure.py:204: RuntimeWarning: divide by zero encountered in double_scalars\n",
      "  m_lr_i = np.log(numerator / denominator)\n",
      "D:\\Anaconda3\\lib\\site-packages\\gensim\\topic_coherence\\indirect_confirmation_measure.py:323: RuntimeWarning: invalid value encountered in double_scalars\n",
      "  return cv1.T.dot(cv2)[0, 0] / (_magnitude(cv1) * _magnitude(cv2))\n"
     ]
    },
    {
     "data": {
      "image/png": "[encoded data removed]",
      "text/plain": [
       "<Figure size 432x288 with 1 Axes>"
      ]
     },
     "metadata": {
      "needs_background": "light"
     },
     "output_type": "display_data"
    },
    {
     "name": "stdout",
     "output_type": "stream",
     "text": [
      "pnp\t"
     ]
    },
    {
     "data": {
      "image/png": "[encoded data removed]",
      "text/plain": [
       "<Figure size 432x288 with 1 Axes>"
      ]
     },
     "metadata": {
      "needs_background": "light"
     },
     "output_type": "display_data"
    },
    {
     "name": "stdout",
     "output_type": "stream",
     "text": [
      "fa\t"
     ]
    },
    {
     "name": "stderr",
     "output_type": "stream",
     "text": [
      "D:\\Anaconda3\\lib\\site-packages\\gensim\\topic_coherence\\direct_confirmation_measure.py:204: RuntimeWarning: divide by zero encountered in double_scalars\n",
      "  m_lr_i = np.log(numerator / denominator)\n",
      "D:\\Anaconda3\\lib\\site-packages\\gensim\\topic_coherence\\indirect_confirmation_measure.py:323: RuntimeWarning: invalid value encountered in double_scalars\n",
      "  return cv1.T.dot(cv2)[0, 0] / (_magnitude(cv1) * _magnitude(cv2))\n"
     ]
    },
    {
     "data": {
      "image/png": "[encoded data removed]",
      "text/plain": [
       "<Figure size 432x288 with 1 Axes>"
      ]
     },
     "metadata": {
      "needs_background": "light"
     },
     "output_type": "display_data"
    },
    {
     "name": "stdout",
     "output_type": "stream",
     "text": [
      "mil\t"
     ]
    },
    {
     "ename": "KeyboardInterrupt",
     "evalue": "",
     "output_type": "error",
     "traceback": [
      "\u001b[1;31m---------------------------------------------------------------------------\u001b[0m",
      "\u001b[1;31mKeyboardInterrupt\u001b[0m                         Traceback (most recent call last)",
      "\u001b[1;32m<timed exec>\u001b[0m in \u001b[0;36m<module>\u001b[1;34m\u001b[0m\n",
      "\u001b[1;32m<ipython-input-377-be57f8957884>\u001b[0m in \u001b[0;36mevaluate_graph\u001b[1;34m(dictionary, corpus, texts, limit)\u001b[0m\n\u001b[0;32m     17\u001b[0m     \u001b[0mlm_list\u001b[0m \u001b[1;33m=\u001b[0m \u001b[1;33m[\u001b[0m\u001b[1;33m]\u001b[0m\u001b[1;33m\u001b[0m\u001b[1;33m\u001b[0m\u001b[0m\n\u001b[0;32m     18\u001b[0m     \u001b[1;32mfor\u001b[0m \u001b[0mnum_topics\u001b[0m \u001b[1;32min\u001b[0m \u001b[0mrange\u001b[0m\u001b[1;33m(\u001b[0m\u001b[1;36m1\u001b[0m\u001b[1;33m,\u001b[0m \u001b[0mlimit\u001b[0m\u001b[1;33m)\u001b[0m\u001b[1;33m:\u001b[0m\u001b[1;33m\u001b[0m\u001b[1;33m\u001b[0m\u001b[0m\n\u001b[1;32m---> 19\u001b[1;33m         \u001b[0mlm\u001b[0m \u001b[1;33m=\u001b[0m \u001b[0mLdaModel\u001b[0m\u001b[1;33m(\u001b[0m\u001b[0mcorpus\u001b[0m\u001b[1;33m=\u001b[0m\u001b[0mcorpus\u001b[0m\u001b[1;33m,\u001b[0m \u001b[0mnum_topics\u001b[0m\u001b[1;33m=\u001b[0m\u001b[0mnum_topics\u001b[0m\u001b[1;33m,\u001b[0m \u001b[0mid2word\u001b[0m\u001b[1;33m=\u001b[0m\u001b[0mdictionary\u001b[0m\u001b[1;33m)\u001b[0m\u001b[1;33m\u001b[0m\u001b[1;33m\u001b[0m\u001b[0m\n\u001b[0m\u001b[0;32m     20\u001b[0m         \u001b[0mlm_list\u001b[0m\u001b[1;33m.\u001b[0m\u001b[0mappend\u001b[0m\u001b[1;33m(\u001b[0m\u001b[0mlm\u001b[0m\u001b[1;33m)\u001b[0m\u001b[1;33m\u001b[0m\u001b[1;33m\u001b[0m\u001b[0m\n\u001b[0;32m     21\u001b[0m         \u001b[0mcm\u001b[0m \u001b[1;33m=\u001b[0m \u001b[0mCoherenceModel\u001b[0m\u001b[1;33m(\u001b[0m\u001b[0mmodel\u001b[0m\u001b[1;33m=\u001b[0m\u001b[0mlm\u001b[0m\u001b[1;33m,\u001b[0m \u001b[0mtexts\u001b[0m\u001b[1;33m=\u001b[0m\u001b[0mtexts\u001b[0m\u001b[1;33m,\u001b[0m \u001b[0mdictionary\u001b[0m\u001b[1;33m=\u001b[0m\u001b[0mdictionary\u001b[0m\u001b[1;33m,\u001b[0m \u001b[0mcoherence\u001b[0m\u001b[1;33m=\u001b[0m\u001b[1;34m'c_v'\u001b[0m\u001b[1;33m)\u001b[0m\u001b[1;33m\u001b[0m\u001b[1;33m\u001b[0m\u001b[0m\n",
      "\u001b[1;32mD:\\Anaconda3\\lib\\site-packages\\gensim\\models\\ldamodel.py\u001b[0m in \u001b[0;36m__init__\u001b[1;34m(self, corpus, num_topics, id2word, distributed, chunksize, passes, update_every, alpha, eta, decay, offset, eval_every, iterations, gamma_threshold, minimum_probability, random_state, ns_conf, minimum_phi_value, per_word_topics, callbacks, dtype)\u001b[0m\n\u001b[0;32m    517\u001b[0m         \u001b[1;32mif\u001b[0m \u001b[0mcorpus\u001b[0m \u001b[1;32mis\u001b[0m \u001b[1;32mnot\u001b[0m \u001b[1;32mNone\u001b[0m\u001b[1;33m:\u001b[0m\u001b[1;33m\u001b[0m\u001b[1;33m\u001b[0m\u001b[0m\n\u001b[0;32m    518\u001b[0m             \u001b[0muse_numpy\u001b[0m \u001b[1;33m=\u001b[0m \u001b[0mself\u001b[0m\u001b[1;33m.\u001b[0m\u001b[0mdispatcher\u001b[0m \u001b[1;32mis\u001b[0m \u001b[1;32mnot\u001b[0m \u001b[1;32mNone\u001b[0m\u001b[1;33m\u001b[0m\u001b[1;33m\u001b[0m\u001b[0m\n\u001b[1;32m--> 519\u001b[1;33m             \u001b[0mself\u001b[0m\u001b[1;33m.\u001b[0m\u001b[0mupdate\u001b[0m\u001b[1;33m(\u001b[0m\u001b[0mcorpus\u001b[0m\u001b[1;33m,\u001b[0m \u001b[0mchunks_as_numpy\u001b[0m\u001b[1;33m=\u001b[0m\u001b[0muse_numpy\u001b[0m\u001b[1;33m)\u001b[0m\u001b[1;33m\u001b[0m\u001b[1;33m\u001b[0m\u001b[0m\n\u001b[0m\u001b[0;32m    520\u001b[0m \u001b[1;33m\u001b[0m\u001b[0m\n\u001b[0;32m    521\u001b[0m     \u001b[1;32mdef\u001b[0m \u001b[0minit_dir_prior\u001b[0m\u001b[1;33m(\u001b[0m\u001b[0mself\u001b[0m\u001b[1;33m,\u001b[0m \u001b[0mprior\u001b[0m\u001b[1;33m,\u001b[0m \u001b[0mname\u001b[0m\u001b[1;33m)\u001b[0m\u001b[1;33m:\u001b[0m\u001b[1;33m\u001b[0m\u001b[1;33m\u001b[0m\u001b[0m\n",
      "\u001b[1;32mD:\\Anaconda3\\lib\\site-packages\\gensim\\models\\ldamodel.py\u001b[0m in \u001b[0;36mupdate\u001b[1;34m(self, corpus, chunksize, decay, offset, passes, update_every, eval_every, iterations, gamma_threshold, chunks_as_numpy)\u001b[0m\n\u001b[0;32m    978\u001b[0m                         \u001b[0mpass_\u001b[0m\u001b[1;33m,\u001b[0m \u001b[0mchunk_no\u001b[0m \u001b[1;33m*\u001b[0m \u001b[0mchunksize\u001b[0m \u001b[1;33m+\u001b[0m \u001b[0mlen\u001b[0m\u001b[1;33m(\u001b[0m\u001b[0mchunk\u001b[0m\u001b[1;33m)\u001b[0m\u001b[1;33m,\u001b[0m \u001b[0mlencorpus\u001b[0m\u001b[1;33m\u001b[0m\u001b[1;33m\u001b[0m\u001b[0m\n\u001b[0;32m    979\u001b[0m                     )\n\u001b[1;32m--> 980\u001b[1;33m                     \u001b[0mgammat\u001b[0m \u001b[1;33m=\u001b[0m \u001b[0mself\u001b[0m\u001b[1;33m.\u001b[0m\u001b[0mdo_estep\u001b[0m\u001b[1;33m(\u001b[0m\u001b[0mchunk\u001b[0m\u001b[1;33m,\u001b[0m \u001b[0mother\u001b[0m\u001b[1;33m)\u001b[0m\u001b[1;33m\u001b[0m\u001b[1;33m\u001b[0m\u001b[0m\n\u001b[0m\u001b[0;32m    981\u001b[0m \u001b[1;33m\u001b[0m\u001b[0m\n\u001b[0;32m    982\u001b[0m                     \u001b[1;32mif\u001b[0m \u001b[0mself\u001b[0m\u001b[1;33m.\u001b[0m\u001b[0moptimize_alpha\u001b[0m\u001b[1;33m:\u001b[0m\u001b[1;33m\u001b[0m\u001b[1;33m\u001b[0m\u001b[0m\n",
      "\u001b[1;32mD:\\Anaconda3\\lib\\site-packages\\gensim\\models\\ldamodel.py\u001b[0m in \u001b[0;36mdo_estep\u001b[1;34m(self, chunk, state)\u001b[0m\n\u001b[0;32m    740\u001b[0m         \u001b[1;32mif\u001b[0m \u001b[0mstate\u001b[0m \u001b[1;32mis\u001b[0m \u001b[1;32mNone\u001b[0m\u001b[1;33m:\u001b[0m\u001b[1;33m\u001b[0m\u001b[1;33m\u001b[0m\u001b[0m\n\u001b[0;32m    741\u001b[0m             \u001b[0mstate\u001b[0m \u001b[1;33m=\u001b[0m \u001b[0mself\u001b[0m\u001b[1;33m.\u001b[0m\u001b[0mstate\u001b[0m\u001b[1;33m\u001b[0m\u001b[1;33m\u001b[0m\u001b[0m\n\u001b[1;32m--> 742\u001b[1;33m         \u001b[0mgamma\u001b[0m\u001b[1;33m,\u001b[0m \u001b[0msstats\u001b[0m \u001b[1;33m=\u001b[0m \u001b[0mself\u001b[0m\u001b[1;33m.\u001b[0m\u001b[0minference\u001b[0m\u001b[1;33m(\u001b[0m\u001b[0mchunk\u001b[0m\u001b[1;33m,\u001b[0m \u001b[0mcollect_sstats\u001b[0m\u001b[1;33m=\u001b[0m\u001b[1;32mTrue\u001b[0m\u001b[1;33m)\u001b[0m\u001b[1;33m\u001b[0m\u001b[1;33m\u001b[0m\u001b[0m\n\u001b[0m\u001b[0;32m    743\u001b[0m         \u001b[0mstate\u001b[0m\u001b[1;33m.\u001b[0m\u001b[0msstats\u001b[0m \u001b[1;33m+=\u001b[0m \u001b[0msstats\u001b[0m\u001b[1;33m\u001b[0m\u001b[1;33m\u001b[0m\u001b[0m\n\u001b[0;32m    744\u001b[0m         \u001b[0mstate\u001b[0m\u001b[1;33m.\u001b[0m\u001b[0mnumdocs\u001b[0m \u001b[1;33m+=\u001b[0m \u001b[0mgamma\u001b[0m\u001b[1;33m.\u001b[0m\u001b[0mshape\u001b[0m\u001b[1;33m[\u001b[0m\u001b[1;36m0\u001b[0m\u001b[1;33m]\u001b[0m  \u001b[1;31m# avoids calling len(chunk) on a generator\u001b[0m\u001b[1;33m\u001b[0m\u001b[1;33m\u001b[0m\u001b[0m\n",
      "\u001b[1;32mD:\\Anaconda3\\lib\\site-packages\\gensim\\models\\ldamodel.py\u001b[0m in \u001b[0;36minference\u001b[1;34m(self, chunk, collect_sstats)\u001b[0m\n\u001b[0;32m    705\u001b[0m                 \u001b[1;31m# Contribution of document d to the expected sufficient\u001b[0m\u001b[1;33m\u001b[0m\u001b[1;33m\u001b[0m\u001b[1;33m\u001b[0m\u001b[0m\n\u001b[0;32m    706\u001b[0m                 \u001b[1;31m# statistics for the M step.\u001b[0m\u001b[1;33m\u001b[0m\u001b[1;33m\u001b[0m\u001b[1;33m\u001b[0m\u001b[0m\n\u001b[1;32m--> 707\u001b[1;33m                 \u001b[0msstats\u001b[0m\u001b[1;33m[\u001b[0m\u001b[1;33m:\u001b[0m\u001b[1;33m,\u001b[0m \u001b[0mids\u001b[0m\u001b[1;33m]\u001b[0m \u001b[1;33m+=\u001b[0m \u001b[0mnp\u001b[0m\u001b[1;33m.\u001b[0m\u001b[0mouter\u001b[0m\u001b[1;33m(\u001b[0m\u001b[0mexpElogthetad\u001b[0m\u001b[1;33m.\u001b[0m\u001b[0mT\u001b[0m\u001b[1;33m,\u001b[0m \u001b[0mcts\u001b[0m \u001b[1;33m/\u001b[0m \u001b[0mphinorm\u001b[0m\u001b[1;33m)\u001b[0m\u001b[1;33m\u001b[0m\u001b[1;33m\u001b[0m\u001b[0m\n\u001b[0m\u001b[0;32m    708\u001b[0m \u001b[1;33m\u001b[0m\u001b[0m\n\u001b[0;32m    709\u001b[0m         \u001b[1;32mif\u001b[0m \u001b[0mlen\u001b[0m\u001b[1;33m(\u001b[0m\u001b[0mchunk\u001b[0m\u001b[1;33m)\u001b[0m \u001b[1;33m>\u001b[0m \u001b[1;36m1\u001b[0m\u001b[1;33m:\u001b[0m\u001b[1;33m\u001b[0m\u001b[1;33m\u001b[0m\u001b[0m\n",
      "\u001b[1;31mKeyboardInterrupt\u001b[0m: "
     ]
    }
   ],
   "source": [
    "%%time\n",
    "lista_cv2 = []\n",
    "for partido in conjunto_partidos:\n",
    "    serie_tmp=all_tweets_df.loc[all_tweets_df.partido==partido].text_tok\n",
    "    lmlist2, c_v2 = evaluate_graph(dictionary=dictionary, corpus=corpus, texts=serie_tmp, limit=20)\n",
    "    lista_cv2.append( [orientacion,lmlist2, c_v2 ] )\n",
    "    print(partido, end=\"\\t\")"
   ]
  },
  {
   "cell_type": "code",
   "execution_count": 426,
   "metadata": {},
   "outputs": [],
   "source": [
    "import pickle"
   ]
  },
  {
   "cell_type": "code",
   "execution_count": 85,
   "metadata": {
    "colab": {},
    "colab_type": "code",
    "id": "f4jbjm97zUE-"
   },
   "outputs": [
    {
     "name": "stdout",
     "output_type": "stream",
     "text": [
      "(0, '0.014*\"frente\" + 0.013*\"peru\" + 0.012*\"gracias\" + 0.012*\"amplio\"')\n",
      "(1, '0.011*\"fujimori\" + 0.008*\"agua\" + 0.008*\"cada\" + 0.007*\"publica\"')\n",
      "(2, '0.009*\"fujimorismo\" + 0.007*\"solo\" + 0.007*\"hace\" + 0.006*\"bien\"')\n",
      "(3, '0.009*\"salud\" + 0.009*\"trabajadores\" + 0.008*\"pais\" + 0.008*\"derechos\"')\n",
      "(4, '0.017*\"congreso\" + 0.016*\"comision\" + 0.015*\"congresista\" + 0.009*\"debe\"')\n"
     ]
    }
   ],
   "source": [
    "\n",
    "NUM_TOPICS = 10\n",
    "\n",
    "serie_tmp=all_tweets_db.text_tok\n",
    "\n",
    "dictionary = corpora.Dictionary(serie_tmp)\n",
    "corpus = [dictionary.doc2bow(text) for text in  serie_tmp]\n",
    "\n",
    "ldamodel = gensim.models.ldamodel.LdaModel(corpus, num_topics = NUM_TOPICS, id2word=dictionary, passes=15)\n",
    "topics = ldamodel.print_topics(num_words=9)\n",
    "\n",
    "for topic in topics:\n",
    "    print(topic)"
   ]
  },
  {
   "cell_type": "code",
   "execution_count": 87,
   "metadata": {},
   "outputs": [
    {
     "name": "stdout",
     "output_type": "stream",
     "text": [
      "(0, '0.014*\"frente\" + 0.013*\"peru\" + 0.012*\"gracias\" + 0.012*\"amplio\" + 0.010*\"lima\" + 0.007*\"vamos\" + 0.006*\"izquierda\" + 0.006*\"lucha\" + 0.005*\"gran\"')\n",
      "(1, '0.011*\"fujimori\" + 0.008*\"agua\" + 0.008*\"cada\" + 0.007*\"publica\" + 0.007*\"keiko\" + 0.007*\"arana\" + 0.007*\"posted\" + 0.005*\"region\" + 0.005*\"pedro\"')\n",
      "(2, '0.009*\"fujimorismo\" + 0.007*\"solo\" + 0.007*\"hace\" + 0.006*\"bien\" + 0.005*\"puede\" + 0.005*\"gente\" + 0.005*\"millones\" + 0.005*\"ahora\" + 0.004*\"tambien\"')\n",
      "(3, '0.009*\"salud\" + 0.009*\"trabajadores\" + 0.008*\"pais\" + 0.008*\"derechos\" + 0.007*\"peru\" + 0.006*\"gobierno\" + 0.006*\"educacion\" + 0.006*\"ayacucho\" + 0.005*\"nacional\"')\n",
      "(4, '0.017*\"congreso\" + 0.016*\"comision\" + 0.015*\"congresista\" + 0.009*\"debe\" + 0.008*\"presidente\" + 0.007*\"proyecto\" + 0.007*\"congresistas\" + 0.007*\"facebook\" + 0.006*\"corrupcion\"')\n"
     ]
    }
   ],
   "source": [
    "topics = ldamodel.print_topics(num_words=9)\n",
    "\n",
    "for topic in topics:\n",
    "    print(topic)"
   ]
  },
  {
   "cell_type": "markdown",
   "metadata": {
    "colab_type": "text",
    "id": "-6vAQggU0R3B"
   },
   "source": [
    "### **4. Visualización con pyLDAvis**"
   ]
  },
  {
   "cell_type": "code",
   "execution_count": 81,
   "metadata": {
    "colab": {},
    "colab_type": "code",
    "collapsed": true,
    "id": "sNM9Z-OktIRe",
    "jupyter": {
     "outputs_hidden": true
    }
   },
   "outputs": [
    {
     "data": {
      "text/html": [
       "\n",
       "<link rel=\"stylesheet\" type=\"text/css\" href=\"https://cdn.rawgit.com/bmabey/pyLDAvis/files/ldavis.v1.0.0.css\">\n",
       "\n",
       "\n",
       "<div id=\"ldavis_el1166419413779820248188147251\"></div>\n",
       "<script type=\"text/javascript\">\n",
       "\n",
       "var ldavis_el1166419413779820248188147251_data = {\"mdsDat\": {\"x\": [0.20370054391639159, -0.19154778508787595, 0.0544184118411497, -0.23858579073494535, 0.17201462006527993], \"y\": [-0.02216917785923271, 0.2570849710870287, 0.05743800917331532, -0.24579462350915007, -0.04655917889196115], \"topics\": [1, 2, 3, 4, 5], \"cluster\": [1, 1, 1, 1, 1], \"Freq\": [28.17924690246582, 15.29827880859375, 19.523414611816406, 13.11813735961914, 23.880918502807617]}, \"tinfo\": {\"Term\": [\"\", \"gracias\", \"peru\", \"popular\", \"accion\", \"lima\", \"partido\", \"hace\", \"solo\", \"bien\", \"odebrecht\", \"corrupcion\", \"apoyo\", \"a\\u00f1os\", \"toledo\", \"democracia\", \"salud\", \"congreso\", \"educacion\", \"garcia\", \"debe\", \"vizcarra\", \"fiscal\", \"adelante\", \"muchas\", \"brasil\", \"puede\", \"saludos\", \"comercio\", \"ma\\u00f1ana\", \"hace\", \"bien\", \"corrupcion\", \"vizcarra\", \"tiempo\", \"despues\", \"hizo\", \"dinero\", \"keiko\", \"venezuela\", \"fujimori\", \"creo\", \"canciller\", \"cierto\", \"decir\", \"respeto\", \"usted\", \"cambiar\", \"ministros\", \"razon\", \"meses\", \"grande\", \"futuro\", \"tres\", \"twitter\", \"ffaa\", \"maduro\", \"martin\", \"pues\", \"presidencial\", \"a\\u00f1os\", \"nunca\", \"puede\", \"gobierno\", \"presidente\", \"debe\", \"congreso\", \"ahora\", \"dice\", \"mejor\", \"pais\", \"solo\", \"siempre\", \"hacer\", \"tener\", \"peru\", \"vida\", \"politica\", \"tambien\", \"politicos\", \"\", \"gracias\", \"apoyo\", \"democracia\", \"muchas\", \"adelante\", \"saludos\", \"brasil\", \"feliz\", \"nacion\", \"estare\", \"gestion\", \"pruebas\", \"canal\", \"foto\", \"entonces\", \"hacen\", \"partes\", \"per\\u00fa\", \"juez\", \"mientras\", \"fernando\", \"palabras\", \"patria\", \"facebook\", \"cree\", \"homenaje\", \"radio\", \"vista\", \"legal\", \"hola\", \"entrevista\", \"fiscal\", \"programa\", \"defensa\", \"video\", \"equipo\", \"todas\", \"presidente\", \"popular\", \"accion\", \"lima\", \"partido\", \"odebrecht\", \"garcia\", \"comercio\", \"ma\\u00f1ana\", \"voto\", \"candidato\", \"mujeres\", \"diario\", \"republica\", \"alcalde\", \"ni\\u00f1os\", \"alan\", \"ministra\", \"lista\", \"camino\", \"queda\", \"reunion\", \"alfredo\", \"prueba\", \"juan\", \"gabinete\", \"bravo\", \"alianza\", \"tras\", \"2019\", \"morado\", \"peru\", \"belaunde\", \"candidatos\", \"vivo\", \"bancada\", \"barnechea\", \"mujer\", \"elecciones\", \"congreso\", \"2020\", \"comision\", \"gran\", \"campa\\u00f1a\", \"congresista\", \"felicitaciones\", \"a\\u00f1os\", \"vamos\", \"luis\", \"pdte\", \"jorge\", \"terroristas\", \"eeuu\", \"barata\", \"grave\", \"parlamentaria\", \"correo\", \"america\", \"china\", \"soles\", \"inmunidad\", \"declara\", \"maiman\", \"izquierda\", \"terrorista\", \"responsable\", \"butters\", \"andres\", \"enero\", \"pol\\u00edtica\", \"militar\", \"ecoteva\", \"eliminar\", \"persecuci\\u00f3n\", \"muertos\", \"guillen\", \"with\", \"latina\", \"prensa\", \"peruana\", \"reconoce\", \"fiscal\", \"dice\", \"toledo\", \"salud\", \"educacion\", \"verdad\", \"publica\", \"seguridad\", \"fiscales\", \"terrorismo\", \"noticia\", \"ministerio\", \"intereses\", \"judicial\", \"fiscalia\", \"cuidado\", \"tarde\", \"constitucional\", \"nivel\", \"mesa\", \"comunicado\", \"tampoco\", \"fujimorismo\", \"calidad\", \"control\", \"miembros\", \"trump\", \"condolencias\", \"errores\", \"desarrollo\", \"increible\", \"jueces\", \"muerte\", \"publico\", \"error\", \"solo\", \"politica\", \"justicia\", \"ministro\", \"pueblo\", \"poder\", \"peru\", \"mundo\", \"debe\", \"nacional\", \"favor\", \"pais\", \"politico\", \"estan\", \"gobierno\", \"puede\", \"personas\"], \"Freq\": [3218.0, 1745.0, 3226.0, 769.0, 748.0, 742.0, 732.0, 909.0, 1614.0, 850.0, 628.0, 774.0, 501.0, 1149.0, 598.0, 453.0, 578.0, 1695.0, 532.0, 447.0, 1106.0, 560.0, 554.0, 371.0, 371.0, 364.0, 1011.0, 359.0, 400.0, 391.0, 908.8984985351562, 849.9337158203125, 773.9750366210938, 559.8616943359375, 415.62353515625, 387.2569274902344, 325.9466247558594, 313.51983642578125, 308.96044921875, 308.0184631347656, 299.3129577636719, 275.32861328125, 291.787353515625, 260.524169921875, 240.21075439453125, 231.7913818359375, 218.95448303222656, 214.21473693847656, 212.29226684570312, 211.6077117919922, 209.2863006591797, 195.24778747558594, 195.3191375732422, 191.84226989746094, 190.2486572265625, 186.06455993652344, 185.97381591796875, 182.5271453857422, 181.1300506591797, 178.0288543701172, 904.03515625, 377.1187438964844, 692.818115234375, 770.5484619140625, 729.35009765625, 698.81982421875, 950.28759765625, 581.166259765625, 385.4963684082031, 452.38330078125, 596.6480712890625, 736.9291381835938, 392.21514892578125, 384.85369873046875, 297.7563781738281, 820.1405639648438, 325.796630859375, 487.276123046875, 372.7265625, 301.4737548828125, 3217.671630859375, 1745.1470947265625, 500.9989013671875, 453.0155334472656, 370.21966552734375, 370.30712890625, 358.9892883300781, 363.7520751953125, 327.8633117675781, 254.28121948242188, 251.61428833007812, 251.1953582763672, 247.3774871826172, 238.95387268066406, 227.57461547851562, 220.96987915039062, 217.47406005859375, 220.208984375, 210.87246704101562, 199.4006805419922, 177.2036895751953, 175.7342071533203, 163.80718994140625, 149.25421142578125, 141.82350158691406, 131.5511016845703, 129.71807861328125, 126.77293395996094, 119.15896606445312, 115.7712173461914, 331.3164367675781, 323.8110046386719, 296.6877746582031, 196.5466766357422, 202.99664306640625, 201.79649353027344, 163.5419464111328, 178.57041931152344, 192.50949096679688, 768.5189819335938, 747.4808959960938, 741.3264770507812, 732.0001220703125, 627.218994140625, 446.4950866699219, 399.2920227050781, 390.9393310546875, 345.93646240234375, 335.5129089355469, 335.0826416015625, 318.5907897949219, 311.4839782714844, 239.311279296875, 231.97842407226562, 217.42190551757812, 211.03921508789062, 201.90835571289062, 175.4627227783203, 174.63636779785156, 172.21888732910156, 171.3291015625, 168.34951782226562, 165.72683715820312, 167.2863006591797, 146.23837280273438, 144.61346435546875, 145.72181701660156, 144.6402130126953, 146.96658325195312, 1611.1187744140625, 320.6018981933594, 250.52403259277344, 339.1298828125, 268.56890869140625, 239.0562744140625, 213.43600463867188, 352.059814453125, 559.3103637695312, 202.93377685546875, 307.1210632324219, 316.755615234375, 244.2748260498047, 257.23248291015625, 223.84979248046875, 244.98751831054688, 219.83631896972656, 266.6953430175781, 245.039794921875, 222.1075897216797, 226.48272705078125, 222.76190185546875, 205.31103515625, 201.9242706298828, 176.23495483398438, 175.12887573242188, 165.8839569091797, 165.97705078125, 166.87828063964844, 165.09017944335938, 153.69366455078125, 147.5779266357422, 140.8450927734375, 134.21005249023438, 133.2510223388672, 127.09043884277344, 120.9317626953125, 120.44874572753906, 115.74496459960938, 122.01605987548828, 115.29881286621094, 116.02161407470703, 110.38471984863281, 107.68489837646484, 105.90515899658203, 102.52307891845703, 102.67747497558594, 225.96815490722656, 205.43006896972656, 140.70941162109375, 256.8432922363281, 126.89533233642578, 597.5106811523438, 577.9580688476562, 532.192626953125, 391.3282165527344, 370.50482177734375, 281.697265625, 276.6905212402344, 273.045654296875, 259.7612609863281, 250.45254516601562, 249.85581970214844, 223.13092041015625, 217.84718322753906, 211.9588623046875, 212.9232177734375, 207.66012573242188, 197.3540496826172, 193.2051544189453, 183.7143096923828, 180.53489685058594, 178.0196990966797, 173.94955444335938, 167.95509338378906, 157.5233612060547, 212.31863403320312, 152.09420776367188, 146.4971466064453, 145.7262725830078, 138.726318359375, 137.29232788085938, 182.67893981933594, 309.3351135253906, 328.0087585449219, 876.904052734375, 723.3440551757812, 410.4723815917969, 368.1343994140625, 263.984130859375, 332.50555419921875, 688.08935546875, 277.46441650390625, 407.331298828125, 299.5074462890625, 278.01287841796875, 386.3276062011719, 272.0553283691406, 277.13446044921875, 351.1321105957031, 317.6865234375, 242.04840087890625], \"Total\": [3218.0, 1745.0, 3226.0, 769.0, 748.0, 742.0, 732.0, 909.0, 1614.0, 850.0, 628.0, 774.0, 501.0, 1149.0, 598.0, 453.0, 578.0, 1695.0, 532.0, 447.0, 1106.0, 560.0, 554.0, 371.0, 371.0, 364.0, 1011.0, 359.0, 400.0, 391.0, 909.703369140625, 850.737548828125, 774.7860717773438, 560.6701049804688, 416.4270935058594, 388.0663146972656, 326.7525939941406, 314.328125, 309.7721862792969, 308.8282775878906, 300.1217956542969, 276.12860107421875, 292.6682434082031, 261.3246154785156, 241.01583862304688, 232.59933471679688, 219.7676544189453, 215.0259246826172, 213.09805297851562, 212.41139221191406, 210.08941650390625, 196.0507354736328, 196.12547302246094, 192.64767456054688, 191.05738830566406, 186.8729705810547, 186.7821502685547, 183.33523559570312, 181.9345245361328, 178.8490447998047, 1149.64404296875, 435.32171630859375, 1011.1036987304688, 1170.7110595703125, 1135.36767578125, 1106.7493896484375, 1695.75, 892.8541259765625, 512.9901733398438, 691.9595947265625, 1101.4403076171875, 1614.435546875, 587.306396484375, 572.4174194335938, 381.60955810546875, 3226.267822265625, 470.2987060546875, 1376.8751220703125, 772.1814575195312, 425.7076416015625, 3218.47119140625, 1745.952880859375, 501.80987548828125, 453.838623046875, 371.0265808105469, 371.11907958984375, 359.80718994140625, 364.5829162597656, 328.6717834472656, 255.0950164794922, 252.4208984375, 252.00836181640625, 248.19729614257812, 239.76271057128906, 228.3867645263672, 221.80111694335938, 218.29464721679688, 221.04441833496094, 211.68653869628906, 200.21507263183594, 178.0195770263672, 176.5500946044922, 164.61866760253906, 150.0767822265625, 142.6340789794922, 132.38011169433594, 130.5387725830078, 127.58199310302734, 119.98023986816406, 116.57958984375, 389.1022033691406, 451.6158142089844, 554.135498046875, 279.36029052734375, 318.8052978515625, 341.3880310058594, 233.4853515625, 483.8221435546875, 1135.36767578125, 769.3295288085938, 748.2937622070312, 742.13671875, 732.8193969726562, 628.0479736328125, 447.30560302734375, 400.1125183105469, 391.75323486328125, 346.7521667480469, 336.3222351074219, 335.8982238769531, 319.41571044921875, 312.2998046875, 240.1208038330078, 232.8002166748047, 218.2338104248047, 211.86105346679688, 202.72027587890625, 176.2811279296875, 175.45286560058594, 173.0290985107422, 172.1613006591797, 169.16893005371094, 166.5389404296875, 168.1085968017578, 147.05230712890625, 145.42251586914062, 146.5410614013672, 145.45852661132812, 147.80845642089844, 3226.267822265625, 411.18743896484375, 299.5317687988281, 450.05157470703125, 331.64447021484375, 286.85992431640625, 253.75796508789062, 604.6472778320312, 1695.75, 246.2701416015625, 610.6762084960938, 788.3082275390625, 472.5123596191406, 600.138916015625, 352.87945556640625, 1149.64404296875, 347.5472412109375, 267.50482177734375, 245.84829711914062, 222.90603637695312, 227.301025390625, 223.57044982910156, 206.1126708984375, 202.7479705810547, 177.0513153076172, 175.94570922851562, 166.68002319335938, 166.77896118164062, 167.68898010253906, 165.89785766601562, 154.48907470703125, 148.37698364257812, 141.6457977294922, 135.00975036621094, 134.05990600585938, 127.92259216308594, 121.75423431396484, 121.26957702636719, 116.53470611572266, 122.84959411621094, 116.10037994384766, 116.84695434570312, 111.18965911865234, 108.48480224609375, 106.69197845458984, 103.3098373413086, 103.47232818603516, 322.59136962890625, 337.29217529296875, 180.100830078125, 554.135498046875, 512.9901733398438, 598.3167724609375, 578.756591796875, 532.9957885742188, 392.12890625, 371.3083801269531, 282.4934997558594, 277.49407958984375, 273.8659973144531, 260.5615234375, 251.2550506591797, 250.66714477539062, 223.92822265625, 218.65560913085938, 212.7601318359375, 213.73846435546875, 208.4628448486328, 198.15469360351562, 194.01405334472656, 184.52328491210938, 181.3339385986328, 178.82485961914062, 174.7699737548828, 168.75180053710938, 158.3321533203125, 213.4149932861328, 152.9137725830078, 147.29714965820312, 146.52459716796875, 139.52780151367188, 138.08871459960938, 184.39134216308594, 330.324951171875, 397.1736145019531, 1614.435546875, 1376.8751220703125, 660.3509521484375, 688.5322875976562, 382.07989501953125, 616.875244140625, 3226.267822265625, 461.7624206542969, 1106.7493896484375, 555.8643798828125, 466.11566162109375, 1101.4403076171875, 472.46478271484375, 517.4810180664062, 1170.7110595703125, 1011.1036987304688, 589.2835693359375], \"Category\": [\"Default\", \"Default\", \"Default\", \"Default\", \"Default\", \"Default\", \"Default\", \"Default\", \"Default\", \"Default\", \"Default\", \"Default\", \"Default\", \"Default\", \"Default\", \"Default\", \"Default\", \"Default\", \"Default\", \"Default\", \"Default\", \"Default\", \"Default\", \"Default\", \"Default\", \"Default\", \"Default\", \"Default\", \"Default\", \"Default\", \"Topic1\", \"Topic1\", \"Topic1\", \"Topic1\", \"Topic1\", \"Topic1\", \"Topic1\", \"Topic1\", \"Topic1\", \"Topic1\", \"Topic1\", \"Topic1\", \"Topic1\", \"Topic1\", \"Topic1\", \"Topic1\", \"Topic1\", \"Topic1\", \"Topic1\", \"Topic1\", \"Topic1\", \"Topic1\", \"Topic1\", \"Topic1\", \"Topic1\", \"Topic1\", \"Topic1\", \"Topic1\", \"Topic1\", \"Topic1\", \"Topic1\", \"Topic1\", \"Topic1\", \"Topic1\", \"Topic1\", \"Topic1\", \"Topic1\", \"Topic1\", \"Topic1\", \"Topic1\", \"Topic1\", \"Topic1\", \"Topic1\", \"Topic1\", \"Topic1\", \"Topic1\", \"Topic1\", \"Topic1\", \"Topic1\", \"Topic1\", \"Topic2\", \"Topic2\", \"Topic2\", \"Topic2\", \"Topic2\", \"Topic2\", \"Topic2\", \"Topic2\", \"Topic2\", \"Topic2\", \"Topic2\", \"Topic2\", \"Topic2\", \"Topic2\", \"Topic2\", \"Topic2\", \"Topic2\", \"Topic2\", \"Topic2\", \"Topic2\", \"Topic2\", \"Topic2\", \"Topic2\", \"Topic2\", \"Topic2\", \"Topic2\", \"Topic2\", \"Topic2\", \"Topic2\", \"Topic2\", \"Topic2\", \"Topic2\", \"Topic2\", \"Topic2\", \"Topic2\", \"Topic2\", \"Topic2\", \"Topic2\", \"Topic2\", \"Topic3\", \"Topic3\", \"Topic3\", \"Topic3\", \"Topic3\", \"Topic3\", \"Topic3\", \"Topic3\", \"Topic3\", \"Topic3\", \"Topic3\", \"Topic3\", \"Topic3\", \"Topic3\", \"Topic3\", \"Topic3\", \"Topic3\", \"Topic3\", \"Topic3\", \"Topic3\", \"Topic3\", \"Topic3\", \"Topic3\", \"Topic3\", \"Topic3\", \"Topic3\", \"Topic3\", \"Topic3\", \"Topic3\", \"Topic3\", \"Topic3\", \"Topic3\", \"Topic3\", \"Topic3\", \"Topic3\", \"Topic3\", \"Topic3\", \"Topic3\", \"Topic3\", \"Topic3\", \"Topic3\", \"Topic3\", \"Topic3\", \"Topic3\", \"Topic3\", \"Topic3\", \"Topic3\", \"Topic4\", \"Topic4\", \"Topic4\", \"Topic4\", \"Topic4\", \"Topic4\", \"Topic4\", \"Topic4\", \"Topic4\", \"Topic4\", \"Topic4\", \"Topic4\", \"Topic4\", \"Topic4\", \"Topic4\", \"Topic4\", \"Topic4\", \"Topic4\", \"Topic4\", \"Topic4\", \"Topic4\", \"Topic4\", \"Topic4\", \"Topic4\", \"Topic4\", \"Topic4\", \"Topic4\", \"Topic4\", \"Topic4\", \"Topic4\", \"Topic4\", \"Topic4\", \"Topic4\", \"Topic4\", \"Topic4\", \"Topic5\", \"Topic5\", \"Topic5\", \"Topic5\", \"Topic5\", \"Topic5\", \"Topic5\", \"Topic5\", \"Topic5\", \"Topic5\", \"Topic5\", \"Topic5\", \"Topic5\", \"Topic5\", \"Topic5\", \"Topic5\", \"Topic5\", \"Topic5\", \"Topic5\", \"Topic5\", \"Topic5\", \"Topic5\", \"Topic5\", \"Topic5\", \"Topic5\", \"Topic5\", \"Topic5\", \"Topic5\", \"Topic5\", \"Topic5\", \"Topic5\", \"Topic5\", \"Topic5\", \"Topic5\", \"Topic5\", \"Topic5\", \"Topic5\", \"Topic5\", \"Topic5\", \"Topic5\", \"Topic5\", \"Topic5\", \"Topic5\", \"Topic5\", \"Topic5\", \"Topic5\", \"Topic5\", \"Topic5\", \"Topic5\", \"Topic5\"], \"logprob\": [30.0, 29.0, 28.0, 27.0, 26.0, 25.0, 24.0, 23.0, 22.0, 21.0, 20.0, 19.0, 18.0, 17.0, 16.0, 15.0, 14.0, 13.0, 12.0, 11.0, 10.0, 9.0, 8.0, 7.0, 6.0, 5.0, 4.0, 3.0, 2.0, 1.0, -4.849899768829346, -4.916900157928467, -5.0106000900268555, -5.334400177001953, -5.632299900054932, -5.703000068664551, -5.875400066375732, -5.9141998291015625, -5.928899765014648, -5.9319000244140625, -5.960599899291992, -6.044099807739258, -5.986100196838379, -6.099400043487549, -6.180600166320801, -6.216300010681152, -6.273200035095215, -6.295100212097168, -6.304100036621094, -6.307400226593018, -6.318399906158447, -6.387800216674805, -6.387499809265137, -6.405399799346924, -6.41379976272583, -6.435999870300293, -6.436500072479248, -6.4552001953125, -6.462900161743164, -6.480100154876709, -4.855199813842773, -5.729499816894531, -5.121300220489502, -5.014999866485596, -5.069900035858154, -5.11269998550415, -4.805300235748291, -5.297100067138672, -5.707600116729736, -5.547599792480469, -5.2708001136779785, -5.059599876403809, -5.690299987792969, -5.709199905395508, -5.965799808502197, -4.952600002288818, -5.875800132751465, -5.473299980163574, -5.741199970245361, -5.953400135040283, -2.9748001098632812, -3.586699962615967, -4.83459997177124, -4.935299873352051, -5.137199878692627, -5.136899948120117, -5.168000221252441, -5.154799938201904, -5.258699893951416, -5.512800216674805, -5.523399829864502, -5.525000095367432, -5.540299892425537, -5.574999809265137, -5.623799800872803, -5.653200149536133, -5.6691999435424805, -5.656700134277344, -5.699999809265137, -5.755899906158447, -5.873899936676025, -5.882299900054932, -5.952600002288818, -6.045599937438965, -6.096700191497803, -6.171899795532227, -6.1859002113342285, -6.208899974822998, -6.2708001136779785, -6.299600124359131, -5.248199939727783, -5.271100044250488, -5.35860013961792, -5.770299911499023, -5.738100051879883, -5.74399995803833, -5.95419979095459, -5.866300106048584, -5.791100025177002, -4.650700092315674, -4.678400039672852, -4.686699867248535, -4.6992998123168945, -4.853799819946289, -5.193699836730957, -5.3053998947143555, -5.326600074768066, -5.44890022277832, -5.479499816894531, -5.4807000160217285, -5.531199932098389, -5.553800106048584, -5.817399978637695, -5.848499774932861, -5.913300037384033, -5.9430999755859375, -5.987299919128418, -6.127699851989746, -6.132400035858154, -6.146399974822998, -6.151500225067139, -6.169099807739258, -6.184800148010254, -6.1753997802734375, -6.309899806976318, -6.321100234985352, -6.313399791717529, -6.320899963378906, -6.304900169372559, -3.910399913787842, -5.524899959564209, -5.771599769592285, -5.468699932098389, -5.702000141143799, -5.818399906158447, -5.93179988861084, -5.431300163269043, -4.968400001525879, -5.9822001457214355, -5.56790018081665, -5.5370001792907715, -5.796800136566162, -5.745100021362305, -5.884099960327148, -5.793900012969971, -5.902200222015381, -5.311399936676025, -5.396100044250488, -5.49429988861084, -5.474800109863281, -5.491399765014648, -5.572999954223633, -5.589600086212158, -5.7256999015808105, -5.73199987411499, -5.786200046539307, -5.785699844360352, -5.780200004577637, -5.790999889373779, -5.862500190734863, -5.90310001373291, -5.94980001449585, -5.9980998039245605, -6.005300045013428, -6.052599906921387, -6.10230016708374, -6.106299877166748, -6.146100044250488, -6.093400001525879, -6.150000095367432, -6.143700122833252, -6.19350004196167, -6.218299865722656, -6.235000133514404, -6.267399787902832, -6.265900135040283, -5.477099895477295, -5.572400093078613, -5.950799942016602, -5.348999977111816, -6.054100036621094, -5.103799819946289, -5.1371002197265625, -5.219600200653076, -5.5269999504089355, -5.581699848175049, -5.855800151824951, -5.873700141906738, -5.88700008392334, -5.936800003051758, -5.973299980163574, -5.9756999015808105, -6.088799953460693, -6.112800121307373, -6.140200138092041, -6.135700225830078, -6.160699844360352, -6.211599826812744, -6.232800006866455, -6.283199787139893, -6.3007001876831055, -6.314700126647949, -6.337800025939941, -6.372900009155273, -6.436999797821045, -6.138500213623047, -6.472099781036377, -6.5096001625061035, -6.514900207519531, -6.5640997886657715, -6.57450008392334, -6.288899898529053, -5.762199878692627, -5.703499794006348, -4.720200061798096, -4.912700176239014, -5.479300022125244, -5.588099956512451, -5.9207000732421875, -5.689899921417236, -4.962699890136719, -5.8709001541137695, -5.486999988555908, -5.794400215148926, -5.868899822235107, -5.539899826049805, -5.890600204467773, -5.872099876403809, -5.63539981842041, -5.735499858856201, -6.007500171661377], \"loglift\": [30.0, 29.0, 28.0, 27.0, 26.0, 25.0, 24.0, 23.0, 22.0, 21.0, 20.0, 19.0, 18.0, 17.0, 16.0, 15.0, 14.0, 13.0, 12.0, 11.0, 10.0, 9.0, 8.0, 7.0, 6.0, 5.0, 4.0, 3.0, 2.0, 1.0, 1.2656999826431274, 1.2655999660491943, 1.2654999494552612, 1.2651000022888184, 1.2647000551223755, 1.2645000219345093, 1.2640999555587769, 1.2640000581741333, 1.2640000581741333, 1.2640000581741333, 1.2639000415802002, 1.263700008392334, 1.2635999917984009, 1.2634999752044678, 1.263200044631958, 1.263100028038025, 1.2628999948501587, 1.2627999782562256, 1.2627999782562256, 1.2627999782562256, 1.2627999782562256, 1.2625000476837158, 1.2625000476837158, 1.2624000310897827, 1.2623000144958496, 1.2621999979019165, 1.2621999979019165, 1.2621999979019165, 1.2621999979019165, 1.2619999647140503, 1.0262000560760498, 1.1231000423431396, 0.8885999917984009, 0.8482999801635742, 0.8240000009536743, 0.8068000078201294, 0.6875, 0.8371999859809875, 0.98089998960495, 0.8416000008583069, 0.6535000205039978, 0.4823000133037567, 0.8628000020980835, 0.8695999979972839, 1.0184999704360962, -0.10300000011920929, 0.8995000123977661, 0.22779999673366547, 0.5382000207901001, 0.921500027179718, 1.8772000074386597, 1.8769999742507935, 1.8758000135421753, 1.875599980354309, 1.8753000497817993, 1.8752000331878662, 1.8752000331878662, 1.875100016593933, 1.875, 1.8741999864578247, 1.8741999864578247, 1.8741999864578247, 1.8740999698638916, 1.8740999698638916, 1.873900055885315, 1.8737000226974487, 1.8737000226974487, 1.8736000061035156, 1.8736000061035156, 1.8733999729156494, 1.8727999925613403, 1.8727999925613403, 1.872499942779541, 1.871899962425232, 1.8717000484466553, 1.8710999488830566, 1.8710999488830566, 1.8710999488830566, 1.8705999851226807, 1.8704999685287476, 1.7166999578475952, 1.544800043106079, 1.2526999711990356, 1.5257999897003174, 1.4259999990463257, 1.351699948310852, 1.521399974822998, 0.8806999921798706, 0.10289999842643738, 1.6325000524520874, 1.6325000524520874, 1.6325000524520874, 1.6324000358581543, 1.632200002670288, 1.631700038909912, 1.631500005722046, 1.631500005722046, 1.6311999559402466, 1.631100058555603, 1.631100058555603, 1.63100004196167, 1.6309000253677368, 1.6302000284194946, 1.6299999952316284, 1.6297999620437622, 1.629699945449829, 1.6295000314712524, 1.6289000511169434, 1.6289000511169434, 1.6289000511169434, 1.6287000179290771, 1.6287000179290771, 1.6287000179290771, 1.6287000179290771, 1.628000020980835, 1.628000020980835, 1.6279000043869019, 1.6279000043869019, 1.6277999877929688, 0.9391999840736389, 1.3846999406814575, 1.4549000263214111, 1.350600004196167, 1.4226000308990479, 1.451300024986267, 1.4605000019073486, 1.0927000045776367, 0.524399995803833, 1.440000057220459, 0.9462000131607056, 0.7218000292778015, 0.973800003528595, 0.7864000201225281, 1.1784000396728516, 0.08760000020265579, 1.1755000352859497, 2.02810001373291, 2.027899980545044, 2.027600049972534, 2.027600049972534, 2.027600049972534, 2.0272998809814453, 2.027100086212158, 2.026599884033203, 2.0264999866485596, 2.026400089263916, 2.026400089263916, 2.0262999534606934, 2.0262999534606934, 2.0260000228881836, 2.0257999897003174, 2.0255000591278076, 2.0251998901367188, 2.025099992752075, 2.024600028991699, 2.024399995803833, 2.024399995803833, 2.024399995803833, 2.024399995803833, 2.024199962615967, 2.0241000652313232, 2.023900032043457, 2.0237998962402344, 2.0237998962402344, 2.0234999656677246, 2.0234999656677246, 1.6751999855041504, 1.5353000164031982, 1.7843999862670898, 1.2621999979019165, 0.6342999935150146, 1.4306999444961548, 1.4306999444961548, 1.4306000471115112, 1.4299999475479126, 1.429900050163269, 1.4292999505996704, 1.4292000532150269, 1.4291000366210938, 1.4290000200271606, 1.4289000034332275, 1.4287999868392944, 1.4285000562667847, 1.4284000396728516, 1.4283000230789185, 1.4283000230789185, 1.4282000064849854, 1.4279999732971191, 1.427899956703186, 1.4277000427246094, 1.4277000427246094, 1.4276000261306763, 1.42739999294281, 1.42739999294281, 1.4270000457763672, 1.426900029182434, 1.4266999959945679, 1.4265999794006348, 1.4265999794006348, 1.426300048828125, 1.426300048828125, 1.4227999448776245, 1.3664000034332275, 1.2408000230789185, 0.8216999769210815, 0.7883999943733215, 0.95660001039505, 0.8059999942779541, 1.0622999668121338, 0.8141000270843506, -0.11309999972581863, 0.9226999878883362, 0.4325000047683716, 0.8137000203132629, 0.9153000116348267, 0.38440001010894775, 0.8801000118255615, 0.8076000213623047, 0.22789999842643738, 0.274399995803833, 0.5422999858856201]}, \"token.table\": {\"Topic\": [2, 3, 3, 5, 3, 2, 1, 2, 3, 4, 5, 3, 3, 3, 3, 4, 4, 2, 1, 3, 1, 3, 4, 2, 3, 1, 3, 1, 2, 3, 4, 5, 1, 3, 1, 3, 2, 1, 3, 1, 3, 4, 1, 3, 1, 3, 5, 5, 5, 1, 2, 3, 5, 1, 3, 5, 5, 5, 4, 1, 2, 1, 5, 1, 5, 1, 4, 2, 5, 2, 5, 1, 3, 1, 4, 1, 4, 5, 4, 1, 3, 5, 4, 4, 2, 2, 3, 2, 3, 1, 5, 5, 1, 2, 3, 5, 2, 2, 2, 3, 5, 3, 5, 2, 2, 1, 2, 4, 5, 5, 2, 1, 5, 1, 3, 3, 2, 1, 3, 5, 2, 1, 2, 3, 5, 1, 4, 4, 1, 2, 1, 2, 5, 1, 2, 5, 2, 5, 4, 5, 4, 4, 3, 5, 5, 2, 1, 4, 5, 1, 4, 2, 3, 3, 4, 1, 4, 1, 3, 1, 3, 4, 5, 1, 5, 2, 4, 5, 3, 1, 3, 5, 1, 3, 2, 2, 5, 4, 1, 3, 3, 1, 3, 5, 2, 2, 3, 5, 5, 3, 5, 1, 5, 3, 1, 3, 5, 2, 4, 2, 3, 2, 4, 4, 1, 2, 3, 5, 1, 3, 4, 5, 3, 4, 5, 2, 1, 2, 5, 1, 3, 5, 1, 5, 1, 2, 5, 4, 3, 3, 4, 1, 1, 2, 3, 5, 2, 5, 3, 2, 5, 3, 5, 1, 5, 1, 5, 1, 3, 2, 1, 4, 5, 3, 1, 4, 3, 5, 2, 5, 1, 2, 3, 5, 4, 1, 5, 1, 2, 3, 5, 5, 5, 1, 5, 5, 4, 4, 1, 1, 2, 3, 5, 5, 3, 1, 5, 1, 1, 1, 3, 1, 5, 1, 2, 3, 2, 3, 4, 2, 1, 3, 4, 1, 3, 4], \"Freq\": [0.9998536109924316, 0.9968476891517639, 0.824298083782196, 0.17460501194000244, 0.9982710480690002, 0.996984601020813, 0.6507222056388855, 0.00560001889243722, 0.1422404795885086, 0.0011200037552043796, 0.1993606686592102, 0.9943463802337646, 0.9953323602676392, 0.9932546019554138, 0.9970945715904236, 0.9959201812744141, 0.9938052892684937, 0.9983860850334167, 0.7863303422927856, 0.21310944855213165, 0.18694718182086945, 0.8111095428466797, 0.9946016669273376, 0.163843035697937, 0.8331592679023743, 0.21887828409671783, 0.7806658744812012, 0.9991330504417419, 0.9984011650085449, 0.9928439855575562, 0.9927878975868225, 0.9955943822860718, 0.9952288269996643, 0.9927324652671814, 0.4825270473957062, 0.5163885951042175, 0.9968189001083374, 0.9977167248725891, 0.9990419149398804, 0.16025011241436005, 0.8379745483398438, 0.9953293800354004, 0.9987577795982361, 0.9972195029258728, 0.31768062710762024, 0.5027214288711548, 0.17849065363407135, 0.9971641302108765, 0.9940242767333984, 0.2832677364349365, 0.1383013129234314, 0.42823418974876404, 0.1499652862548828, 0.5602241158485413, 0.32964766025543213, 0.109685979783535, 0.9977797269821167, 0.9955449104309082, 0.9946249723434448, 0.9989854097366333, 0.9971286058425903, 0.9959127902984619, 0.9964272975921631, 0.6315792798995972, 0.367743581533432, 0.9957851767539978, 0.9968342185020447, 0.6367523074150085, 0.36072173714637756, 0.9981521368026733, 0.9964197278022766, 0.9972522258758545, 0.9986985325813293, 0.7505016922950745, 0.24756810069084167, 0.9989560842514038, 0.9905221462249756, 0.9981316924095154, 0.9974484443664551, 0.253040075302124, 0.5821576118469238, 0.16373182833194733, 0.9927515983581543, 0.9895309805870056, 0.9963881373405457, 0.7174239754676819, 0.2812124788761139, 0.7023995518684387, 0.2955217659473419, 0.17372755706310272, 0.8258353471755981, 0.9911936521530151, 0.301460325717926, 0.08116240054368973, 0.08116240054368973, 0.5352853536605835, 0.9983325600624084, 0.995554506778717, 0.16090427339076996, 0.24242909252643585, 0.5964184999465942, 0.6347776651382446, 0.36273008584976196, 0.9979560375213623, 0.9968842267990112, 0.9953285455703735, 0.5359699726104736, 0.46378546953201294, 0.9982194900512695, 0.9970016479492188, 0.9983065128326416, 0.9962621927261353, 0.9953873157501221, 0.9942614436149597, 0.9934054613113403, 0.9970811605453491, 0.9959986805915833, 0.658574104309082, 0.04185490310192108, 0.2998178005218506, 0.9994542598724365, 0.22326292097568512, 0.16998426616191864, 0.4021269679069519, 0.20550337433815002, 0.9946404695510864, 0.996310830116272, 0.9935142397880554, 0.9992268085479736, 0.9940692782402039, 0.6725860834121704, 0.06987907737493515, 0.2568055987358093, 0.9976967573165894, 0.8506762385368347, 0.14649108052253723, 0.9958726763725281, 0.9962172508239746, 0.9945878982543945, 0.9973385334014893, 0.9954407811164856, 0.995935320854187, 0.9967638850212097, 0.9958547949790955, 0.99211585521698, 0.9939311742782593, 0.24532409012317657, 0.13174812495708466, 0.620881974697113, 0.9975072741508484, 0.9954352378845215, 0.9950283765792847, 0.9984683394432068, 0.996446967124939, 0.9981128573417664, 0.9958124756813049, 0.9974592924118042, 0.9981714487075806, 0.9980772733688354, 0.6532173156738281, 0.3034859299659729, 0.04190996289253235, 0.9947733283042908, 0.9948145151138306, 0.9979021549224854, 0.9942726492881775, 0.9930842518806458, 0.9950048923492432, 0.9959357380867004, 0.25416383147239685, 0.21059288084506989, 0.5344702005386353, 0.9948471784591675, 0.9945303797721863, 0.9972331523895264, 0.005423248279839754, 0.9924544095993042, 0.9955311417579651, 0.15763051807880402, 0.839382529258728, 0.9973258972167969, 0.38764524459838867, 0.008662463165819645, 0.5998755693435669, 0.9957073926925659, 0.12772899866104126, 0.3328149914741516, 0.5396999716758728, 0.9941727519035339, 0.996562659740448, 0.997844934463501, 0.8660261631011963, 0.13323479890823364, 0.9983313679695129, 0.5420175790786743, 0.1071324497461319, 0.35045021772384644, 0.9962418079376221, 0.994062066078186, 0.99527508020401, 0.9988818764686584, 0.9928251504898071, 0.9965494871139526, 0.9893006086349487, 0.49042603373527527, 0.022060686722397804, 0.07806088775396347, 0.41066816449165344, 0.2541636526584625, 0.4993385672569275, 0.033165257424116135, 0.21324950456619263, 0.13045069575309753, 0.6077816486358643, 0.26090139150619507, 0.9967567920684814, 0.3971629738807678, 0.06322185695171356, 0.5398173928260803, 0.3536994755268097, 0.12056285887956619, 0.5251020789146423, 0.4233119785785675, 0.5757042765617371, 0.7070580124855042, 0.07516895979642868, 0.21611075103282928, 0.9954116344451904, 0.999571681022644, 0.29759010672569275, 0.7005767226219177, 0.9952527284622192, 0.6420827507972717, 0.1699889898300171, 0.1735120713710785, 0.01409235130995512, 0.7051825523376465, 0.293527752161026, 0.9930901527404785, 0.9951760172843933, 0.9991694688796997, 0.06054643914103508, 0.9354425072669983, 0.306218683719635, 0.6909549832344055, 0.6853896379470825, 0.3145078122615814, 0.9948633909225464, 0.9974188804626465, 0.995438277721405, 0.9980632066726685, 0.7828947901725769, 0.21654535830020905, 0.9958379864692688, 0.9974232912063599, 0.9920938014984131, 0.9940524697303772, 0.9986927509307861, 0.9977566003799438, 0.9982530474662781, 0.6674540042877197, 0.16175542771816254, 0.0017026887508109212, 0.16856618225574493, 0.9958913326263428, 0.45650631189346313, 0.5432239174842834, 0.4830470681190491, 0.11137278378009796, 0.12043800950050354, 0.28490713238716125, 0.9981584548950195, 0.9965450167655945, 0.7809028625488281, 0.21749979257583618, 0.996837854385376, 0.9925209283828735, 0.994276225566864, 0.9989743828773499, 0.05993938073515892, 0.3699706792831421, 0.4009737968444824, 0.17155064642429352, 0.9994705319404602, 0.9963077902793884, 0.9966380596160889, 0.9933697581291199, 0.9944655895233154, 0.9965069890022278, 0.3654179573059082, 0.6330074667930603, 0.9973179697990417, 0.9971210956573486, 0.6931764483451843, 0.17648358643054962, 0.1297048032283783, 0.5917020440101624, 0.19918683171272278, 0.20797447860240936, 0.9918299913406372, 0.1910892128944397, 0.7532470226287842, 0.05332722142338753, 0.9988048076629639, 0.9978308081626892, 0.9970008730888367], \"Term\": [\"\", \"2019\", \"2020\", \"2020\", \"accion\", \"adelante\", \"ahora\", \"ahora\", \"ahora\", \"ahora\", \"ahora\", \"alan\", \"alcalde\", \"alfredo\", \"alianza\", \"america\", \"andres\", \"apoyo\", \"a\\u00f1os\", \"a\\u00f1os\", \"bancada\", \"bancada\", \"barata\", \"barnechea\", \"barnechea\", \"belaunde\", \"belaunde\", \"bien\", \"brasil\", \"bravo\", \"butters\", \"calidad\", \"cambiar\", \"camino\", \"campa\\u00f1a\", \"campa\\u00f1a\", \"canal\", \"canciller\", \"candidato\", \"candidatos\", \"candidatos\", \"china\", \"cierto\", \"comercio\", \"comision\", \"comision\", \"comision\", \"comunicado\", \"condolencias\", \"congresista\", \"congresista\", \"congresista\", \"congresista\", \"congreso\", \"congreso\", \"congreso\", \"constitucional\", \"control\", \"correo\", \"corrupcion\", \"cree\", \"creo\", \"cuidado\", \"debe\", \"debe\", \"decir\", \"declara\", \"defensa\", \"defensa\", \"democracia\", \"desarrollo\", \"despues\", \"diario\", \"dice\", \"dice\", \"dinero\", \"ecoteva\", \"educacion\", \"eeuu\", \"elecciones\", \"elecciones\", \"elecciones\", \"eliminar\", \"enero\", \"entonces\", \"entrevista\", \"entrevista\", \"equipo\", \"equipo\", \"error\", \"error\", \"errores\", \"estan\", \"estan\", \"estan\", \"estan\", \"estare\", \"facebook\", \"favor\", \"favor\", \"favor\", \"felicitaciones\", \"felicitaciones\", \"feliz\", \"fernando\", \"ffaa\", \"fiscal\", \"fiscal\", \"fiscales\", \"fiscalia\", \"foto\", \"fujimori\", \"fujimorismo\", \"futuro\", \"gabinete\", \"garcia\", \"gestion\", \"gobierno\", \"gobierno\", \"gobierno\", \"gracias\", \"gran\", \"gran\", \"gran\", \"gran\", \"grande\", \"grave\", \"guillen\", \"hace\", \"hacen\", \"hacer\", \"hacer\", \"hacer\", \"hizo\", \"hola\", \"hola\", \"homenaje\", \"increible\", \"inmunidad\", \"intereses\", \"izquierda\", \"jorge\", \"juan\", \"judicial\", \"jueces\", \"juez\", \"justicia\", \"justicia\", \"justicia\", \"keiko\", \"latina\", \"legal\", \"lima\", \"lista\", \"luis\", \"maduro\", \"maiman\", \"martin\", \"ma\\u00f1ana\", \"mejor\", \"mejor\", \"mejor\", \"mesa\", \"meses\", \"miembros\", \"mientras\", \"militar\", \"ministerio\", \"ministra\", \"ministro\", \"ministro\", \"ministro\", \"ministros\", \"morado\", \"muchas\", \"muerte\", \"muerte\", \"muertos\", \"mujer\", \"mujer\", \"mujeres\", \"mundo\", \"mundo\", \"mundo\", \"nacion\", \"nacional\", \"nacional\", \"nacional\", \"nivel\", \"ni\\u00f1os\", \"noticia\", \"nunca\", \"nunca\", \"odebrecht\", \"pais\", \"pais\", \"pais\", \"palabras\", \"parlamentaria\", \"partes\", \"partido\", \"patria\", \"pdte\", \"persecuci\\u00f3n\", \"personas\", \"personas\", \"personas\", \"personas\", \"peru\", \"peru\", \"peru\", \"peru\", \"peruana\", \"peruana\", \"peruana\", \"per\\u00fa\", \"poder\", \"poder\", \"poder\", \"politica\", \"politica\", \"politica\", \"politico\", \"politico\", \"politicos\", \"politicos\", \"politicos\", \"pol\\u00edtica\", \"popular\", \"prensa\", \"prensa\", \"presidencial\", \"presidente\", \"presidente\", \"presidente\", \"presidente\", \"programa\", \"programa\", \"prueba\", \"pruebas\", \"publica\", \"publico\", \"publico\", \"pueblo\", \"pueblo\", \"puede\", \"puede\", \"pues\", \"queda\", \"radio\", \"razon\", \"reconoce\", \"reconoce\", \"republica\", \"respeto\", \"responsable\", \"reunion\", \"salud\", \"saludos\", \"seguridad\", \"siempre\", \"siempre\", \"siempre\", \"siempre\", \"soles\", \"solo\", \"solo\", \"tambien\", \"tambien\", \"tambien\", \"tambien\", \"tampoco\", \"tarde\", \"tener\", \"tener\", \"terrorismo\", \"terrorista\", \"terroristas\", \"tiempo\", \"todas\", \"todas\", \"todas\", \"todas\", \"toledo\", \"tras\", \"tres\", \"trump\", \"twitter\", \"usted\", \"vamos\", \"vamos\", \"venezuela\", \"verdad\", \"vida\", \"vida\", \"vida\", \"video\", \"video\", \"video\", \"vista\", \"vivo\", \"vivo\", \"vivo\", \"vizcarra\", \"voto\", \"with\"]}, \"R\": 30, \"lambda.step\": 0.01, \"plot.opts\": {\"xlab\": \"PC1\", \"ylab\": \"PC2\"}, \"topic.order\": [1, 2, 3, 4, 5]};\n",
       "\n",
       "function LDAvis_load_lib(url, callback){\n",
       "  var s = document.createElement('script');\n",
       "  s.src = url;\n",
       "  s.async = true;\n",
       "  s.onreadystatechange = s.onload = callback;\n",
       "  s.onerror = function(){console.warn(\"failed to load library \" + url);};\n",
       "  document.getElementsByTagName(\"head\")[0].appendChild(s);\n",
       "}\n",
       "\n",
       "if(typeof(LDAvis) !== \"undefined\"){\n",
       "   // already loaded: just create the visualization\n",
       "   !function(LDAvis){\n",
       "       new LDAvis(\"#\" + \"ldavis_el1166419413779820248188147251\", ldavis_el1166419413779820248188147251_data);\n",
       "   }(LDAvis);\n",
       "}else if(typeof define === \"function\" && define.amd){\n",
       "   // require.js is available: use it to load d3/LDAvis\n",
       "   require.config({paths: {d3: \"https://cdnjs.cloudflare.com/ajax/libs/d3/3.5.5/d3.min\"}});\n",
       "   require([\"d3\"], function(d3){\n",
       "      window.d3 = d3;\n",
       "      LDAvis_load_lib(\"https://cdn.rawgit.com/bmabey/pyLDAvis/files/ldavis.v1.0.0.js\", function(){\n",
       "        new LDAvis(\"#\" + \"ldavis_el1166419413779820248188147251\", ldavis_el1166419413779820248188147251_data);\n",
       "      });\n",
       "    });\n",
       "}else{\n",
       "    // require.js not available: dynamically load d3 & LDAvis\n",
       "    LDAvis_load_lib(\"https://cdnjs.cloudflare.com/ajax/libs/d3/3.5.5/d3.min.js\", function(){\n",
       "         LDAvis_load_lib(\"https://cdn.rawgit.com/bmabey/pyLDAvis/files/ldavis.v1.0.0.js\", function(){\n",
       "                 new LDAvis(\"#\" + \"ldavis_el1166419413779820248188147251\", ldavis_el1166419413779820248188147251_data);\n",
       "            })\n",
       "         });\n",
       "}\n",
       "</script>"
      ],
      "text/plain": [
       "<IPython.core.display.HTML object>"
      ]
     },
     "execution_count": 81,
     "metadata": {},
     "output_type": "execute_result"
    }
   ],
   "source": [
    "import pyLDAvis.gensim\n",
    "lda_display = pyLDAvis.gensim.prepare(ldamodel, corpus, dictionary, sort_topics=False)\n",
    "pyLDAvis.display(lda_display)"
   ]
  },
  {
   "cell_type": "code",
   "execution_count": null,
   "metadata": {},
   "outputs": [],
   "source": [
    "    \n",
    "\n",
    "#c_tokens = Counter(politicotweets_all.split()) \n",
    "#print(len(c_tokens))\n",
    "#c_tokens.most_common(15)\n",
    "politicotweets_all = ' '.join(df_series_text_prep)\n",
    "    \n",
    "for idx,scr_name in enumerate(politicosdb_df['screen_name']): \n",
    "    df=politicosdf_dict[scr_name[1:]]\n",
    "    print(\"Usuario: \",scr_name,\" / \",politicosdb_df['nombre'].iloc[idx],\" / \",politicosdb_df['nombre_partido'].iloc[idx])\n",
    "    muestra_wordcloud(df.text_prep)"
   ]
  },
  {
   "cell_type": "code",
   "execution_count": null,
   "metadata": {},
   "outputs": [],
   "source": []
  }
 ],
 "metadata": {
  "kernelspec": {
   "display_name": "Python 3",
   "language": "python",
   "name": "python3"
  },
  "language_info": {
   "codemirror_mode": {
    "name": "ipython",
    "version": 3
   },
   "file_extension": ".py",
   "mimetype": "text/x-python",
   "name": "python",
   "nbconvert_exporter": "python",
   "pygments_lexer": "ipython3",
   "version": "3.7.7"
  }
 },
 "nbformat": 4,
 "nbformat_minor": 4
}
