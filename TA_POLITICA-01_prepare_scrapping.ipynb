{
 "cells": [
  {
   "cell_type": "markdown",
   "metadata": {},
   "source": [
    "---\n",
    "## **NOTA:** Toda la información producida durante el proyecto esta disponible en **https://drive.google.com/drive/folders/1v6ttK1kLlbDPv3gwIl_qY6QtO9HhZjMk?usp=sharing** el drive de Google: las bases de datos con los tweets descargados y procesados se encuentran como **archivos CSV** zipeados, asi como tambien los modelos de NLP (serializados con pickle).\n",
    "---\n",
    "#  **TA_POLITICA-01_prepara_scrapping.ipynb**\n",
    ">## ENTRADA:\n",
    ">## **\"lista_politicos.csv\"** : \n",
    ">## referencia compilada _a mano_ de **103 usuarios** de twitter que se van a escrapear:  Por cada _**@nombre_usuario**_ en la lista se crea el archivo **\"tweetsdb_@nombre_usario.csv\"** (Toda la data recuperada se encuentra archivada como **\"tweets_politicos_db.zip\"** )\n",
    ">## **politicos_target.csv** : \n",
    ">## por cada usuario compilado , se _anotó_ el **partido** al que pertenecen ( o nul si no tiene afiliación ) y la **orientación** política personal o del partido. Se trato de elegir usuario públicos con un mínimo de 1000 seguidores (solo 8 de 103 usuario tienen menos de 1000 seguidores)\n",
    "---\n",
    ">## SALIDA:\n",
    ">## **\"tweetsdb_@nombre_usario.csv\"**  : ( drive: **tweets_politicos_db.zip** ) todos los tweets por cada @nombre_usuario\n",
    ">## **\"politicosdb.csv\"** : ( drive: **politicos_lista_anotada.zip** )informacíon detallada de cada @nombre_usuario , como _fecha_creacion_de_la_cuenta_ , _tweets_totales_ , _numero_de_seguidores_"
   ]
  },
  {
   "cell_type": "code",
   "execution_count": 6,
   "metadata": {},
   "outputs": [
    {
     "name": "stdout",
     "output_type": "stream",
     "text": [
      "3.7.7\n"
     ]
    }
   ],
   "source": [
    "from platform import python_version\n",
    "print(python_version())"
   ]
  },
  {
   "cell_type": "code",
   "execution_count": 7,
   "metadata": {},
   "outputs": [
    {
     "data": {
      "text/plain": [
       "'3.7.7 (default, Apr 15 2020, 05:09:04) [MSC v.1916 64 bit (AMD64)]'"
      ]
     },
     "execution_count": 7,
     "metadata": {},
     "output_type": "execute_result"
    }
   ],
   "source": [
    "import pandas as pd\n",
    "import GetOldTweets3 as got\n",
    "import tweepy\n",
    "import twitter\n",
    "import json\n",
    "import re\n",
    "import sys\n",
    "import time\n",
    "import random\n",
    "import pickle\n",
    "from datetime import datetime,timedelta, date\n",
    "sys.version"
   ]
  },
  {
   "cell_type": "markdown",
   "metadata": {},
   "source": [
    "## Twitter API para recuperar la informacion de cada usuario del archivo **politicosdb.csv**\n",
    ">### Esa información la usamos luego para recuperar los tweets con Tweepy y luego\n",
    ">### con GetOldTweets3 hasta la fecha de creación de la cuenta"
   ]
  },
  {
   "cell_type": "code",
   "execution_count": 8,
   "metadata": {},
   "outputs": [],
   "source": [
    "# Cargara las credenciales \n",
    "with open(\"twitter_credentials.json\", \"r\") as file:\n",
    "    creds = json.load(file)"
   ]
  },
  {
   "cell_type": "code",
   "execution_count": 9,
   "metadata": {},
   "outputs": [],
   "source": [
    "api = twitter.Api(consumer_key=creds['CONSUMER_KEY'],\n",
    "                  consumer_secret=creds['CONSUMER_SECRET'] ,\n",
    "                  access_token_key=creds['ACCESS_TOKEN'],\n",
    "                  access_token_secret=creds['ACCESS_SECRET'])"
   ]
  },
  {
   "cell_type": "code",
   "execution_count": 10,
   "metadata": {},
   "outputs": [],
   "source": [
    "auth = tweepy.OAuthHandler(consumer_key=creds['CONSUMER_KEY'], consumer_secret=creds['CONSUMER_SECRET'])\n",
    "auth.set_access_token(creds['ACCESS_TOKEN'], creds['ACCESS_SECRET'])\n",
    "apiTweepy = tweepy.API(auth)"
   ]
  },
  {
   "cell_type": "code",
   "execution_count": 11,
   "metadata": {},
   "outputs": [],
   "source": [
    "lista_politicos_csv = \"lista_politicos.csv\"\n",
    "db_politicos_csv = \"politicosdb.csv\""
   ]
  },
  {
   "cell_type": "code",
   "execution_count": 12,
   "metadata": {},
   "outputs": [
    {
     "data": {
      "text/html": [
       "<div>\n",
       "<style scoped>\n",
       "    .dataframe tbody tr th:only-of-type {\n",
       "        vertical-align: middle;\n",
       "    }\n",
       "\n",
       "    .dataframe tbody tr th {\n",
       "        vertical-align: top;\n",
       "    }\n",
       "\n",
       "    .dataframe thead th {\n",
       "        text-align: right;\n",
       "    }\n",
       "</style>\n",
       "<table border=\"1\" class=\"dataframe\">\n",
       "  <thead>\n",
       "    <tr style=\"text-align: right;\">\n",
       "      <th></th>\n",
       "      <th>usuario_id</th>\n",
       "    </tr>\n",
       "  </thead>\n",
       "  <tbody>\n",
       "    <tr>\n",
       "      <th>0</th>\n",
       "      <td>@MarthaChavezC</td>\n",
       "    </tr>\n",
       "    <tr>\n",
       "      <th>1</th>\n",
       "      <td>@Vero_Mendoza_F</td>\n",
       "    </tr>\n",
       "    <tr>\n",
       "      <th>2</th>\n",
       "      <td>@OmarChehadeMoya</td>\n",
       "    </tr>\n",
       "    <tr>\n",
       "      <th>3</th>\n",
       "      <td>@JuanSheput</td>\n",
       "    </tr>\n",
       "    <tr>\n",
       "      <th>4</th>\n",
       "      <td>@DanielUrresti1</td>\n",
       "    </tr>\n",
       "    <tr>\n",
       "      <th>...</th>\n",
       "      <td>...</td>\n",
       "    </tr>\n",
       "    <tr>\n",
       "      <th>101</th>\n",
       "      <td>@HumbertoTYL</td>\n",
       "    </tr>\n",
       "    <tr>\n",
       "      <th>102</th>\n",
       "      <td>@rogelio_tucto</td>\n",
       "    </tr>\n",
       "    <tr>\n",
       "      <th>103</th>\n",
       "      <td>@RichardArcePeru</td>\n",
       "    </tr>\n",
       "    <tr>\n",
       "      <th>104</th>\n",
       "      <td>@ManuelDammert</td>\n",
       "    </tr>\n",
       "    <tr>\n",
       "      <th>105</th>\n",
       "      <td>@EdgarOchoaPezo</td>\n",
       "    </tr>\n",
       "  </tbody>\n",
       "</table>\n",
       "<p>106 rows × 1 columns</p>\n",
       "</div>"
      ],
      "text/plain": [
       "           usuario_id\n",
       "0      @MarthaChavezC\n",
       "1     @Vero_Mendoza_F\n",
       "2    @OmarChehadeMoya\n",
       "3         @JuanSheput\n",
       "4     @DanielUrresti1\n",
       "..                ...\n",
       "101      @HumbertoTYL\n",
       "102    @rogelio_tucto\n",
       "103  @RichardArcePeru\n",
       "104    @ManuelDammert\n",
       "105   @EdgarOchoaPezo\n",
       "\n",
       "[106 rows x 1 columns]"
      ]
     },
     "execution_count": 12,
     "metadata": {},
     "output_type": "execute_result"
    }
   ],
   "source": [
    "politicos_df = pd.read_csv(lista_politicos_csv)\n",
    "politicos_df"
   ]
  },
  {
   "cell_type": "code",
   "execution_count": null,
   "metadata": {},
   "outputs": [
    {
     "name": "stdout",
     "output_type": "stream",
     "text": [
      "Avance:1/106 Usuario:@MarthaChavezC\n",
      "Avance:2/106 Usuario:@Vero_Mendoza_F\n",
      "Avance:3/106 Usuario:@OmarChehadeMoya\n",
      "Avance:4/106 Usuario:@JuanSheput\n",
      "Avance:5/106 Usuario:@DanielUrresti1\n",
      "Avance:6/106 Usuario:@anajarav\n",
      "Avance:7/106 Usuario:@jtownsenddc\n",
      "Avance:8/106 Usuario:@IndiraHuilca\n",
      "Avance:9/106 Usuario:@UrsulaMoscoso\n",
      "Avance:10/106 Usuario:@DianaMiloslavic\n",
      "Avance:11/106 Usuario:@VicAZeballos\n",
      "Avance:12/106 Usuario:@AlbertoBelaunde\n",
      "Avance:13/106 Usuario:@leslye_lazo\n",
      "Avance:14/106 Usuario:@LuisValdezF\n",
      "Avance:15/106 Usuario:@ricardoburgaap\n",
      "Avance:16/106 Usuario:@geovanniacate\n",
      "Avance:17/106 Usuario:@EnriqueFCHA\n",
      "Avance:18/106 Usuario:@arlettecontrers\n",
      "Avance:19/106 Usuario:@MaricarmenAlvaP\n",
      "Avance:20/106 Usuario:@FabioTr_\n",
      "Avance:21/106 Usuario:@AleGarciaOviedo\n",
      "Avance:22/106 Usuario:@SegundoMendezA\n",
      "Avance:23/106 Usuario:@arturoayala_4\n",
      "Avance:24/106 Usuario:@GeneralDelAire1\n",
      "Avance:25/106 Usuario:@NormaValverdeR1\n",
      "Avance:26/106 Usuario:@sigridbazan\n",
      "Avance:27/106 Usuario:@dsalaverryv\n",
      "Avance:28/106 Usuario:@UrsulaLetonaP\n",
      "Avance:29/106 Usuario:@YeniVilcatoma2\n",
      "Avance:30/106 Usuario:@LuzSalgado_R\n"
     ]
    }
   ],
   "source": [
    "\n",
    "politicosdb_list = []\n",
    "i=1\n",
    "itot=len(politicos_df)\n",
    "for scr_name in politicos_df['usuario_id']:\n",
    "    usuario=api.GetUser(user_id=None, screen_name=scr_name[1:], include_entities=False, return_json=False)\n",
    "    fecha_creado = datetime.strptime(usuario.created_at, '%a %b %d %H:%M:%S +%G %Y').strftime(\"%Y-%m-%d\")\n",
    "    politicosdb_list.append([ usuario.id, scr_name , usuario.name, usuario.statuses_count, 0 , fecha_creado, fecha_creado, usuario.description, usuario.followers_count])\n",
    "    print(f\"Avance:{i}/{itot} Usuario:{scr_name}\")\n",
    "    i+=1\n",
    "politicosdb_df = pd.DataFrame( politicosdb_list,\n",
    "                   columns=['id','screen_name', 'nombre', 'total_tweets', 'tweets', 'fecha_creado' , 'fecha_min','descripcion', 'num_seguidores']  )\n",
    "\n",
    "politicosdb_df.to_csv(db_politicos_csv, index=False)"
   ]
  },
  {
   "cell_type": "code",
   "execution_count": null,
   "metadata": {},
   "outputs": [],
   "source": [
    "politicosdb_df"
   ]
  },
  {
   "cell_type": "markdown",
   "metadata": {},
   "source": [
    "### Usamos TWEEPY para recoger los últimos 3200 tweets.\n",
    "### Creamos un archivo .csv de tweets por cada político.\n",
    "### En el siguiente notebook agregamos los tweets mas antiguos a cada archivo .csv con GetOldTweets3"
   ]
  },
  {
   "cell_type": "code",
   "execution_count": 12,
   "metadata": {},
   "outputs": [
    {
     "name": "stdout",
     "output_type": "stream",
     "text": [
      "Usuario:@vozdelatierra (Marco Arana 🇵🇪) / Creado: 2011-08-24 / Total_tweets:72081\n",
      "Tweets recuperados->3221\r"
     ]
    },
    {
     "name": "stderr",
     "output_type": "stream",
     "text": [
      "D:\\Anaconda3\\lib\\site-packages\\pandas\\core\\indexing.py:671: SettingWithCopyWarning: \n",
      "A value is trying to be set on a copy of a slice from a DataFrame\n",
      "\n",
      "See the caveats in the documentation: https://pandas.pydata.org/pandas-docs/stable/user_guide/indexing.html#returning-a-view-versus-a-copy\n",
      "  self._setitem_with_indexer(indexer, value)\n"
     ]
    },
    {
     "name": "stdout",
     "output_type": "stream",
     "text": [
      "Tweets recuperados->3221 del 2020-06-26 hasta 2020-02-04\n",
      "3221\n",
      "Usuario:@GGG_pe (Gustavo Guerra García) / Creado: 2011-01-13 / Total_tweets:2555\n",
      "Tweets recuperados->2539 del 2020-06-26 hasta 2011-01-13\n",
      "2539\n",
      "Usuario:@JorgeMunozAP (Jorge Muñoz) / Creado: 2010-07-06 / Total_tweets:5668\n",
      "Tweets recuperados->3114 del 2020-06-26 hasta 2018-07-29\n",
      "3114\n",
      "Usuario:@MirtyVas (Mirtha Vásquez) / Creado: 2011-06-15 / Total_tweets:773\n",
      "Tweets recuperados->0772 del 2020-06-26 hasta 2011-12-16\n",
      "772\n",
      "Usuario:@AntauroHumala (Antauro Humala) / Creado: 2011-11-06 / Total_tweets:331\n",
      "Tweets recuperados->0331 del 2020-06-26 hasta 2011-12-09\n",
      "331\n",
      "Usuario:@HCevallosFlores (Hernando Cevallos) / Creado: 2016-08-09 / Total_tweets:1701\n",
      "Tweets recuperados->1684 del 2020-06-26 hasta 2016-08-19\n",
      "1684\n",
      "Usuario:@FrenteAmplioPe (Frente Amplio Perú) / Creado: 2017-12-22 / Total_tweets:7088\n",
      "Tweets recuperados->3216 del 2020-06-26 hasta 2018-06-04\n",
      "3216\n",
      "Usuario:@AccionPopular (Acción Popular) / Creado: 2009-08-20 / Total_tweets:3151\n",
      "Tweets recuperados->3118 del 2020-06-26 hasta 2009-08-21\n",
      "3118\n",
      "Usuario:@patriaroja (Patria Roja) / Creado: 2010-01-06 / Total_tweets:14998\n",
      "Tweets recuperados->3226 del 2020-06-26 hasta 2019-12-14\n",
      "3226\n",
      "Usuario:@HumbertoTYL (Humberto Morales) / Creado: 2016-08-02 / Total_tweets:4532\n",
      "Tweets recuperados->3195 del 2020-06-26 hasta 2018-01-29\n",
      "3195\n",
      "Usuario:@rogelio_tucto (Rogelio Tucto 🇵🇪) / Creado: 2016-08-14 / Total_tweets:1581\n",
      "Tweets recuperados->1578 del 2020-06-26 hasta 2016-08-19\n",
      "1578\n",
      "Usuario:@RichardArcePeru (Richard Arce) / Creado: 2009-08-05 / Total_tweets:10169\n",
      "Tweets recuperados->3209 del 2020-06-26 hasta 2019-07-27\n",
      "3209\n",
      "Usuario:@ManuelDammert (Manuel Dammert) / Creado: 2013-05-17 / Total_tweets:6629\n",
      "Tweets recuperados->3221 del 2020-06-26 hasta 2015-01-29\n",
      "3221\n",
      "Usuario:@EdgarOchoaPezo (Edgar Ochoa) / Creado: 2012-08-13 / Total_tweets:2959\n",
      "Tweets recuperados->2957 del 2020-06-26 hasta 2013-03-25\n",
      "2957\n"
     ]
    }
   ],
   "source": [
    "#usamos TWEEPY para recoger los ultimos 3200 tweets\n",
    "#porque es más rápido que GetOldTweets3 (solo para los ultimos 3200)\n",
    "\n",
    "hoy_str = date.today().strftime(\"%Y-%m-%d\")\n",
    "\n",
    "for idx,scr_name in enumerate(politicosdb_df['screen_name']):   \n",
    "\n",
    "    nombre = politicosdb_df['nombre'].iloc[idx]\n",
    "    creado = politicosdb_df['fecha_creado'].iloc[idx]\n",
    "    total_tweets = politicosdb_df['total_tweets'].iloc[idx]\n",
    "\n",
    "    cursor = tweepy.Cursor(apiTweepy.user_timeline, screen_name=scr_name,tweet_mode=\"extended\",count=200)\n",
    "    tweets_list = []\n",
    "    i = 0\n",
    "    print(f\"Usuario:{scr_name} ({nombre}) / Creado: {creado} / Total_tweets:{total_tweets}\")\n",
    "    for tw in cursor.items():\n",
    "        \n",
    "        if tw.retweeted:\n",
    "            _text = tw.retweeted_status.full_text \n",
    "        else:\n",
    "            _text = tw.full_text\n",
    "\n",
    "        text_tweet = [tw.id,\n",
    "                        tw.user.screen_name,\n",
    "                        _text,\n",
    "                        f\"{tw.created_at.year}-{tw.created_at.month}-{tw.created_at.day}\" ,\n",
    "                        tw.retweet_count,\n",
    "                        ' '.join([f\"@{txt['screen_name']}\"  for txt in tw.entities['user_mentions']] ),\n",
    "                        ' '.join([f\"#{txt['text']}\" for txt in tw.entities['hashtags']])\n",
    "                       ]\n",
    "        tweets_list.append(text_tweet)\n",
    "        i += 1\n",
    "        print(f\"Tweets recuperados->{i:04d}\", end =\"\\r\")\n",
    "        #print(text_tweet)\n",
    "   \n",
    "    end_date_str=tw.created_at.strftime(\"%Y-%m-%d\")\n",
    "    politicosdb_df['fecha_min'].iloc[idx]=end_date_str\n",
    "    politicosdb_df.to_csv(db_politicos_csv)\n",
    "    print(f\"Tweets recuperados->{i:04d} del {hoy_str} hasta {end_date_str}\")\n",
    "\n",
    "    #Creamos un dataframe para guardarlo en el disco\n",
    "    usuario_df = pd.DataFrame(tweets_list, \n",
    "                          columns = ['id','User', 'Text','Date', 'Retweets', 'Mentions', 'HashTags'])\n",
    "\n",
    "    usuario_df.to_csv(\"tweetsdb_\"+scr_name+\".csv\", index=False)\n",
    "    print(len(usuario_df))\n"
   ]
  },
  {
   "cell_type": "markdown",
   "metadata": {},
   "source": [
    "---\n",
    "## El trabajo continua en el notebook   **TA_POLITICA-02_twitterscrapping.ipynb** (GetOldTweets3)\n"
   ]
  },
  {
   "cell_type": "code",
   "execution_count": 1,
   "metadata": {},
   "outputs": [
    {
     "name": "stdout",
     "output_type": "stream",
     "text": [
      " El volumen de la unidad C es OS\n",
      " El n£mero de serie del volumen es: 1823-0BBE\n",
      "\n",
      " Directorio de C:\\Users\\Facundo\\Downloads\\Diplomado IAPUCP\\2ASRS\\TAREA_ACADEMICA\n",
      "\n",
      "26/06/2020  14:31    <DIR>          tweetsdb\n",
      "26/06/2020  08:36           634,401 tweetsdb_@aaronsalomong.csv\n",
      "26/06/2020  16:51           650,732 tweetsdb_@AlanGarciaPeru.csv\n",
      "26/06/2020  16:47           752,233 tweetsdb_@AlbertoBelaunde.csv\n",
      "26/06/2020  16:53            93,166 tweetsdb_@albertofujimori.csv\n",
      "26/06/2020  08:43           731,155 tweetsdb_@AlcortaLourdes.csv\n",
      "26/06/2020  16:47           446,739 tweetsdb_@AleGarciaOviedo.csv\n",
      "26/06/2020  16:53           762,918 tweetsdb_@amariateguinof.csv\n",
      "26/06/2020  16:47           918,136 tweetsdb_@anajarav.csv\n",
      "26/06/2020  08:43           157,185 tweetsdb_@APRAXXI.csv\n",
      "26/06/2020  16:47           722,679 tweetsdb_@arlettecontrers.csv\n",
      "26/06/2020  08:09           709,267 tweetsdb_@arturoayala_4.csv\n",
      "26/06/2020  16:53           695,400 tweetsdb_@A_Aguinaga.csv\n",
      "26/06/2020  08:38           906,116 tweetsdb_@CalinDominguezH.csv\n",
      "26/06/2020  16:53           641,055 tweetsdb_@chechechacon.csv\n",
      "26/06/2020  16:53           808,250 tweetsdb_@ColumbusOpina.csv\n",
      "26/06/2020  16:46           849,024 tweetsdb_@DanielUrresti1.csv\n",
      "26/06/2020  16:47           815,952 tweetsdb_@DianaMiloslavic.csv\n",
      "26/06/2020  08:11           289,766 tweetsdb_@dsalaverryv.csv\n",
      "26/06/2020  08:37           466,462 tweetsdb_@eddelaguila.csv\n",
      "26/06/2020  16:47           687,615 tweetsdb_@EnriqueFCHA.csv\n",
      "26/06/2020  16:51           698,347 tweetsdb_@evelinorcon.csv\n",
      "26/06/2020  16:34           469,734 tweetsdb_@FabioTr_.csv\n",
      "26/06/2020  16:52           806,364 tweetsdb_@FioreMolinelli.csv\n",
      "26/06/2020  16:52           338,049 tweetsdb_@fzavalal.csv\n",
      "26/06/2020  08:19           295,034 tweetsdb_@geluseg.csv\n",
      "26/06/2020  16:48           610,138 tweetsdb_@GeneralDelAire1.csv\n",
      "26/06/2020  16:47           647,336 tweetsdb_@geovanniacate.csv\n",
      "26/06/2020  16:53           819,880 tweetsdb_@gilbertvioleta.csv\n",
      "26/06/2020  16:50         1,064,632 tweetsdb_@GladysAndradeSA.csv\n",
      "26/06/2020  08:42           731,763 tweetsdb_@hectorbecerrilr.csv\n",
      "26/06/2020  08:49           654,293 tweetsdb_@hugonopo.csv\n",
      "26/06/2020  16:47           906,378 tweetsdb_@IndiraHuilca.csv\n",
      "26/06/2020  16:52           721,179 tweetsdb_@JBCPERU.csv\n",
      "26/06/2020  16:54           359,374 tweetsdb_@JBedoyaDenegri.csv\n",
      "26/06/2020  16:54           672,366 tweetsdb_@jorgevillenal.csv\n",
      "26/06/2020  08:02            12,464 tweetsdb_@jtownsenddc.csv\n",
      "26/06/2020  16:46           868,817 tweetsdb_@JuanSheput.csv\n",
      "26/06/2020  16:51           675,345 tweetsdb_@JVelasquezQ.csv\n",
      "26/06/2020  08:45           620,858 tweetsdb_@JVillaStein.csv\n",
      "26/06/2020  16:53           699,174 tweetsdb_@KarinaBeteta01.csv\n",
      "26/06/2020  08:05           108,721 tweetsdb_@leslye_lazo.csv\n",
      "26/06/2020  08:39           504,069 tweetsdb_@LizbethRoblesU.csv\n",
      "26/06/2020  08:47             1,514 tweetsdb_@LourdesFloresN.csv\n",
      "26/06/2020  16:52           667,575 tweetsdb_@luchogalarreta.csv\n",
      "26/06/2020  08:38           153,996 tweetsdb_@LuchoLopezVi.csv\n",
      "26/06/2020  08:49           687,369 tweetsdb_@LuciaAlvites - copia.csv\n",
      "26/06/2020  14:07           709,976 tweetsdb_@LuciaAlvites.csv\n",
      "26/06/2020  08:41           647,726 tweetsdb_@LucianoRevoredo.csv\n",
      "26/06/2020  16:50           648,411 tweetsdb_@luissolarif.csv\n",
      "26/06/2020  08:05            96,616 tweetsdb_@LuisValdezF.csv\n",
      "26/06/2020  08:44           606,204 tweetsdb_@luis_albertoqv.csv\n",
      "26/06/2020  16:49           696,435 tweetsdb_@LuzSalgado_R.csv\n",
      "26/06/2020  16:54           767,715 tweetsdb_@MadeleineOster3.csv\n",
      "26/06/2020  08:07            62,118 tweetsdb_@MaricarmenAlvaP.csv\n",
      "26/06/2020  16:51           774,908 tweetsdb_@MarisaGlave.csv\n",
      "26/06/2020  08:47            65,684 tweetsdb_@marpereztello.csv\n",
      "26/06/2020  16:46         1,689,078 tweetsdb_@MarthaChavezC.csv\n",
      "26/06/2020  16:50           992,876 tweetsdb_@martinbelaundem.csv\n",
      "26/06/2020  16:51           670,663 tweetsdb_@Mauriciomulder.csv\n",
      "26/06/2020  08:31           339,393 tweetsdb_@melissapradell.csv\n",
      "26/06/2020  08:38           394,648 tweetsdb_@MiguelRoman_V.csv\n",
      "26/06/2020  08:48           714,540 tweetsdb_@MIKI_Torres_.csv\n",
      "26/06/2020  08:46           796,721 tweetsdb_@milytakayama.csv\n",
      "26/06/2020  08:40           646,760 tweetsdb_@nemo17molle.csv\n",
      "26/06/2020  16:48           718,491 tweetsdb_@NormaValverdeR1.csv\n",
      "26/06/2020  08:36           877,323 tweetsdb_@olopezm67.csv\n",
      "26/06/2020  16:31           330,044 tweetsdb_@OmarChehadeMoya.csv\n",
      "26/06/2020  16:53           832,770 tweetsdb_@OttoGuibovich.csv\n",
      "26/06/2020  16:53           659,528 tweetsdb_@Pedro_Olaechea.csv\n",
      "26/06/2020  16:52           766,572 tweetsdb_@reyreysincorona.csv\n",
      "26/06/2020  08:05            22,636 tweetsdb_@ricardoburgaap.csv\n",
      "26/06/2020  08:40           656,516 tweetsdb_@rlopezaliaga1.csv\n",
      "26/06/2020  08:47           630,567 tweetsdb_@RoloReategui.csv\n",
      "26/06/2020  16:54           780,312 tweetsdb_@rosamariabartra.csv\n",
      "26/06/2020  08:47           467,676 tweetsdb_@RoyVenturaA.csv\n",
      "26/06/2020  16:50           776,552 tweetsdb_@SalvadorHeresi.csv\n",
      "26/06/2020  16:48           961,819 tweetsdb_@SegundoMendezA.csv\n",
      "26/06/2020  16:50           654,579 tweetsdb_@sergiotej.csv\n",
      "26/06/2020  16:49           894,051 tweetsdb_@sigridbazan.csv\n",
      "26/06/2020  16:52           670,338 tweetsdb_@stapiab.csv\n",
      "26/06/2020  16:50           612,245 tweetsdb_@suselparedes.csv\n",
      "26/06/2020  16:49           725,840 tweetsdb_@UrsulaLetonaP.csv\n",
      "26/06/2020  08:03           235,423 tweetsdb_@UrsulaMoscoso.csv\n",
      "26/06/2020  08:44           722,412 tweetsdb_@Valderrama_En.csv\n",
      "26/06/2020  16:46           853,735 tweetsdb_@Vero_Mendoza_F.csv\n",
      "26/06/2020  16:47           673,921 tweetsdb_@VicAZeballos.csv\n",
      "26/06/2020  16:51           663,914 tweetsdb_@VictorAndresGB.csv\n",
      "26/06/2020  16:49           840,476 tweetsdb_@YeniVilcatoma2.csv\n",
      "26/06/2020  08:21                46 tweetsdb_@yonhy_lescano.csv\n",
      "26/06/2020  16:52           718,840 tweetsdb_@_zavandija.csv\n",
      "              90 archivos     55,600,118 bytes\n",
      "               1 dirs  136,092,659,712 bytes libres\n"
     ]
    }
   ],
   "source": [
    "!dir tweetsdb*"
   ]
  }
 ],
 "metadata": {
  "kernelspec": {
   "display_name": "gis",
   "language": "python",
   "name": "gis"
  },
  "language_info": {
   "codemirror_mode": {
    "name": "ipython",
    "version": 3
   },
   "file_extension": ".py",
   "mimetype": "text/x-python",
   "name": "python",
   "nbconvert_exporter": "python",
   "pygments_lexer": "ipython3",
   "version": "3.7.7"
  }
 },
 "nbformat": 4,
 "nbformat_minor": 4
}
